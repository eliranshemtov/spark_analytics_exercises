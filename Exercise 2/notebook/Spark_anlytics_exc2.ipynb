{
 "cells": [
  {
   "cell_type": "code",
   "execution_count": 1,
   "metadata": {},
   "outputs": [],
   "source": [
    "import pyspark\n",
    "import math\n",
    "import itertools\n",
    "from decimal import Decimal\n",
    "from operator import add\n",
    "sc = pyspark.SparkContext.getOrCreate()\n",
    "sqlContext = pyspark.sql.SQLContext(sc)"
   ]
  },
  {
   "cell_type": "markdown",
   "metadata": {},
   "source": [
    "# Loading the dataset as pyspark RDD of Key-value\n",
    "Where the key is the anonymous user ID and the value is the query string"
   ]
  },
  {
   "cell_type": "code",
   "execution_count": 2,
   "metadata": {
    "scrolled": true
   },
   "outputs": [
    {
     "data": {
      "text/plain": [
       "[(142, 'rentdirect.com'),\n",
       " (142, 'www.prescriptionfortime.com'),\n",
       " (142, 'staple.com'),\n",
       " (142, 'staple.com'),\n",
       " (142, 'www.newyorklawyersite.com')]"
      ]
     },
     "execution_count": 2,
     "metadata": {},
     "output_type": "execute_result"
    }
   ],
   "source": [
    "logs_rdd = sc.textFile(\"/usr/data/user-ct-test-collection-01.txt\")\n",
    "\n",
    "headers = logs_rdd.first()\n",
    "logs_rdd = logs_rdd.filter(lambda line: line != headers)\n",
    "logs_rdd = logs_rdd.map(lambda line: line.split(\"\\t\"))\n",
    "logs_rdd = logs_rdd.map(lambda line: (int(line[0]), line[1]))\n",
    "logs_rdd.take(5)"
   ]
  },
  {
   "cell_type": "markdown",
   "metadata": {},
   "source": [
    "# Calculating Support\n",
    "![](https://wikimedia.org/api/rest_v1/media/math/render/svg/1c6acacd3b17051205704b5d323c83fc737e5db1 \"Support equation\")\n",
    "<br>\n",
    "\n",
    "### General Idea: Users as transactions and queries as groceries\n",
    "All the queries that a user made will be treated as groceries bought in a transaction, <br>\n",
    "and a user will be treated as if it was a transaction. <br>\n",
    "\n",
    "### 1st step: Get query frequency across users (|X|)\n",
    "We'll do it by giving the value of 1 for each query and then reduce by key and sum <br> <br>\n",
    "Essentially, this step is about calculating **|X|** for each query, in the **\"support\"** equation <br>"
   ]
  },
  {
   "cell_type": "code",
   "execution_count": 3,
   "metadata": {},
   "outputs": [
    {
     "data": {
      "text/plain": [
       "[('mizuno.com', 6),\n",
       " ('first american chesapeake title services', 1),\n",
       " ('babycenter.com', 8),\n",
       " ('jesse mccartney', 13),\n",
       " ('kidsonlilne', 1)]"
      ]
     },
     "execution_count": 3,
     "metadata": {},
     "output_type": "execute_result"
    }
   ],
   "source": [
    "#Remove duplicates of query for a certain user\n",
    "distinct_queries = logs_rdd.distinct()\n",
    "#Count for each query - how many users made it\n",
    "query_freq = distinct_queries.map(lambda k: (k[1],1)).reduceByKey(add) # add is equal to <lambda x,y: x+y>\n",
    "query_freq.take(5)"
   ]
  },
  {
   "cell_type": "markdown",
   "metadata": {},
   "source": [
    "### 2nd Step: Get |T| - The Amount Of Users"
   ]
  },
  {
   "cell_type": "code",
   "execution_count": 4,
   "metadata": {},
   "outputs": [
    {
     "data": {
      "text/plain": [
       "65516"
      ]
     },
     "execution_count": 4,
     "metadata": {},
     "output_type": "execute_result"
    }
   ],
   "source": [
    "users_amount = logs_rdd.map(lambda record: record[0]).distinct().count()\n",
    "users_amount"
   ]
  },
  {
   "cell_type": "markdown",
   "metadata": {},
   "source": [
    "### Calculate |X| / |T| for each query X"
   ]
  },
  {
   "cell_type": "code",
   "execution_count": 5,
   "metadata": {},
   "outputs": [
    {
     "data": {
      "text/plain": [
       "[('mizuno.com', Decimal('0.00009158')),\n",
       " ('first american chesapeake title services', Decimal('0.00001526')),\n",
       " ('babycenter.com', Decimal('0.00012211')),\n",
       " ('jesse mccartney', Decimal('0.00019842')),\n",
       " ('kidsonlilne', Decimal('0.00001526')),\n",
       " ('charles drew', Decimal('0.00001526')),\n",
       " ('ft mcpherson', Decimal('0.00001526')),\n",
       " ('new a c for hyundai elantra', Decimal('0.00001526')),\n",
       " ('anticholinergic', Decimal('0.00003053')),\n",
       " ('rxonline', Decimal('0.00003053'))]"
      ]
     },
     "execution_count": 5,
     "metadata": {},
     "output_type": "execute_result"
    }
   ],
   "source": [
    "support_x = query_freq.map(lambda qf: (qf[0], round(Decimal(qf[1] / users_amount), 8)))\n",
    "support_x.take(10)"
   ]
  },
  {
   "cell_type": "markdown",
   "metadata": {},
   "source": [
    "# Calculate Confidence\n",
    "\n",
    "**For both versions** we'll perform as follows:\n",
    "1. Create a list of queries per user\n",
    "2. Sort that list of queries per user\n",
    "3. Calculate all the X & Y query pairs for each user.\n",
    "4. Set the pairs to be the new key, with value of 1 (for counting)\n",
    "5. Reduce by key to count the amount of users who queried both X & Y. ==> |xUy|\n",
    "\n",
    "\n",
    "**Version 1** follows this equation <br> \n",
    "![](https://miro.medium.com/max/1400/1*E3mNKHcudWzHySGMvo_vPg.png \"Confidence equation 1\")\n",
    "So whats left to do is to iterate over the X&Y pairs and devide their frequency in X's frequency\n",
    "\n",
    "**Version** 2 follows this equation <br>\n",
    "![](https://wikimedia.org/api/rest_v1/media/math/render/svg/90324dedc399441696116eed3658fd17c5da4329 \"Confidence equation 2\")\n",
    "\n",
    "As before, we'll treat each user ID as it was a \"transaction ID\".  <br>\n",
    "So in our case, Supp(xUy) is going to be the amount of users where both x & y queries took place, <br>\n",
    "devided by the total amount of users. <br> <br>\n",
    "\n",
    "**Supp(xUy)**\n",
    "6. Devide |xUy| by |T| which is the amount of users ==> This will give us supp(xUy)"
   ]
  },
  {
   "cell_type": "code",
   "execution_count": 6,
   "metadata": {
    "scrolled": true
   },
   "outputs": [
    {
     "data": {
      "text/plain": [
       "[(217,\n",
       "  ['mizuno.com',\n",
       "   \"p; .; p;' p; ' ;' ;';\",\n",
       "   'yahoo.com',\n",
       "   '-',\n",
       "   'susheme',\n",
       "   'united.com',\n",
       "   'bestasiancompany.com',\n",
       "   'weather.com',\n",
       "   'ask.com',\n",
       "   'vietnam',\n",
       "   'wellsfargo.com',\n",
       "   'www.ngo-quen.org',\n",
       "   'asiansexygoddess.com',\n",
       "   'www.tabiecummings.com',\n",
       "   'wanttickets.com',\n",
       "   'lottery',\n",
       "   'ameriprise.com',\n",
       "   'buddylis']),\n",
       " (1337,\n",
       "  ['cbc companies',\n",
       "   'first american chesapeake title services',\n",
       "   'ford',\n",
       "   'first american lenders advantage',\n",
       "   'www.americantitleinc.com',\n",
       "   'credit plus solutions group',\n",
       "   'www.mygeisinger.com',\n",
       "   'shamokin dam kentucky fried chicken menu',\n",
       "   'titlesourceinc',\n",
       "   'cheasapeake appraisal and settlement services',\n",
       "   'first american chesapeake',\n",
       "   'www.national-reis.com',\n",
       "   'searchtec',\n",
       "   'integrated loan services',\n",
       "   'pennsylvania real estate settlement services',\n",
       "   'www.aculinkms.com',\n",
       "   'security search and abstract',\n",
       "   'integrated real estate',\n",
       "   'michael keaton date of birth',\n",
       "   'titlesourcein.com',\n",
       "   'select business services title',\n",
       "   'sunbury pennsylvania real estate settlement services',\n",
       "   'chesapeake appraisal and settlement services',\n",
       "   'pauslandrecords.com',\n",
       "   'pa.uslandrecords.com',\n",
       "   'united one resources',\n",
       "   'fiserv',\n",
       "   'auto locator',\n",
       "   'auto locator pennsylvania',\n",
       "   'kentucky fried chicken',\n",
       "   'national real estate settlement services',\n",
       "   'uslandrecords.com',\n",
       "   'select business services',\n",
       "   'atm corporation']),\n",
       " (4781,\n",
       "  ['atlantic filters',\n",
       "   'citrus county courts',\n",
       "   'florida department of justice',\n",
       "   'garment rack',\n",
       "   'blackberry',\n",
       "   'unity band and jeanette',\n",
       "   'osteophytosis',\n",
       "   'david lee edwards',\n",
       "   'de la moussaye',\n",
       "   'personal injury lawyer',\n",
       "   'metro pcs',\n",
       "   'generators',\n",
       "   'mitty m generators',\n",
       "   'www.chicmommyshops.com',\n",
       "   'chci mommy shops',\n",
       "   'kenneth d. lemoine and judge',\n",
       "   'sun sentinal news paper',\n",
       "   'garmin gps',\n",
       "   'mortgage loans',\n",
       "   'boot stretcher',\n",
       "   'magic tilt trailer',\n",
       "   'marine speakers',\n",
       "   'tucker real estate',\n",
       "   'tucker group real estate and florida',\n",
       "   'royal wall systems',\n",
       "   'marine audio',\n",
       "   'wayne county michigan process server',\n",
       "   'judge wroble',\n",
       "   'judge wroble evaluation',\n",
       "   'david donahue',\n",
       "   'state abbreviations',\n",
       "   'palm beach county voters coalition',\n",
       "   'fltracker.int.westgroup.com',\n",
       "   'james mcdougall',\n",
       "   'achohol tobacco and firearms',\n",
       "   'howard stern',\n",
       "   'lovelylowrider',\n",
       "   'auto accident photographs',\n",
       "   'palm beach county family connection',\n",
       "   'www.dui.coml lawyer',\n",
       "   'jeanette fossas',\n",
       "   'allstate appliance',\n",
       "   'de la moussaye and christiansen',\n",
       "   'south county administrative center',\n",
       "   'www.injuryhelplline.com',\n",
       "   'www.chicmommyshop.com',\n",
       "   'website templates',\n",
       "   'www.palmbeach co',\n",
       "   'unique boat',\n",
       "   'countrywide home mortages',\n",
       "   'triton boats',\n",
       "   'florida airports',\n",
       "   'truss builders',\n",
       "   'playlands park',\n",
       "   'okeechobee county property appraiser',\n",
       "   'www.kelterco.com',\n",
       "   'line x bed liner',\n",
       "   'bobby tucker',\n",
       "   'florida licensed nurses',\n",
       "   'lee county courts',\n",
       "   'bank atlanitc',\n",
       "   'palm beach county building permits',\n",
       "   'judge arthur wroble',\n",
       "   'surgery center fees',\n",
       "   'prokat boats',\n",
       "   '-',\n",
       "   'family law',\n",
       "   'florida divrce laws',\n",
       "   'palm beach county building and zoning',\n",
       "   'jeanette fossis',\n",
       "   'david edwards and powerball lottery',\n",
       "   'jean de la moussaye and divorce',\n",
       "   'loan calculator',\n",
       "   'area code look up',\n",
       "   'master generator',\n",
       "   'www.chicmommyshopp.com',\n",
       "   'kenneth lemoine and judge',\n",
       "   'offshore financial',\n",
       "   'garmin 2010c',\n",
       "   'barbara cheives',\n",
       "   'tropical yacht sales',\n",
       "   'georgia lotery',\n",
       "   'rainer',\n",
       "   'florida department of revenue',\n",
       "   'florida boat registration',\n",
       "   'fathers day',\n",
       "   'florida department of professional regulations',\n",
       "   'citrus county couts',\n",
       "   'cowboy boots',\n",
       "   'manikins',\n",
       "   'palm beach county trial lawyers',\n",
       "   'gab robbins',\n",
       "   'palm beach county bar association',\n",
       "   'lucchese boots',\n",
       "   'personal injury law',\n",
       "   'florida divorce laws',\n",
       "   'tiger woods',\n",
       "   'jeanette union ring',\n",
       "   'unity ring and jeanette',\n",
       "   'area codes',\n",
       "   'cunningham bar association',\n",
       "   'www.edmunds.ocm',\n",
       "   'unique marine',\n",
       "   'suncoast schools credit union',\n",
       "   'code of judicial conduct',\n",
       "   'ocean financial',\n",
       "   'presidential womens center',\n",
       "   'greater yamaha',\n",
       "   'yamaha gauges',\n",
       "   'florida department of corrections',\n",
       "   'well driller',\n",
       "   'bank atlantic',\n",
       "   'body glove',\n",
       "   'department of justice',\n",
       "   'miami dade clerk of court',\n",
       "   'police radio',\n",
       "   'pro sports boats',\n",
       "   'loan payments',\n",
       "   'auto accident pictures',\n",
       "   'delray affair',\n",
       "   'david lee edwards and lottery',\n",
       "   'www.southpalmbeachbar.org',\n",
       "   'national historical society',\n",
       "   'criminal lawyer',\n",
       "   'www.injuryhelpline.com',\n",
       "   'www.chicmommyshopps.com',\n",
       "   'jerry beer and judge',\n",
       "   'frank kaster',\n",
       "   'florida lottery',\n",
       "   'palm beach county elections',\n",
       "   'palm beach county elecions',\n",
       "   'palm beach county post times',\n",
       "   'palm beach county supervisor of elections',\n",
       "   'florida code of judicial conduct',\n",
       "   'bellsouth',\n",
       "   'www.leecourt.org',\n",
       "   'lee county clerk of court',\n",
       "   'florida truss builders',\n",
       "   'star rods',\n",
       "   'royal professional builders',\n",
       "   'lucchese stingray boots',\n",
       "   'leeclerk.org',\n",
       "   'display booths',\n",
       "   'rjm builders',\n",
       "   'st judes childrens hospital',\n",
       "   'michigan process server',\n",
       "   'georgia group inc.',\n",
       "   'deal or no deal',\n",
       "   'hp photoprinters',\n",
       "   'luhrs boats',\n",
       "   'prosports boats',\n",
       "   'independent community bank',\n",
       "   'alison cushman',\n",
       "   'boot world',\n",
       "   'personal injury',\n",
       "   'divorce law',\n",
       "   'www.law.find',\n",
       "   'tiger woods jupiter island',\n",
       "   'www.royalprobuilder.com',\n",
       "   'de la moussaye and john christiansen',\n",
       "   'auto accidents',\n",
       "   'personal injury pawyer',\n",
       "   'mitm.com',\n",
       "   'st lucie county clerk of court',\n",
       "   'web sight templates',\n",
       "   'palm beach golf center',\n",
       "   'puerto rico economy',\n",
       "   'unique boat sales',\n",
       "   'intranet.pbcc.edu',\n",
       "   'palm beach post times',\n",
       "   'rinker material',\n",
       "   'catia mortgage',\n",
       "   'tire choice',\n",
       "   'georgia lottery',\n",
       "   'boot streacher',\n",
       "   'trailer plugs',\n",
       "   'butterfly lure',\n",
       "   'kelterco.com',\n",
       "   'marine speake',\n",
       "   'tucker real estate and florida',\n",
       "   'marine xm radio',\n",
       "   'whitney tower jr.',\n",
       "   'florida corporations',\n",
       "   'pillow case dress',\n",
       "   'north county surgery center florida',\n",
       "   'peter fiverson',\n",
       "   'penn-america insurance',\n",
       "   'ww.bank',\n",
       "   'palm beach boat show',\n",
       "   'florida marlins',\n",
       "   'voters coalition',\n",
       "   'fulton county georgia vital statistics',\n",
       "   'atf',\n",
       "   'mortgage calculator',\n",
       "   'florida criminal lawyer',\n",
       "   'www.southpamlbeachbar.org',\n",
       "   'de la moussaye and divorce',\n",
       "   'personal injury attorney',\n",
       "   'mary sawyers house',\n",
       "   'st lucie county property appraiser',\n",
       "   'web site templates',\n",
       "   'baby clothes',\n",
       "   'kenneth lemoine',\n",
       "   'pro kat boats',\n",
       "   'west palm beach police department',\n",
       "   'fishing charters',\n",
       "   'florida fishing charters',\n",
       "   'sailfish marina',\n",
       "   'www.rinker material',\n",
       "   'tire choice west palm beach',\n",
       "   'enterprise rental',\n",
       "   'west marine',\n",
       "   'torrey jenkins',\n",
       "   'whitney tower jr']),\n",
       " (6356,\n",
       "  ['http',\n",
       "   'www.crazy shit .com',\n",
       "   'x-men costom.com',\n",
       "   'ccbg.co',\n",
       "   'ca',\n",
       "   'cwe',\n",
       "   'www.ccbg.co',\n",
       "   'www.emphaze.com',\n",
       "   'www.ccbg.com',\n",
       "   'cam',\n",
       "   'fitnessmag.com',\n",
       "   'rad.msn.com']),\n",
       " (6993,\n",
       "  ['xylazine',\n",
       "   'socil security admin.',\n",
       "   'phonebokk',\n",
       "   'faa',\n",
       "   'fcc',\n",
       "   'ghost stories',\n",
       "   'box springs mountain reserve',\n",
       "   'hypertension',\n",
       "   'kabian park riverside county california',\n",
       "   'equestrian trails i',\n",
       "   'eti corral 6',\n",
       "   'map quest',\n",
       "   'irs',\n",
       "   'ffa',\n",
       "   'short wave licenses',\n",
       "   'prodigy trailer brakes',\n",
       "   'veterinarian horses',\n",
       "   'woodworking',\n",
       "   'eti corral 35',\n",
       "   'legend of dragoon',\n",
       "   'prado equestrian center',\n",
       "   'capital one',\n",
       "   'bank of america branches',\n",
       "   'high blood pressure',\n",
       "   'woodworking beginning projects',\n",
       "   'lake skinner park',\n",
       "   'san bernardino parks',\n",
       "   'riverside county parks',\n",
       "   'maps',\n",
       "   'american heart association',\n",
       "   'eti clubs',\n",
       "   'eti',\n",
       "   'eti corral',\n",
       "   'competitive trail riding horses',\n",
       "   'social security administration',\n",
       "   'phone book',\n",
       "   'bryant jimmy guitarist',\n",
       "   'horse trailers for sale',\n",
       "   'kia',\n",
       "   'box springs mountain reserve horse equestrian',\n",
       "   'round up weed killer']),\n",
       " (7511,\n",
       "  ['916 772-7308',\n",
       "   'flip 2 it sports',\n",
       "   'flit to it sports',\n",
       "   'regal theaters',\n",
       "   'sunrise health food store',\n",
       "   'suzanne kenyon',\n",
       "   'brian pon',\n",
       "   'robert lim jr. md',\n",
       "   'americas most wanted',\n",
       "   'simply fondue roseville ca',\n",
       "   'flip it sports center',\n",
       "   'flip it sports center roseville',\n",
       "   'houses',\n",
       "   'thediscorverymuseum.org',\n",
       "   'ken zeng',\n",
       "   'hose caddy',\n",
       "   'staples.com',\n",
       "   'flip to it sports',\n",
       "   'flip2it',\n",
       "   'century theaters',\n",
       "   'hyatt regency lake tahoe',\n",
       "   '2006 mather rield running of the marines',\n",
       "   'dr. robert lim',\n",
       "   'villiagepizzeriaonline.com',\n",
       "   'crock pot recipes pot roast',\n",
       "   'blockbuster video',\n",
       "   'citrus heights police department',\n",
       "   'san jose half marathon rock and roll',\n",
       "   'thediscoverymuseum.org',\n",
       "   'diane robinette',\n",
       "   'dumps in lincoln ca',\n",
       "   'roseville ca family events',\n",
       "   'elementary school grants',\n",
       "   'enable cookies',\n",
       "   'rocklin bowling',\n",
       "   '2006 mather field running of the marines',\n",
       "   'thediscorvery.org',\n",
       "   'fanny farmer mint meltaways',\n",
       "   'math help',\n",
       "   'ucdmc.ucdavis.edu',\n",
       "   'city of roseville waste',\n",
       "   'staples.om',\n",
       "   'hollywood video',\n",
       "   'cuisinart rebate offer for dgb-600bc',\n",
       "   'salah salon & day spa',\n",
       "   'yellow pages',\n",
       "   'phoenix university',\n",
       "   '-',\n",
       "   'sylvia zeng']),\n",
       " (8400,\n",
       "  ['nick',\n",
       "   'tinker bell pics',\n",
       "   'amylicious.bluebabylon.com',\n",
       "   'lyrics',\n",
       "   'tebayp',\n",
       "   'www.officailzoeymattews.com',\n",
       "   'cat in hat photos',\n",
       "   'ebay',\n",
       "   'dress up games',\n",
       "   '-',\n",
       "   'panic at the disco',\n",
       "   'panic at the disco lyric',\n",
       "   'pier 1 imports',\n",
       "   'disney channel',\n",
       "   'dress up game for kid',\n",
       "   'neo pets',\n",
       "   'jack & sally',\n",
       "   'quizilla',\n",
       "   'pixelpunks.misled-youth.net',\n",
       "   'auto-n-vest',\n",
       "   'neopets',\n",
       "   'http fuse .tv',\n",
       "   'teen titans',\n",
       "   'jack pics',\n",
       "   'fall out boy',\n",
       "   'panic at the disco bio',\n",
       "   'quizzilla',\n",
       "   'quizilla quizzes',\n",
       "   'http www.disney channel',\n",
       "   'torhttp',\n",
       "   'http www.mad creator',\n",
       "   'dreebay',\n",
       "   'totally spies games',\n",
       "   'games for children',\n",
       "   'pro-one',\n",
       "   'bredon urie',\n",
       "   'azlyrics',\n",
       "   'tinkerbell',\n",
       "   'toley spies grames',\n",
       "   'taget distribution',\n",
       "   'lenore',\n",
       "   'pete wentz',\n",
       "   'learn all about jelly fish',\n",
       "   'www.officialzoeymattews.com',\n",
       "   'tolley spies games',\n",
       "   'dress up games for kids',\n",
       "   'pagead2.googlesyndication.com',\n",
       "   'starting lyrics',\n",
       "   'mr gosh',\n",
       "   'www.dollworld.com.ar',\n",
       "   'whosonmypage.com']),\n",
       " (11529,\n",
       "  ['arlington county fire station 9',\n",
       "   'presidential address',\n",
       "   'fox',\n",
       "   'colonial beach',\n",
       "   'mr. smithers',\n",
       "   'vausg.com',\n",
       "   'va usg',\n",
       "   'potomac river running',\n",
       "   'cbs',\n",
       "   'abc 7',\n",
       "   'the simpsons',\n",
       "   'respect',\n",
       "   'blockbuster',\n",
       "   'dc marathon',\n",
       "   'my space',\n",
       "   'diamond in the rough triathlon',\n",
       "   'block buster',\n",
       "   'dc marathon 2006',\n",
       "   'dictionary',\n",
       "   'cherry blossom 10 miler',\n",
       "   'colonial beach triathlon',\n",
       "   'black buster',\n",
       "   'abc',\n",
       "   'reston triathlon',\n",
       "   'army ten miler',\n",
       "   'cherry blossom ten mile',\n",
       "   'cbs9',\n",
       "   'zip codes',\n",
       "   'vausg',\n",
       "   'va usag']),\n",
       " (12404,\n",
       "  ['craiglist',\n",
       "   'overstock',\n",
       "   'homesdatabase',\n",
       "   'ioffer',\n",
       "   'batman games',\n",
       "   'cr cartoon newrtk',\n",
       "   'cartoon newtork',\n",
       "   'careoorinn nhjk',\n",
       "   'bb',\n",
       "   'ebay',\n",
       "   'walmart',\n",
       "   'bb7t',\n",
       "   'cartoon neotrk',\n",
       "   'renta hacker.com',\n",
       "   'cartoon network',\n",
       "   'toon disney',\n",
       "   'bb&t',\n",
       "   'cartoo n nework',\n",
       "   'cartoon newtof cartoon newtrk',\n",
       "   'pbsks',\n",
       "   '-',\n",
       "   'spider man games',\n",
       "   'rent a hacker.com',\n",
       "   'qvc',\n",
       "   'corthjiopk',\n",
       "   'creig list',\n",
       "   'shopnbc',\n",
       "   'kipper the dog',\n",
       "   'cartoon nertwtffrerrtfftkjjkmmbfknngdrefvcvvdfsggmnjk',\n",
       "   'craigslist',\n",
       "   'google',\n",
       "   'cartoon nework',\n",
       "   'versahaul',\n",
       "   'victoria secrets',\n",
       "   'cartoon newrk',\n",
       "   'creiglist',\n",
       "   'pb',\n",
       "   'pbs kids',\n",
       "   'mapquest',\n",
       "   'careoorinn nhgujik',\n",
       "   'caertyuwpok',\n",
       "   'cartoon network cartoon network',\n",
       "   'hsn',\n",
       "   'diamond heart pave ring',\n",
       "   'maryland state board of elections']),\n",
       " (18501,\n",
       "  ['pop-up blockers',\n",
       "   'taxact',\n",
       "   'pass',\n",
       "   'www.ioto',\n",
       "   'gmcard.com paybill',\n",
       "   'billpal.com',\n",
       "   'v',\n",
       "   'phoenicia pathwork center',\n",
       "   'mfc',\n",
       "   'ulcreverce.com',\n",
       "   'pop-up blokers',\n",
       "   'verizonwireless',\n",
       "   '-',\n",
       "   'ftb 540nr',\n",
       "   'www.otago techguide',\n",
       "   'chace creditcard',\n",
       "   'verizonwireless.com customeraccount',\n",
       "   'gmcard.com account',\n",
       "   'www.thedavincidealogue.com',\n",
       "   'chase credit card',\n",
       "   'bluemountan',\n",
       "   'gmcard.com home',\n",
       "   'verizonwireless network',\n",
       "   'gmcard',\n",
       "   'gmcard accses.com',\n",
       "   'gmcard personalaccount.com',\n",
       "   'iotogo',\n",
       "   'tipsssource3.dbm83',\n",
       "   'www.gmcard',\n",
       "   'gmcard.com billpay',\n",
       "   'bin laden hanged',\n",
       "   'americannationalbank.com',\n",
       "   'directtv adult',\n",
       "   'rei.com',\n",
       "   'goretex.com',\n",
       "   'gamespot',\n",
       "   'g',\n",
       "   'gmcard account.com',\n",
       "   'gmcard billpayment.com',\n",
       "   'gmcard.com customerservice',\n",
       "   'verizonwireless.com',\n",
       "   'bluemtn',\n",
       "   'gmail',\n",
       "   'csmonitor',\n",
       "   'www.iotogo',\n",
       "   'www.customeraccount',\n",
       "   'phoeniciapathworkcenter',\n",
       "   'ee',\n",
       "   'hoax',\n",
       "   'americanbank.com',\n",
       "   'www.bluemtn',\n",
       "   'gmcard.com',\n",
       "   'gmcard indevidualaccount.com',\n",
       "   'www.iotogo techguide',\n",
       "   'etrade',\n",
       "   'gmcard.com bill',\n",
       "   'gmcard.com paybillsonline',\n",
       "   'verizonwireless networking',\n",
       "   'rmarp.edithosting.com estimates.asp',\n",
       "   'directv adult'])]"
      ]
     },
     "execution_count": 6,
     "metadata": {},
     "output_type": "execute_result"
    }
   ],
   "source": [
    "user_queries = distinct_queries.map(lambda query: (query[0], [query[1]])).reduceByKey(lambda queries_list, new_query: queries_list + new_query)\n",
    "user_queries.take(10)"
   ]
  },
  {
   "cell_type": "code",
   "execution_count": 7,
   "metadata": {},
   "outputs": [],
   "source": [
    "def generate_pairs(tup):\n",
    "    tup[1].sort()\n",
    "    generated_tupes = []\n",
    "    for comb in itertools.combinations(tup[1],2):\n",
    "        generated_tupes.append((comb, 1))\n",
    "    return generated_tupes"
   ]
  },
  {
   "cell_type": "code",
   "execution_count": 8,
   "metadata": {
    "scrolled": true
   },
   "outputs": [
    {
     "data": {
      "text/plain": [
       "[(('-', 'ameriprise.com'), 1),\n",
       " (('-', 'asiansexygoddess.com'), 1),\n",
       " (('-', 'ask.com'), 1),\n",
       " (('-', 'bestasiancompany.com'), 1),\n",
       " (('-', 'buddylis'), 1),\n",
       " (('-', 'lottery'), 1),\n",
       " (('-', 'mizuno.com'), 1),\n",
       " (('-', \"p; .; p;' p; ' ;' ;';\"), 1),\n",
       " (('-', 'susheme'), 1),\n",
       " (('-', 'united.com'), 1),\n",
       " (('-', 'vietnam'), 1),\n",
       " (('-', 'wanttickets.com'), 1),\n",
       " (('-', 'weather.com'), 1),\n",
       " (('-', 'wellsfargo.com'), 1),\n",
       " (('-', 'www.ngo-quen.org'), 1),\n",
       " (('-', 'www.tabiecummings.com'), 1),\n",
       " (('-', 'yahoo.com'), 1),\n",
       " (('ameriprise.com', 'asiansexygoddess.com'), 1),\n",
       " (('ameriprise.com', 'ask.com'), 1),\n",
       " (('ameriprise.com', 'bestasiancompany.com'), 1),\n",
       " (('ameriprise.com', 'buddylis'), 1),\n",
       " (('ameriprise.com', 'lottery'), 1),\n",
       " (('ameriprise.com', 'mizuno.com'), 1),\n",
       " (('ameriprise.com', \"p; .; p;' p; ' ;' ;';\"), 1),\n",
       " (('ameriprise.com', 'susheme'), 1),\n",
       " (('ameriprise.com', 'united.com'), 1),\n",
       " (('ameriprise.com', 'vietnam'), 1),\n",
       " (('ameriprise.com', 'wanttickets.com'), 1),\n",
       " (('ameriprise.com', 'weather.com'), 1),\n",
       " (('ameriprise.com', 'wellsfargo.com'), 1),\n",
       " (('ameriprise.com', 'www.ngo-quen.org'), 1),\n",
       " (('ameriprise.com', 'www.tabiecummings.com'), 1),\n",
       " (('ameriprise.com', 'yahoo.com'), 1),\n",
       " (('asiansexygoddess.com', 'ask.com'), 1),\n",
       " (('asiansexygoddess.com', 'bestasiancompany.com'), 1),\n",
       " (('asiansexygoddess.com', 'buddylis'), 1),\n",
       " (('asiansexygoddess.com', 'lottery'), 1),\n",
       " (('asiansexygoddess.com', 'mizuno.com'), 1),\n",
       " (('asiansexygoddess.com', \"p; .; p;' p; ' ;' ;';\"), 1),\n",
       " (('asiansexygoddess.com', 'susheme'), 1),\n",
       " (('asiansexygoddess.com', 'united.com'), 1),\n",
       " (('asiansexygoddess.com', 'vietnam'), 1),\n",
       " (('asiansexygoddess.com', 'wanttickets.com'), 1),\n",
       " (('asiansexygoddess.com', 'weather.com'), 1),\n",
       " (('asiansexygoddess.com', 'wellsfargo.com'), 1),\n",
       " (('asiansexygoddess.com', 'www.ngo-quen.org'), 1),\n",
       " (('asiansexygoddess.com', 'www.tabiecummings.com'), 1),\n",
       " (('asiansexygoddess.com', 'yahoo.com'), 1),\n",
       " (('ask.com', 'bestasiancompany.com'), 1),\n",
       " (('ask.com', 'buddylis'), 1),\n",
       " (('ask.com', 'lottery'), 1),\n",
       " (('ask.com', 'mizuno.com'), 1),\n",
       " (('ask.com', \"p; .; p;' p; ' ;' ;';\"), 1),\n",
       " (('ask.com', 'susheme'), 1),\n",
       " (('ask.com', 'united.com'), 1),\n",
       " (('ask.com', 'vietnam'), 1),\n",
       " (('ask.com', 'wanttickets.com'), 1),\n",
       " (('ask.com', 'weather.com'), 1),\n",
       " (('ask.com', 'wellsfargo.com'), 1),\n",
       " (('ask.com', 'www.ngo-quen.org'), 1),\n",
       " (('ask.com', 'www.tabiecummings.com'), 1),\n",
       " (('ask.com', 'yahoo.com'), 1),\n",
       " (('bestasiancompany.com', 'buddylis'), 1),\n",
       " (('bestasiancompany.com', 'lottery'), 1),\n",
       " (('bestasiancompany.com', 'mizuno.com'), 1),\n",
       " (('bestasiancompany.com', \"p; .; p;' p; ' ;' ;';\"), 1),\n",
       " (('bestasiancompany.com', 'susheme'), 1),\n",
       " (('bestasiancompany.com', 'united.com'), 1),\n",
       " (('bestasiancompany.com', 'vietnam'), 1),\n",
       " (('bestasiancompany.com', 'wanttickets.com'), 1),\n",
       " (('bestasiancompany.com', 'weather.com'), 1),\n",
       " (('bestasiancompany.com', 'wellsfargo.com'), 1),\n",
       " (('bestasiancompany.com', 'www.ngo-quen.org'), 1),\n",
       " (('bestasiancompany.com', 'www.tabiecummings.com'), 1),\n",
       " (('bestasiancompany.com', 'yahoo.com'), 1),\n",
       " (('buddylis', 'lottery'), 1),\n",
       " (('buddylis', 'mizuno.com'), 1),\n",
       " (('buddylis', \"p; .; p;' p; ' ;' ;';\"), 1),\n",
       " (('buddylis', 'susheme'), 1),\n",
       " (('buddylis', 'united.com'), 1),\n",
       " (('buddylis', 'vietnam'), 1),\n",
       " (('buddylis', 'wanttickets.com'), 1),\n",
       " (('buddylis', 'weather.com'), 1),\n",
       " (('buddylis', 'wellsfargo.com'), 1),\n",
       " (('buddylis', 'www.ngo-quen.org'), 1),\n",
       " (('buddylis', 'www.tabiecummings.com'), 1),\n",
       " (('buddylis', 'yahoo.com'), 1),\n",
       " (('lottery', 'mizuno.com'), 1),\n",
       " (('lottery', \"p; .; p;' p; ' ;' ;';\"), 1),\n",
       " (('lottery', 'susheme'), 1),\n",
       " (('lottery', 'united.com'), 1),\n",
       " (('lottery', 'vietnam'), 1),\n",
       " (('lottery', 'wanttickets.com'), 1),\n",
       " (('lottery', 'weather.com'), 1),\n",
       " (('lottery', 'wellsfargo.com'), 1),\n",
       " (('lottery', 'www.ngo-quen.org'), 1),\n",
       " (('lottery', 'www.tabiecummings.com'), 1),\n",
       " (('lottery', 'yahoo.com'), 1),\n",
       " (('mizuno.com', \"p; .; p;' p; ' ;' ;';\"), 1),\n",
       " (('mizuno.com', 'susheme'), 1)]"
      ]
     },
     "execution_count": 8,
     "metadata": {},
     "output_type": "execute_result"
    }
   ],
   "source": [
    "query_pairs = user_queries.flatMap(generate_pairs)\n",
    "query_pairs.take(100)"
   ]
  },
  {
   "cell_type": "code",
   "execution_count": 9,
   "metadata": {
    "scrolled": true
   },
   "outputs": [],
   "source": [
    "pairs_frequency = query_pairs.reduceByKey(add)\n",
    "# pairs_frequency is an RDD of this form: [((x1, y2), 1) , ((x3, y7), 12), ((query 1, query 2), freqency over users)]"
   ]
  },
  {
   "cell_type": "markdown",
   "metadata": {},
   "source": [
    "### Conf Version 1 specific:"
   ]
  },
  {
   "cell_type": "code",
   "execution_count": 17,
   "metadata": {},
   "outputs": [],
   "source": [
    "xycount_and_xcount = pairs_frequency.map(lambda x: (x[0][0], (x[0][1], x[1]))).join(query_freq)"
   ]
  },
  {
   "cell_type": "code",
   "execution_count": 21,
   "metadata": {},
   "outputs": [
    {
     "data": {
      "text/plain": [
       "[('house bugs that bite', (('texas cyclones', 1), 1)),\n",
       " ('house bugs that bite', (('myspace.com', 1), 1)),\n",
       " ('house bugs that bite', (('pace makers recalled', 1), 1)),\n",
       " ('house bugs that bite', (('texas farm bureau', 1), 1)),\n",
       " ('house bugs that bite', (('terrys furniture', 1), 1))]"
      ]
     },
     "execution_count": 21,
     "metadata": {},
     "output_type": "execute_result"
    }
   ],
   "source": [
    "xycount_and_xcount.take(5)"
   ]
  },
  {
   "cell_type": "code",
   "execution_count": 27,
   "metadata": {},
   "outputs": [],
   "source": [
    "confidence_version_a = xycount_and_xcount.map(lambda x: ((x[0], x[1][0][0]), x[1][0][1] / x[1][1]))"
   ]
  },
  {
   "cell_type": "code",
   "execution_count": 28,
   "metadata": {
    "scrolled": true
   },
   "outputs": [
    {
     "data": {
      "text/plain": [
       "[(('destination wedding guides', 'www.target'), 1.0),\n",
       " (('destination wedding guides', 'underwriters lab'), 1.0),\n",
       " (('destination wedding guides', 'www.actsfullgospelcogic.com'), 1.0),\n",
       " (('destination wedding guides', 'www.nsbe.org'), 1.0),\n",
       " (('destination wedding guides', 'firewood pizz'), 1.0)]"
      ]
     },
     "execution_count": 28,
     "metadata": {},
     "output_type": "execute_result"
    }
   ],
   "source": [
    "confidence_version_a.take(5)"
   ]
  },
  {
   "cell_type": "markdown",
   "metadata": {},
   "source": [
    "# Results with Confidence of minimum threshold"
   ]
  },
  {
   "cell_type": "code",
   "execution_count": 30,
   "metadata": {},
   "outputs": [
    {
     "name": "stdout",
     "output_type": "stream",
     "text": [
      "Confidence: 0.6 --- 7908 , 0.8 --- 40 , 0.9 --- 4 \n"
     ]
    }
   ],
   "source": [
    "conf_version_a_06 = confidence_version_a.filter(lambda x: 1> x[1] >= 0.6)\n",
    "conf_version_a_08 = conf_version_a_06.filter(lambda x: x[1] > 0.8)\n",
    "conf_version_a_09 = conf_version_a_08.filter(lambda x: x[1] > 0.9)\n",
    "\n",
    "print(f\"Confidence: 0.6 --- {conf_version_a_06.count()} , 0.8 --- {conf_version_a_08.count()} , 0.9 --- {conf_version_a_09.count()} \")"
   ]
  },
  {
   "cell_type": "code",
   "execution_count": 31,
   "metadata": {
    "scrolled": true
   },
   "outputs": [
    {
     "data": {
      "text/plain": [
       "[(('gooe', 'google'), 0.9090909090909091),\n",
       " (('eay', 'ebay'), 0.9285714285714286),\n",
       " (('mspace.com', 'myspace.com'), 0.9375),\n",
       " (('www.mypace.com', 'www.myspace.com'), 0.9090909090909091)]"
      ]
     },
     "execution_count": 31,
     "metadata": {},
     "output_type": "execute_result"
    }
   ],
   "source": [
    "conf_version_a_09.collect()"
   ]
  },
  {
   "cell_type": "markdown",
   "metadata": {},
   "source": [
    "# Top 3:\n",
    "1. mspace.com --> myspace.com | with confidence of **0.9375**\n",
    "2. eay --> ebay | with confidence of **0.9285**\n",
    "3. both: gooe --> google  AND  www.mypace.com --> www.myspace.com | with confidence of **0.9090**"
   ]
  },
  {
   "cell_type": "markdown",
   "metadata": {},
   "source": [
    "# Write results to file:"
   ]
  },
  {
   "cell_type": "code",
   "execution_count": 32,
   "metadata": {},
   "outputs": [],
   "source": [
    "def toCSVLine(data):\n",
    "  return ','.join(str(d) for d in data)\n",
    "\n",
    "csv_lines = conf_version_a_06.map(toCSVLine)\n",
    "csv_lines.saveAsTextFile('/usr/output/confidence_xy_version1.csv')"
   ]
  },
  {
   "cell_type": "markdown",
   "metadata": {},
   "source": [
    "# Version 2 confidence (that didn't work for me)\n",
    "\n",
    "## Supp(xUy) / Supp(x) = Confidence (X=>Y)\n",
    "### Prepare the data and devide"
   ]
  },
  {
   "cell_type": "code",
   "execution_count": 10,
   "metadata": {
    "scrolled": true
   },
   "outputs": [],
   "source": [
    "support_xy = pairs_frequency.map(lambda q: (q[0], round(Decimal(q[1]/users_amount), 8)))\n",
    "# support_xy is an RDD of this form: [((x,y), support)]"
   ]
  },
  {
   "cell_type": "code",
   "execution_count": 11,
   "metadata": {},
   "outputs": [],
   "source": [
    "joined_support = support_xy.map(lambda x: (x[0][0], (x[0][1], x[1]))).join(support_x).distinct()\n",
    "# joined_support will be an RDD of the form: (X, (Y, supp(xUy)), supp(x))"
   ]
  },
  {
   "cell_type": "code",
   "execution_count": 12,
   "metadata": {
    "scrolled": true
   },
   "outputs": [
    {
     "data": {
      "text/plain": [
       "[('j.a.w. iglehart',\n",
       "  (('marianne koch nude photos', Decimal('0.00001526')),\n",
       "   Decimal('0.00001526'))),\n",
       " ('african gay pron',\n",
       "  (('wwww.randyblue.com', Decimal('0.00001526')), Decimal('0.00001526'))),\n",
       " ('apjuydguldid92pp5upp5c77p.affrontgl.com',\n",
       "  (('product liability insurance in california', Decimal('0.00001526')),\n",
       "   Decimal('0.00003053'))),\n",
       " ('st michael the archangel prayer for the sick',\n",
       "  (('www.purplefrogpub.com', Decimal('0.00001526')), Decimal('0.00001526'))),\n",
       " ('daily kos',\n",
       "  (('social security deaths', Decimal('0.00001526')), Decimal('0.00004579'))),\n",
       " ('americanweldingassociation',\n",
       "  (('macdbobs.resterantcom', Decimal('0.00001526')), Decimal('0.00001526'))),\n",
       " ('can you get pregnate on your period',\n",
       "  (('child moleters', Decimal('0.00001526')), Decimal('0.00001526'))),\n",
       " ('pungo va', (('va pilot', Decimal('0.00001526')), Decimal('0.00001526'))),\n",
       " ('google.com',\n",
       "  (('orion.csuchico.edu', Decimal('0.00003053')), Decimal('0.04386715'))),\n",
       " ('google.com',\n",
       "  (('supermanreturns.com', Decimal('0.00001526')), Decimal('0.04386715')))]"
      ]
     },
     "execution_count": 12,
     "metadata": {},
     "output_type": "execute_result"
    }
   ],
   "source": [
    "joined_support.take(10)"
   ]
  },
  {
   "cell_type": "code",
   "execution_count": 13,
   "metadata": {},
   "outputs": [],
   "source": [
    "conf_xy = joined_support.map(lambda x: ((x[0], x[1][0][0]), round(Decimal(x[1][0][1] / x[1][1]))))"
   ]
  },
  {
   "cell_type": "markdown",
   "metadata": {},
   "source": [
    "# High Confidence Count"
   ]
  },
  {
   "cell_type": "code",
   "execution_count": 14,
   "metadata": {},
   "outputs": [],
   "source": [
    "conf_prepared = conf_xy.filter(lambda x: 1 > x[1] >= 0.6)\n",
    "conf_06 = conf_prepared.filter(lambda x: 0.8 > x[1])\n",
    "conf_08 = conf_prepared.filter(lambda x: 0.9 > x[1] >= 0.8)\n",
    "conf_09 = conf_prepared.filter(lambda x: 1   > x[1] >= 0.9)"
   ]
  },
  {
   "cell_type": "code",
   "execution_count": 15,
   "metadata": {},
   "outputs": [
    {
     "name": "stdout",
     "output_type": "stream",
     "text": [
      "Queries with correlation confidence >= 0.6: 0\n"
     ]
    }
   ],
   "source": [
    "print(f\"Queries with correlation confidence >= 0.6: {conf_06.count()}\")"
   ]
  },
  {
   "cell_type": "code",
   "execution_count": 16,
   "metadata": {},
   "outputs": [
    {
     "name": "stdout",
     "output_type": "stream",
     "text": [
      "Queries with correlation confidence >= 0.8: 0\n"
     ]
    }
   ],
   "source": [
    "print(f\"Queries with correlation confidence >= 0.8: {conf_08.count()}\")"
   ]
  },
  {
   "cell_type": "code",
   "execution_count": 17,
   "metadata": {},
   "outputs": [
    {
     "name": "stdout",
     "output_type": "stream",
     "text": [
      "Queries with correlation confidence >= 0.9: 0\n"
     ]
    }
   ],
   "source": [
    "print(f\"Queries with correlation confidence >= 0.9: {conf_09.count()}\")"
   ]
  },
  {
   "cell_type": "markdown",
   "metadata": {},
   "source": [
    "# Deeper Dive To Highest Confidence"
   ]
  },
  {
   "cell_type": "code",
   "execution_count": 18,
   "metadata": {},
   "outputs": [
    {
     "data": {
      "text/plain": [
       "[]"
      ]
     },
     "execution_count": 18,
     "metadata": {},
     "output_type": "execute_result"
    }
   ],
   "source": [
    "top_3 = conf_09.top(3, key=lambda x: x[2])\n",
    "top_3"
   ]
  },
  {
   "cell_type": "markdown",
   "metadata": {},
   "source": [
    "# Write Confidence Results To File"
   ]
  },
  {
   "cell_type": "code",
   "execution_count": 19,
   "metadata": {},
   "outputs": [],
   "source": [
    "def toCSVLine(data):\n",
    "  return ','.join(str(d) for d in data)\n",
    "\n",
    "csv_lines = conf_xy.map(toCSVLine)\n",
    "csv_lines.saveAsTextFile('/usr/output/confidence_xy.csv')"
   ]
  }
 ],
 "metadata": {
  "kernelspec": {
   "display_name": "Python 3",
   "language": "python",
   "name": "python3"
  },
  "language_info": {
   "codemirror_mode": {
    "name": "ipython",
    "version": 3
   },
   "file_extension": ".py",
   "mimetype": "text/x-python",
   "name": "python",
   "nbconvert_exporter": "python",
   "pygments_lexer": "ipython3",
   "version": "3.7.6"
  }
 },
 "nbformat": 4,
 "nbformat_minor": 4
}
