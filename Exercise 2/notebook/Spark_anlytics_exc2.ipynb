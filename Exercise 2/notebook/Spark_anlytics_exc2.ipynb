{
 "cells": [
  {
   "cell_type": "code",
   "execution_count": 2,
   "metadata": {},
   "outputs": [],
   "source": [
    "import pyspark\n",
    "import math\n",
    "sc = pyspark.SparkContext.getOrCreate()\n",
    "sqlContext = pyspark.sql.SQLContext(sc)"
   ]
  },
  {
   "cell_type": "markdown",
   "metadata": {},
   "source": [
    "# Loading the dataset as pyspark RDD of Key-value\n",
    "Where the key is the anonymous user ID and the value is the query string"
   ]
  },
  {
   "cell_type": "code",
   "execution_count": 91,
   "metadata": {},
   "outputs": [
    {
     "data": {
      "text/plain": [
       "[(142, 'rentdirect.com'),\n",
       " (142, 'www.prescriptionfortime.com'),\n",
       " (142, 'staple.com'),\n",
       " (142, 'staple.com'),\n",
       " (142, 'www.newyorklawyersite.com')]"
      ]
     },
     "execution_count": 91,
     "metadata": {},
     "output_type": "execute_result"
    }
   ],
   "source": [
    "logs_rdd = sc.textFile(\"/usr/data/user-ct-test-collection-01.txt\")\n",
    "\n",
    "headers = logs_rdd.first()\n",
    "logs_rdd = logs_rdd.filter(lambda line: line != headers)\n",
    "logs_rdd = logs_rdd.map(lambda line: line.split(\"\\t\"))\n",
    "logs_rdd = logs_rdd.map(lambda line: (int(line[0]), line[1]))\n",
    "logs_rdd.take(5)"
   ]
  },
  {
   "cell_type": "markdown",
   "metadata": {},
   "source": [
    "# Count amount of queries for user\n",
    "We'll do it by giving the value of 1 for each query and then reduce by key and sum <br> <br>\n",
    "Essentially, this step is about calculating **|T|** for each user, in the following **\"support\"** equation <br>\n",
    "![](https://wikimedia.org/api/rest_v1/media/math/render/svg/1c6acacd3b17051205704b5d323c83fc737e5db1 \"Support equation\")\n"
   ]
  },
  {
   "cell_type": "code",
   "execution_count": 92,
   "metadata": {},
   "outputs": [
    {
     "data": {
      "text/plain": [
       "[(217, 29), (1337, 48), (3745, 164), (4781, 413), (6356, 13)]"
      ]
     },
     "execution_count": 92,
     "metadata": {},
     "output_type": "execute_result"
    }
   ],
   "source": [
    "from operator import add \n",
    "queries_count_per_user = logs_rdd.map(lambda k: (k[0],1)).reduceByKey(add)\n",
    "queries_count_per_user.take(5)"
   ]
  },
  {
   "cell_type": "code",
   "execution_count": 94,
   "metadata": {},
   "outputs": [
    {
     "data": {
      "text/plain": [
       "[(6356, ('cwe', 13)), (6356, ('www.crazy shit .com', 13))]"
      ]
     },
     "execution_count": 94,
     "metadata": {},
     "output_type": "execute_result"
    }
   ],
   "source": [
    "logs_with_count_per_user = logs_rdd.join(queries_count_per_user)\n",
    "logs_with_count_per_user.take(2)"
   ]
  },
  {
   "cell_type": "markdown",
   "metadata": {},
   "source": [
    "# Counting queries by key (User ID)\n",
    "Let's iterate over the rdd and:\n",
    "1. set each pair (user id, query) as a key with value of 1\n",
    "2. reduce by key on that returned RDD, and sum the occurences of each query per user\n",
    "\n",
    "Essentially, this step is about calculating **|X|** for each query, in the following **\"support\"** equation <br>\n",
    "![](https://wikimedia.org/api/rest_v1/media/math/render/svg/1c6acacd3b17051205704b5d323c83fc737e5db1 \"Support equation\")"
   ]
  },
  {
   "cell_type": "code",
   "execution_count": 95,
   "metadata": {
    "scrolled": true
   },
   "outputs": [
    {
     "data": {
      "text/plain": [
       "[((142, 'dfdf'), 2),\n",
       " ((142, 'vaniqa.comh'), 1),\n",
       " ((142, '207 ad2d 530'), 2),\n",
       " ((142, 'attornyleslie.com'), 1),\n",
       " ((217, 'mizuno.com'), 1),\n",
       " ((217, \"p; .; p;' p; ' ;' ;';\"), 2),\n",
       " ((217, 'yahoo.com'), 1),\n",
       " ((217, '-'), 3),\n",
       " ((1268, 'sstack.com'), 1),\n",
       " ((1268, 'www.raindanceexpress.com'), 1)]"
      ]
     },
     "execution_count": 95,
     "metadata": {},
     "output_type": "execute_result"
    }
   ],
   "source": [
    "from operator import add\n",
    "counted = logs_rdd.map(lambda pair: (pair, 1)).reduceByKey(add)\n",
    "counted.take(10)"
   ]
  },
  {
   "cell_type": "markdown",
   "metadata": {},
   "source": [
    "# Calculate Support of X e.g. (|X|/|T|)"
   ]
  },
  {
   "cell_type": "code",
   "execution_count": 109,
   "metadata": {},
   "outputs": [
    {
     "data": {
      "text/plain": [
       "[(6356, (13, ('http', 1))),\n",
       " (6356, (13, ('www.crazy shit .com', 1))),\n",
       " (6356, (13, ('x-men costom.com', 1))),\n",
       " (6356, (13, ('ccbg.co', 1))),\n",
       " (6356, (13, ('ca', 1))),\n",
       " (6356, (13, ('cwe', 1))),\n",
       " (6356, (13, ('www.ccbg.co', 1))),\n",
       " (6356, (13, ('www.emphaze.com', 2))),\n",
       " (6356, (13, ('www.ccbg.com', 1))),\n",
       " (6356, (13, ('cam', 1)))]"
      ]
     },
     "execution_count": 109,
     "metadata": {},
     "output_type": "execute_result"
    }
   ],
   "source": [
    "joined_counted_with_user_total = queries_count_per_user.map(lambda r: (r[0], r[1]))\\\n",
    "                                .join(counted.map(lambda x: (x[0][0], (x[0][1], x[1]))))\n",
    "\n",
    "joined_counted_with_user_total.take(10)"
   ]
  },
  {
   "cell_type": "code",
   "execution_count": 113,
   "metadata": {},
   "outputs": [
    {
     "data": {
      "text/plain": [
       "[(6356, ('http', 0.07692307692307693)),\n",
       " (6356, ('www.crazy shit .com', 0.07692307692307693)),\n",
       " (6356, ('x-men costom.com', 0.07692307692307693)),\n",
       " (6356, ('ccbg.co', 0.07692307692307693)),\n",
       " (6356, ('ca', 0.07692307692307693))]"
      ]
     },
     "execution_count": 113,
     "metadata": {},
     "output_type": "execute_result"
    }
   ],
   "source": [
    "support = joined_counted_with_user_total.map(lambda x: (x[0], (x[1][1][0], x[1][1][1]/x[1][0])))\n",
    "support.take(5)"
   ]
  },
  {
   "cell_type": "markdown",
   "metadata": {},
   "source": [
    "# Calculate Confidence\n",
    "According to the following equation <br>\n",
    "![](https://wikimedia.org/api/rest_v1/media/math/render/svg/90324dedc399441696116eed3658fd17c5da4329 \"Confidence equation\")"
   ]
  },
  {
   "cell_type": "code",
   "execution_count": null,
   "metadata": {},
   "outputs": [],
   "source": []
  }
 ],
 "metadata": {
  "kernelspec": {
   "display_name": "Python 3",
   "language": "python",
   "name": "python3"
  },
  "language_info": {
   "codemirror_mode": {
    "name": "ipython",
    "version": 3
   },
   "file_extension": ".py",
   "mimetype": "text/x-python",
   "name": "python",
   "nbconvert_exporter": "python",
   "pygments_lexer": "ipython3",
   "version": "3.7.6"
  }
 },
 "nbformat": 4,
 "nbformat_minor": 4
}
