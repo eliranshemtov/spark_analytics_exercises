{
 "cells": [
  {
   "cell_type": "code",
   "execution_count": 111,
   "metadata": {
    "tags": [
     "imports",
     "preparing",
     "setup"
    ]
   },
   "outputs": [],
   "source": [
    "import matplotlib.pyplot as plt\n",
    "import seaborn as sns\n",
    "import pyspark\n",
    "import pandas as pd\n",
    "import math\n",
    "from datetime import datetime\n",
    "from pyspark.sql import *\n",
    "from pyspark.sql.functions import col, max as max_\n",
    "sc = pyspark.SparkContext.getOrCreate()\n",
    "sqlContext = pyspark.sql.SQLContext(sc)"
   ]
  },
  {
   "cell_type": "code",
   "execution_count": 113,
   "metadata": {
    "scrolled": true,
    "slideshow": {
     "slide_type": "notes"
    },
    "tags": [
     "population-df",
     "population-rdd",
     "population",
     "population_india_census2011"
    ]
   },
   "outputs": [
    {
     "name": "stdout",
     "output_type": "stream",
     "text": [
      "Reading the 'population_india_census2011.csv' dataset to rdd\n",
      "Sanitizing population_rdd...\n",
      "Converting population RDD to DataFrame\n",
      "Showing the final population data frame:\n",
      "+----------------+----------+-------+\n",
      "|           state|population|density|\n",
      "+----------------+----------+-------+\n",
      "|   Uttar Pradesh| 199812341|    828|\n",
      "|     Maharashtra| 112374333|    365|\n",
      "|           Bihar| 104099452|   1102|\n",
      "|     West Bengal|  91276115|   1029|\n",
      "|  Madhya Pradesh|  72626809|    236|\n",
      "|      Tamil Nadu|  72147030|    555|\n",
      "|       Rajasthan|  68548437|    201|\n",
      "|       Karnataka|  61095297|    319|\n",
      "|         Gujarat|  60439692|    308|\n",
      "|  Andhra Pradesh|  49577103|    303|\n",
      "|          Odisha|  41974218|    269|\n",
      "|       Telengana|  35003674|    312|\n",
      "|          Kerala|  33406061|    859|\n",
      "|       Jharkhand|  32988134|    414|\n",
      "|           Assam|  31205576|    397|\n",
      "|          Punjab|  27743338|    550|\n",
      "|    Chhattisgarh|  25545198|    189|\n",
      "|         Haryana|  25351462|    573|\n",
      "|     Uttarakhand|  10086292|    189|\n",
      "|Himachal Pradesh|   6864602|    123|\n",
      "+----------------+----------+-------+\n",
      "only showing top 20 rows\n",
      "\n"
     ]
    }
   ],
   "source": [
    "print(\"Reading the 'population_india_census2011.csv' dataset to rdd\")\n",
    "population_rdd = sc.textFile(\"/usr/data/kaggle/covid19-in-india/population_india_census2011.csv\")\n",
    "\n",
    "print(\"Sanitizing population_rdd...\")\n",
    "headers = population_rdd.first()\n",
    "population_rdd = population_rdd.filter(lambda line: line != headers)\n",
    "population_rdd = population_rdd.map(lambda line: line.split(\",\"))\n",
    "population_rdd = population_rdd.map(lambda line: (line[1], line[2], line[6]))\n",
    "population_rdd = population_rdd.map(lambda line: (line[0], int(line[1]), math.ceil(float(line[2].split('/')[0]))))\n",
    "\n",
    "print(\"Converting population RDD to DataFrame\")\n",
    "population_df = population_rdd.toDF([\"state\", \"population\", \"density\"])\n",
    "\n",
    "print(\"Showing the final population data frame:\")\n",
    "population_df.show()"
   ]
  },
  {
   "cell_type": "code",
   "execution_count": 280,
   "metadata": {
    "scrolled": true,
    "tags": [
     "covid_19_india",
     "main-covid-file",
     "covid",
     "covid-19",
     "groupby",
     "join"
    ]
   },
   "outputs": [
    {
     "name": "stdout",
     "output_type": "stream",
     "text": [
      "Reading the 'covid_19_india.csv' dataset to rdd\n",
      "Sanitizing covid-19 data and preparing covid-19 data\n",
      "Converting sanitized covid data's RDD to DataFrame\n",
      "Grouping data by 'state' getting the latest (max) date for each state...\n",
      "+-----------------+-------------------+\n",
      "|            state|      max(datetime)|\n",
      "+-----------------+-------------------+\n",
      "|        Nagaland#|2020-04-15 00:00:00|\n",
      "|         Nagaland|2020-04-14 00:00:00|\n",
      "|        Karnataka|2020-04-15 00:00:00|\n",
      "|           Odisha|2020-04-15 00:00:00|\n",
      "|           Kerala|2020-04-15 00:00:00|\n",
      "|           Ladakh|2020-04-15 00:00:00|\n",
      "|       Tamil Nadu|2020-04-15 00:00:00|\n",
      "|        Telengana|2020-04-15 00:00:00|\n",
      "|     Chhattisgarh|2020-04-15 00:00:00|\n",
      "|   Andhra Pradesh|2020-04-15 00:00:00|\n",
      "|   Madhya Pradesh|2020-04-15 00:00:00|\n",
      "|           Punjab|2020-04-15 00:00:00|\n",
      "|          Manipur|2020-04-15 00:00:00|\n",
      "|              Goa|2020-04-15 00:00:00|\n",
      "|          Mizoram|2020-04-15 00:00:00|\n",
      "| Himachal Pradesh|2020-04-15 00:00:00|\n",
      "|       Puducherry|2020-04-15 00:00:00|\n",
      "|       Unassigned|2020-04-03 00:00:00|\n",
      "|          Haryana|2020-04-15 00:00:00|\n",
      "|Jammu and Kashmir|2020-04-15 00:00:00|\n",
      "+-----------------+-------------------+\n",
      "only showing top 20 rows\n",
      "\n",
      "Now we'll join the covid_df (full table) with the partial table of most recent dates by state.\n",
      "Let's display that joined table in a nice Pandas format:\n"
     ]
    },
    {
     "data": {
      "text/html": [
       "<div>\n",
       "<style scoped>\n",
       "    .dataframe tbody tr th:only-of-type {\n",
       "        vertical-align: middle;\n",
       "    }\n",
       "\n",
       "    .dataframe tbody tr th {\n",
       "        vertical-align: top;\n",
       "    }\n",
       "\n",
       "    .dataframe thead th {\n",
       "        text-align: right;\n",
       "    }\n",
       "</style>\n",
       "<table border=\"1\" class=\"dataframe\">\n",
       "  <thead>\n",
       "    <tr style=\"text-align: right;\">\n",
       "      <th></th>\n",
       "      <th>state</th>\n",
       "      <th>datetime</th>\n",
       "      <th>cured</th>\n",
       "      <th>deaths</th>\n",
       "      <th>confirmed</th>\n",
       "    </tr>\n",
       "  </thead>\n",
       "  <tbody>\n",
       "    <tr>\n",
       "      <th>0</th>\n",
       "      <td>Manipur</td>\n",
       "      <td>2020-04-15</td>\n",
       "      <td>1</td>\n",
       "      <td>0</td>\n",
       "      <td>2</td>\n",
       "    </tr>\n",
       "    <tr>\n",
       "      <th>1</th>\n",
       "      <td>Telengana</td>\n",
       "      <td>2020-04-15</td>\n",
       "      <td>120</td>\n",
       "      <td>18</td>\n",
       "      <td>647</td>\n",
       "    </tr>\n",
       "    <tr>\n",
       "      <th>2</th>\n",
       "      <td>Tripura</td>\n",
       "      <td>2020-04-15</td>\n",
       "      <td>0</td>\n",
       "      <td>0</td>\n",
       "      <td>2</td>\n",
       "    </tr>\n",
       "    <tr>\n",
       "      <th>3</th>\n",
       "      <td>West Bengal</td>\n",
       "      <td>2020-04-15</td>\n",
       "      <td>37</td>\n",
       "      <td>7</td>\n",
       "      <td>213</td>\n",
       "    </tr>\n",
       "    <tr>\n",
       "      <th>4</th>\n",
       "      <td>Rajasthan</td>\n",
       "      <td>2020-04-15</td>\n",
       "      <td>147</td>\n",
       "      <td>3</td>\n",
       "      <td>1005</td>\n",
       "    </tr>\n",
       "    <tr>\n",
       "      <th>5</th>\n",
       "      <td>Nagaland#</td>\n",
       "      <td>2020-04-15</td>\n",
       "      <td>0</td>\n",
       "      <td>0</td>\n",
       "      <td>0</td>\n",
       "    </tr>\n",
       "    <tr>\n",
       "      <th>6</th>\n",
       "      <td>Mizoram</td>\n",
       "      <td>2020-04-15</td>\n",
       "      <td>0</td>\n",
       "      <td>0</td>\n",
       "      <td>1</td>\n",
       "    </tr>\n",
       "    <tr>\n",
       "      <th>7</th>\n",
       "      <td>Assam</td>\n",
       "      <td>2020-04-15</td>\n",
       "      <td>0</td>\n",
       "      <td>1</td>\n",
       "      <td>33</td>\n",
       "    </tr>\n",
       "    <tr>\n",
       "      <th>8</th>\n",
       "      <td>Jammu and Kashmir</td>\n",
       "      <td>2020-04-15</td>\n",
       "      <td>30</td>\n",
       "      <td>4</td>\n",
       "      <td>278</td>\n",
       "    </tr>\n",
       "    <tr>\n",
       "      <th>9</th>\n",
       "      <td>Madhya Pradesh</td>\n",
       "      <td>2020-04-15</td>\n",
       "      <td>64</td>\n",
       "      <td>53</td>\n",
       "      <td>987</td>\n",
       "    </tr>\n",
       "    <tr>\n",
       "      <th>10</th>\n",
       "      <td>Chandigarh</td>\n",
       "      <td>2020-04-15</td>\n",
       "      <td>7</td>\n",
       "      <td>0</td>\n",
       "      <td>21</td>\n",
       "    </tr>\n",
       "    <tr>\n",
       "      <th>11</th>\n",
       "      <td>Maharashtra</td>\n",
       "      <td>2020-04-15</td>\n",
       "      <td>259</td>\n",
       "      <td>178</td>\n",
       "      <td>2687</td>\n",
       "    </tr>\n",
       "    <tr>\n",
       "      <th>12</th>\n",
       "      <td>Haryana</td>\n",
       "      <td>2020-04-15</td>\n",
       "      <td>34</td>\n",
       "      <td>3</td>\n",
       "      <td>199</td>\n",
       "    </tr>\n",
       "    <tr>\n",
       "      <th>13</th>\n",
       "      <td>Chhattisgarh</td>\n",
       "      <td>2020-04-15</td>\n",
       "      <td>13</td>\n",
       "      <td>0</td>\n",
       "      <td>33</td>\n",
       "    </tr>\n",
       "    <tr>\n",
       "      <th>14</th>\n",
       "      <td>Uttar Pradesh</td>\n",
       "      <td>2020-04-15</td>\n",
       "      <td>51</td>\n",
       "      <td>11</td>\n",
       "      <td>735</td>\n",
       "    </tr>\n",
       "    <tr>\n",
       "      <th>15</th>\n",
       "      <td>Uttarakhand</td>\n",
       "      <td>2020-04-15</td>\n",
       "      <td>9</td>\n",
       "      <td>0</td>\n",
       "      <td>37</td>\n",
       "    </tr>\n",
       "    <tr>\n",
       "      <th>16</th>\n",
       "      <td>Gujarat</td>\n",
       "      <td>2020-04-15</td>\n",
       "      <td>59</td>\n",
       "      <td>30</td>\n",
       "      <td>695</td>\n",
       "    </tr>\n",
       "    <tr>\n",
       "      <th>17</th>\n",
       "      <td>Goa</td>\n",
       "      <td>2020-04-15</td>\n",
       "      <td>5</td>\n",
       "      <td>0</td>\n",
       "      <td>7</td>\n",
       "    </tr>\n",
       "    <tr>\n",
       "      <th>18</th>\n",
       "      <td>Karnataka</td>\n",
       "      <td>2020-04-15</td>\n",
       "      <td>75</td>\n",
       "      <td>11</td>\n",
       "      <td>277</td>\n",
       "    </tr>\n",
       "    <tr>\n",
       "      <th>19</th>\n",
       "      <td>Arunachal Pradesh</td>\n",
       "      <td>2020-04-15</td>\n",
       "      <td>0</td>\n",
       "      <td>0</td>\n",
       "      <td>1</td>\n",
       "    </tr>\n",
       "    <tr>\n",
       "      <th>20</th>\n",
       "      <td>Odisha</td>\n",
       "      <td>2020-04-15</td>\n",
       "      <td>18</td>\n",
       "      <td>1</td>\n",
       "      <td>60</td>\n",
       "    </tr>\n",
       "    <tr>\n",
       "      <th>21</th>\n",
       "      <td>Jharkhand</td>\n",
       "      <td>2020-04-15</td>\n",
       "      <td>0</td>\n",
       "      <td>2</td>\n",
       "      <td>27</td>\n",
       "    </tr>\n",
       "    <tr>\n",
       "      <th>22</th>\n",
       "      <td>Puducherry</td>\n",
       "      <td>2020-04-15</td>\n",
       "      <td>1</td>\n",
       "      <td>0</td>\n",
       "      <td>7</td>\n",
       "    </tr>\n",
       "    <tr>\n",
       "      <th>23</th>\n",
       "      <td>Andaman and Nicobar Islands</td>\n",
       "      <td>2020-04-15</td>\n",
       "      <td>10</td>\n",
       "      <td>0</td>\n",
       "      <td>11</td>\n",
       "    </tr>\n",
       "    <tr>\n",
       "      <th>24</th>\n",
       "      <td>Andhra Pradesh</td>\n",
       "      <td>2020-04-15</td>\n",
       "      <td>16</td>\n",
       "      <td>9</td>\n",
       "      <td>503</td>\n",
       "    </tr>\n",
       "    <tr>\n",
       "      <th>25</th>\n",
       "      <td>Punjab</td>\n",
       "      <td>2020-04-15</td>\n",
       "      <td>14</td>\n",
       "      <td>13</td>\n",
       "      <td>186</td>\n",
       "    </tr>\n",
       "    <tr>\n",
       "      <th>26</th>\n",
       "      <td>Delhi</td>\n",
       "      <td>2020-04-15</td>\n",
       "      <td>30</td>\n",
       "      <td>30</td>\n",
       "      <td>1561</td>\n",
       "    </tr>\n",
       "    <tr>\n",
       "      <th>27</th>\n",
       "      <td>Nagaland</td>\n",
       "      <td>2020-04-14</td>\n",
       "      <td>0</td>\n",
       "      <td>0</td>\n",
       "      <td>1</td>\n",
       "    </tr>\n",
       "    <tr>\n",
       "      <th>28</th>\n",
       "      <td>Meghalaya</td>\n",
       "      <td>2020-04-15</td>\n",
       "      <td>0</td>\n",
       "      <td>1</td>\n",
       "      <td>7</td>\n",
       "    </tr>\n",
       "    <tr>\n",
       "      <th>29</th>\n",
       "      <td>Unassigned</td>\n",
       "      <td>2020-04-03</td>\n",
       "      <td>0</td>\n",
       "      <td>0</td>\n",
       "      <td>77</td>\n",
       "    </tr>\n",
       "    <tr>\n",
       "      <th>30</th>\n",
       "      <td>Ladakh</td>\n",
       "      <td>2020-04-15</td>\n",
       "      <td>10</td>\n",
       "      <td>0</td>\n",
       "      <td>17</td>\n",
       "    </tr>\n",
       "    <tr>\n",
       "      <th>31</th>\n",
       "      <td>Kerala</td>\n",
       "      <td>2020-04-15</td>\n",
       "      <td>211</td>\n",
       "      <td>3</td>\n",
       "      <td>387</td>\n",
       "    </tr>\n",
       "    <tr>\n",
       "      <th>32</th>\n",
       "      <td>Bihar</td>\n",
       "      <td>2020-04-15</td>\n",
       "      <td>29</td>\n",
       "      <td>1</td>\n",
       "      <td>70</td>\n",
       "    </tr>\n",
       "    <tr>\n",
       "      <th>33</th>\n",
       "      <td>Himachal Pradesh</td>\n",
       "      <td>2020-04-15</td>\n",
       "      <td>13</td>\n",
       "      <td>1</td>\n",
       "      <td>33</td>\n",
       "    </tr>\n",
       "    <tr>\n",
       "      <th>34</th>\n",
       "      <td>Tamil Nadu</td>\n",
       "      <td>2020-04-15</td>\n",
       "      <td>81</td>\n",
       "      <td>12</td>\n",
       "      <td>1204</td>\n",
       "    </tr>\n",
       "  </tbody>\n",
       "</table>\n",
       "</div>"
      ],
      "text/plain": [
       "                          state   datetime  cured  deaths  confirmed\n",
       "0                       Manipur 2020-04-15      1       0          2\n",
       "1                     Telengana 2020-04-15    120      18        647\n",
       "2                       Tripura 2020-04-15      0       0          2\n",
       "3                   West Bengal 2020-04-15     37       7        213\n",
       "4                     Rajasthan 2020-04-15    147       3       1005\n",
       "5                     Nagaland# 2020-04-15      0       0          0\n",
       "6                       Mizoram 2020-04-15      0       0          1\n",
       "7                         Assam 2020-04-15      0       1         33\n",
       "8             Jammu and Kashmir 2020-04-15     30       4        278\n",
       "9                Madhya Pradesh 2020-04-15     64      53        987\n",
       "10                   Chandigarh 2020-04-15      7       0         21\n",
       "11                  Maharashtra 2020-04-15    259     178       2687\n",
       "12                      Haryana 2020-04-15     34       3        199\n",
       "13                 Chhattisgarh 2020-04-15     13       0         33\n",
       "14                Uttar Pradesh 2020-04-15     51      11        735\n",
       "15                  Uttarakhand 2020-04-15      9       0         37\n",
       "16                      Gujarat 2020-04-15     59      30        695\n",
       "17                          Goa 2020-04-15      5       0          7\n",
       "18                    Karnataka 2020-04-15     75      11        277\n",
       "19            Arunachal Pradesh 2020-04-15      0       0          1\n",
       "20                       Odisha 2020-04-15     18       1         60\n",
       "21                    Jharkhand 2020-04-15      0       2         27\n",
       "22                   Puducherry 2020-04-15      1       0          7\n",
       "23  Andaman and Nicobar Islands 2020-04-15     10       0         11\n",
       "24               Andhra Pradesh 2020-04-15     16       9        503\n",
       "25                       Punjab 2020-04-15     14      13        186\n",
       "26                        Delhi 2020-04-15     30      30       1561\n",
       "27                     Nagaland 2020-04-14      0       0          1\n",
       "28                    Meghalaya 2020-04-15      0       1          7\n",
       "29                   Unassigned 2020-04-03      0       0         77\n",
       "30                       Ladakh 2020-04-15     10       0         17\n",
       "31                       Kerala 2020-04-15    211       3        387\n",
       "32                        Bihar 2020-04-15     29       1         70\n",
       "33             Himachal Pradesh 2020-04-15     13       1         33\n",
       "34                   Tamil Nadu 2020-04-15     81      12       1204"
      ]
     },
     "execution_count": 280,
     "metadata": {},
     "output_type": "execute_result"
    }
   ],
   "source": [
    "print(\"Reading the 'covid_19_india.csv' dataset to rdd\")\n",
    "raw_covid_file = sc.textFile(\"/usr/data/kaggle/covid19-in-india/covid_19_india.csv\")\n",
    "\n",
    "print(\"Sanitizing covid-19 data and preparing covid-19 data\")\n",
    "headers = raw_covid_file.first()\n",
    "raw_data = raw_covid_file.filter(lambda line: line != headers)\n",
    "split_covid_data = raw_data.map(lambda line: line.split(\",\"))\n",
    "sanitized_covid_data = split_covid_data.map(lambda line: (line[3], datetime.strptime(line[1], '%d/%m/%y'), int(line[6]), int(line[7]), int(line[8])))\n",
    "\n",
    "print(\"Converting sanitized covid data's RDD to DataFrame\")\n",
    "covid_df = sanitized_covid_data.toDF([\"state\", \"datetime\", \"cured\", \"deaths\", \"confirmed\"])\n",
    "\n",
    "print(\"Grouping data by 'state' getting the latest (max) date for each state...\")\n",
    "most_recent_date_by_state = covid_df.withColumn(\"datetime\", col(\"datetime\")).\\\n",
    "                                    groupBy(\"state\")\\\n",
    "                                    .agg(max_(\"datetime\"))\n",
    "most_recent_date_by_state.show()\n",
    "\n",
    "print(\"Now we'll join the covid_df (full table) with the partial table of most recent dates by state.\")\n",
    "covid_df_latest_records = df.join(most_recent, [(df.state == most_recent.state) & (df[\"datetime\"]==most_recent[\"max(datetime)\"])])\\\n",
    ".select(df.state, \"datetime\", \"cured\", \"deaths\", \"confirmed\")\n",
    "\n",
    "print(\"Let's display that joined table in a nice Pandas format:\")\n",
    "covid_df_latest_records.toPandas()\n"
   ]
  },
  {
   "cell_type": "code",
   "execution_count": 327,
   "metadata": {
    "scrolled": true,
    "tags": [
     "joined-table",
     "population-joined-with-covid"
    ]
   },
   "outputs": [
    {
     "name": "stdout",
     "output_type": "stream",
     "text": [
      "Joining the population data and the covid_df_latest_records and converting to Pandas object for easy plotting...\n"
     ]
    },
    {
     "data": {
      "text/html": [
       "<div>\n",
       "<style scoped>\n",
       "    .dataframe tbody tr th:only-of-type {\n",
       "        vertical-align: middle;\n",
       "    }\n",
       "\n",
       "    .dataframe tbody tr th {\n",
       "        vertical-align: top;\n",
       "    }\n",
       "\n",
       "    .dataframe thead th {\n",
       "        text-align: right;\n",
       "    }\n",
       "</style>\n",
       "<table border=\"1\" class=\"dataframe\">\n",
       "  <thead>\n",
       "    <tr style=\"text-align: right;\">\n",
       "      <th></th>\n",
       "      <th>state</th>\n",
       "      <th>datetime</th>\n",
       "      <th>cured</th>\n",
       "      <th>deaths</th>\n",
       "      <th>confirmed</th>\n",
       "      <th>population</th>\n",
       "      <th>density</th>\n",
       "    </tr>\n",
       "  </thead>\n",
       "  <tbody>\n",
       "    <tr>\n",
       "      <th>0</th>\n",
       "      <td>Nagaland</td>\n",
       "      <td>2020-04-14</td>\n",
       "      <td>0</td>\n",
       "      <td>0</td>\n",
       "      <td>1</td>\n",
       "      <td>1978502</td>\n",
       "      <td>119</td>\n",
       "    </tr>\n",
       "    <tr>\n",
       "      <th>1</th>\n",
       "      <td>Karnataka</td>\n",
       "      <td>2020-04-15</td>\n",
       "      <td>75</td>\n",
       "      <td>11</td>\n",
       "      <td>277</td>\n",
       "      <td>61095297</td>\n",
       "      <td>319</td>\n",
       "    </tr>\n",
       "    <tr>\n",
       "      <th>2</th>\n",
       "      <td>Odisha</td>\n",
       "      <td>2020-04-15</td>\n",
       "      <td>18</td>\n",
       "      <td>1</td>\n",
       "      <td>60</td>\n",
       "      <td>41974218</td>\n",
       "      <td>269</td>\n",
       "    </tr>\n",
       "    <tr>\n",
       "      <th>3</th>\n",
       "      <td>Kerala</td>\n",
       "      <td>2020-04-15</td>\n",
       "      <td>211</td>\n",
       "      <td>3</td>\n",
       "      <td>387</td>\n",
       "      <td>33406061</td>\n",
       "      <td>859</td>\n",
       "    </tr>\n",
       "    <tr>\n",
       "      <th>4</th>\n",
       "      <td>Ladakh</td>\n",
       "      <td>2020-04-15</td>\n",
       "      <td>10</td>\n",
       "      <td>0</td>\n",
       "      <td>17</td>\n",
       "      <td>274000</td>\n",
       "      <td>3</td>\n",
       "    </tr>\n",
       "    <tr>\n",
       "      <th>5</th>\n",
       "      <td>Tamil Nadu</td>\n",
       "      <td>2020-04-15</td>\n",
       "      <td>81</td>\n",
       "      <td>12</td>\n",
       "      <td>1204</td>\n",
       "      <td>72147030</td>\n",
       "      <td>555</td>\n",
       "    </tr>\n",
       "    <tr>\n",
       "      <th>6</th>\n",
       "      <td>Telengana</td>\n",
       "      <td>2020-04-15</td>\n",
       "      <td>120</td>\n",
       "      <td>18</td>\n",
       "      <td>647</td>\n",
       "      <td>35003674</td>\n",
       "      <td>312</td>\n",
       "    </tr>\n",
       "    <tr>\n",
       "      <th>7</th>\n",
       "      <td>Chhattisgarh</td>\n",
       "      <td>2020-04-15</td>\n",
       "      <td>13</td>\n",
       "      <td>0</td>\n",
       "      <td>33</td>\n",
       "      <td>25545198</td>\n",
       "      <td>189</td>\n",
       "    </tr>\n",
       "    <tr>\n",
       "      <th>8</th>\n",
       "      <td>Andhra Pradesh</td>\n",
       "      <td>2020-04-15</td>\n",
       "      <td>16</td>\n",
       "      <td>9</td>\n",
       "      <td>503</td>\n",
       "      <td>49577103</td>\n",
       "      <td>303</td>\n",
       "    </tr>\n",
       "    <tr>\n",
       "      <th>9</th>\n",
       "      <td>Madhya Pradesh</td>\n",
       "      <td>2020-04-15</td>\n",
       "      <td>64</td>\n",
       "      <td>53</td>\n",
       "      <td>987</td>\n",
       "      <td>72626809</td>\n",
       "      <td>236</td>\n",
       "    </tr>\n",
       "    <tr>\n",
       "      <th>10</th>\n",
       "      <td>Punjab</td>\n",
       "      <td>2020-04-15</td>\n",
       "      <td>14</td>\n",
       "      <td>13</td>\n",
       "      <td>186</td>\n",
       "      <td>27743338</td>\n",
       "      <td>550</td>\n",
       "    </tr>\n",
       "    <tr>\n",
       "      <th>11</th>\n",
       "      <td>Manipur</td>\n",
       "      <td>2020-04-15</td>\n",
       "      <td>1</td>\n",
       "      <td>0</td>\n",
       "      <td>2</td>\n",
       "      <td>2570390</td>\n",
       "      <td>122</td>\n",
       "    </tr>\n",
       "    <tr>\n",
       "      <th>12</th>\n",
       "      <td>Goa</td>\n",
       "      <td>2020-04-15</td>\n",
       "      <td>5</td>\n",
       "      <td>0</td>\n",
       "      <td>7</td>\n",
       "      <td>1458545</td>\n",
       "      <td>394</td>\n",
       "    </tr>\n",
       "    <tr>\n",
       "      <th>13</th>\n",
       "      <td>Mizoram</td>\n",
       "      <td>2020-04-15</td>\n",
       "      <td>0</td>\n",
       "      <td>0</td>\n",
       "      <td>1</td>\n",
       "      <td>1097206</td>\n",
       "      <td>52</td>\n",
       "    </tr>\n",
       "    <tr>\n",
       "      <th>14</th>\n",
       "      <td>Himachal Pradesh</td>\n",
       "      <td>2020-04-15</td>\n",
       "      <td>13</td>\n",
       "      <td>1</td>\n",
       "      <td>33</td>\n",
       "      <td>6864602</td>\n",
       "      <td>123</td>\n",
       "    </tr>\n",
       "    <tr>\n",
       "      <th>15</th>\n",
       "      <td>Puducherry</td>\n",
       "      <td>2020-04-15</td>\n",
       "      <td>1</td>\n",
       "      <td>0</td>\n",
       "      <td>7</td>\n",
       "      <td>1247953</td>\n",
       "      <td>2598</td>\n",
       "    </tr>\n",
       "    <tr>\n",
       "      <th>16</th>\n",
       "      <td>Haryana</td>\n",
       "      <td>2020-04-15</td>\n",
       "      <td>34</td>\n",
       "      <td>3</td>\n",
       "      <td>199</td>\n",
       "      <td>25351462</td>\n",
       "      <td>573</td>\n",
       "    </tr>\n",
       "    <tr>\n",
       "      <th>17</th>\n",
       "      <td>Jammu and Kashmir</td>\n",
       "      <td>2020-04-15</td>\n",
       "      <td>30</td>\n",
       "      <td>4</td>\n",
       "      <td>278</td>\n",
       "      <td>12267032</td>\n",
       "      <td>98</td>\n",
       "    </tr>\n",
       "    <tr>\n",
       "      <th>18</th>\n",
       "      <td>Jharkhand</td>\n",
       "      <td>2020-04-15</td>\n",
       "      <td>0</td>\n",
       "      <td>2</td>\n",
       "      <td>27</td>\n",
       "      <td>32988134</td>\n",
       "      <td>414</td>\n",
       "    </tr>\n",
       "    <tr>\n",
       "      <th>19</th>\n",
       "      <td>Arunachal Pradesh</td>\n",
       "      <td>2020-04-15</td>\n",
       "      <td>0</td>\n",
       "      <td>0</td>\n",
       "      <td>1</td>\n",
       "      <td>1383727</td>\n",
       "      <td>17</td>\n",
       "    </tr>\n",
       "    <tr>\n",
       "      <th>20</th>\n",
       "      <td>Gujarat</td>\n",
       "      <td>2020-04-15</td>\n",
       "      <td>59</td>\n",
       "      <td>30</td>\n",
       "      <td>695</td>\n",
       "      <td>60439692</td>\n",
       "      <td>308</td>\n",
       "    </tr>\n",
       "    <tr>\n",
       "      <th>21</th>\n",
       "      <td>Delhi</td>\n",
       "      <td>2020-04-15</td>\n",
       "      <td>30</td>\n",
       "      <td>30</td>\n",
       "      <td>1561</td>\n",
       "      <td>16787941</td>\n",
       "      <td>11297</td>\n",
       "    </tr>\n",
       "    <tr>\n",
       "      <th>22</th>\n",
       "      <td>Chandigarh</td>\n",
       "      <td>2020-04-15</td>\n",
       "      <td>7</td>\n",
       "      <td>0</td>\n",
       "      <td>21</td>\n",
       "      <td>1055450</td>\n",
       "      <td>9252</td>\n",
       "    </tr>\n",
       "    <tr>\n",
       "      <th>23</th>\n",
       "      <td>Andaman and Nicobar Islands</td>\n",
       "      <td>2020-04-15</td>\n",
       "      <td>10</td>\n",
       "      <td>0</td>\n",
       "      <td>11</td>\n",
       "      <td>380581</td>\n",
       "      <td>46</td>\n",
       "    </tr>\n",
       "    <tr>\n",
       "      <th>24</th>\n",
       "      <td>Rajasthan</td>\n",
       "      <td>2020-04-15</td>\n",
       "      <td>147</td>\n",
       "      <td>3</td>\n",
       "      <td>1005</td>\n",
       "      <td>68548437</td>\n",
       "      <td>201</td>\n",
       "    </tr>\n",
       "    <tr>\n",
       "      <th>25</th>\n",
       "      <td>Assam</td>\n",
       "      <td>2020-04-15</td>\n",
       "      <td>0</td>\n",
       "      <td>1</td>\n",
       "      <td>33</td>\n",
       "      <td>31205576</td>\n",
       "      <td>397</td>\n",
       "    </tr>\n",
       "    <tr>\n",
       "      <th>26</th>\n",
       "      <td>Meghalaya</td>\n",
       "      <td>2020-04-15</td>\n",
       "      <td>0</td>\n",
       "      <td>1</td>\n",
       "      <td>7</td>\n",
       "      <td>2966889</td>\n",
       "      <td>132</td>\n",
       "    </tr>\n",
       "    <tr>\n",
       "      <th>27</th>\n",
       "      <td>Maharashtra</td>\n",
       "      <td>2020-04-15</td>\n",
       "      <td>259</td>\n",
       "      <td>178</td>\n",
       "      <td>2687</td>\n",
       "      <td>112374333</td>\n",
       "      <td>365</td>\n",
       "    </tr>\n",
       "    <tr>\n",
       "      <th>28</th>\n",
       "      <td>West Bengal</td>\n",
       "      <td>2020-04-15</td>\n",
       "      <td>37</td>\n",
       "      <td>7</td>\n",
       "      <td>213</td>\n",
       "      <td>91276115</td>\n",
       "      <td>1029</td>\n",
       "    </tr>\n",
       "    <tr>\n",
       "      <th>29</th>\n",
       "      <td>Bihar</td>\n",
       "      <td>2020-04-15</td>\n",
       "      <td>29</td>\n",
       "      <td>1</td>\n",
       "      <td>70</td>\n",
       "      <td>104099452</td>\n",
       "      <td>1102</td>\n",
       "    </tr>\n",
       "    <tr>\n",
       "      <th>30</th>\n",
       "      <td>Tripura</td>\n",
       "      <td>2020-04-15</td>\n",
       "      <td>0</td>\n",
       "      <td>0</td>\n",
       "      <td>2</td>\n",
       "      <td>3673917</td>\n",
       "      <td>350</td>\n",
       "    </tr>\n",
       "    <tr>\n",
       "      <th>31</th>\n",
       "      <td>Uttar Pradesh</td>\n",
       "      <td>2020-04-15</td>\n",
       "      <td>51</td>\n",
       "      <td>11</td>\n",
       "      <td>735</td>\n",
       "      <td>199812341</td>\n",
       "      <td>828</td>\n",
       "    </tr>\n",
       "    <tr>\n",
       "      <th>32</th>\n",
       "      <td>Uttarakhand</td>\n",
       "      <td>2020-04-15</td>\n",
       "      <td>9</td>\n",
       "      <td>0</td>\n",
       "      <td>37</td>\n",
       "      <td>10086292</td>\n",
       "      <td>189</td>\n",
       "    </tr>\n",
       "  </tbody>\n",
       "</table>\n",
       "</div>"
      ],
      "text/plain": [
       "                          state   datetime  cured  deaths  confirmed  \\\n",
       "0                      Nagaland 2020-04-14      0       0          1   \n",
       "1                     Karnataka 2020-04-15     75      11        277   \n",
       "2                        Odisha 2020-04-15     18       1         60   \n",
       "3                        Kerala 2020-04-15    211       3        387   \n",
       "4                        Ladakh 2020-04-15     10       0         17   \n",
       "5                    Tamil Nadu 2020-04-15     81      12       1204   \n",
       "6                     Telengana 2020-04-15    120      18        647   \n",
       "7                  Chhattisgarh 2020-04-15     13       0         33   \n",
       "8                Andhra Pradesh 2020-04-15     16       9        503   \n",
       "9                Madhya Pradesh 2020-04-15     64      53        987   \n",
       "10                       Punjab 2020-04-15     14      13        186   \n",
       "11                      Manipur 2020-04-15      1       0          2   \n",
       "12                          Goa 2020-04-15      5       0          7   \n",
       "13                      Mizoram 2020-04-15      0       0          1   \n",
       "14             Himachal Pradesh 2020-04-15     13       1         33   \n",
       "15                   Puducherry 2020-04-15      1       0          7   \n",
       "16                      Haryana 2020-04-15     34       3        199   \n",
       "17            Jammu and Kashmir 2020-04-15     30       4        278   \n",
       "18                    Jharkhand 2020-04-15      0       2         27   \n",
       "19            Arunachal Pradesh 2020-04-15      0       0          1   \n",
       "20                      Gujarat 2020-04-15     59      30        695   \n",
       "21                        Delhi 2020-04-15     30      30       1561   \n",
       "22                   Chandigarh 2020-04-15      7       0         21   \n",
       "23  Andaman and Nicobar Islands 2020-04-15     10       0         11   \n",
       "24                    Rajasthan 2020-04-15    147       3       1005   \n",
       "25                        Assam 2020-04-15      0       1         33   \n",
       "26                    Meghalaya 2020-04-15      0       1          7   \n",
       "27                  Maharashtra 2020-04-15    259     178       2687   \n",
       "28                  West Bengal 2020-04-15     37       7        213   \n",
       "29                        Bihar 2020-04-15     29       1         70   \n",
       "30                      Tripura 2020-04-15      0       0          2   \n",
       "31                Uttar Pradesh 2020-04-15     51      11        735   \n",
       "32                  Uttarakhand 2020-04-15      9       0         37   \n",
       "\n",
       "    population  density  \n",
       "0      1978502      119  \n",
       "1     61095297      319  \n",
       "2     41974218      269  \n",
       "3     33406061      859  \n",
       "4       274000        3  \n",
       "5     72147030      555  \n",
       "6     35003674      312  \n",
       "7     25545198      189  \n",
       "8     49577103      303  \n",
       "9     72626809      236  \n",
       "10    27743338      550  \n",
       "11     2570390      122  \n",
       "12     1458545      394  \n",
       "13     1097206       52  \n",
       "14     6864602      123  \n",
       "15     1247953     2598  \n",
       "16    25351462      573  \n",
       "17    12267032       98  \n",
       "18    32988134      414  \n",
       "19     1383727       17  \n",
       "20    60439692      308  \n",
       "21    16787941    11297  \n",
       "22     1055450     9252  \n",
       "23      380581       46  \n",
       "24    68548437      201  \n",
       "25    31205576      397  \n",
       "26     2966889      132  \n",
       "27   112374333      365  \n",
       "28    91276115     1029  \n",
       "29   104099452     1102  \n",
       "30     3673917      350  \n",
       "31   199812341      828  \n",
       "32    10086292      189  "
      ]
     },
     "execution_count": 327,
     "metadata": {},
     "output_type": "execute_result"
    }
   ],
   "source": [
    "print(\"Joining the population data and the covid_df_latest_records and converting to Pandas object for easy plotting...\")\n",
    "df = covid_df_latest_records.join(population_df, [\"state\"])\n",
    "pd = df.toPandas()\n",
    "pd"
   ]
  },
  {
   "cell_type": "code",
   "execution_count": 197,
   "metadata": {
    "tags": [
     "confirmed-cured",
     "correlation",
     "scatter-plot",
     "scatter",
     "plot"
    ]
   },
   "outputs": [
    {
     "name": "stdout",
     "output_type": "stream",
     "text": [
      "Now let's try to come out with some insights about the data: \n",
      "Correlation between confirmed and cured cases: 0.7477287499967894\n",
      "Correlation is measured between -1 (for low) and 1 (for high).\n",
      "As we can see, 0.747 is fairly high and even though this 'insight' is trivial it clearly demonstrate high correlation.\n",
      "\n",
      "Let's draw the confirmed-cured correlation in a scatter plot...\n",
      "We can see the strong connection between the two parameters in each state and notice that in the general case:\n",
      "as high as we go in the x axis, the higher y value the point gets\n"
     ]
    },
    {
     "data": {
      "image/png": "[encoded data removed]",
      "text/plain": [
       "<Figure size 360x360 with 1 Axes>"
      ]
     },
     "metadata": {
      "needs_background": "light"
     },
     "output_type": "display_data"
    }
   ],
   "source": [
    "print(f\"Now let's try to come out with some insights about the data: \\n\"\n",
    "    f\"Correlation between confirmed and cured cases: {pd['confirmed'].corr(pd['cured'])}\\n\"\n",
    "    f\"Correlation is measured between -1 (for low) and 1 (for high).\\n\"\n",
    "    f\"As we can see, 0.747 is fairly high and even though this 'insight' is trivial it clearly demonstrate high correlation.\\n\")\n",
    "\n",
    "print(\"Let's draw the confirmed-cured correlation in a scatter plot...\")\n",
    "print(\"We can see the strong connection between the two parameters in each state and notice that in the general case:\\n\"\n",
    "        \"as high as we go in the x axis, the higher y value the point gets\")\n",
    "plt.figure(figsize=(5,5))\n",
    "plt.scatter(pd[\"confirmed\"], pd[\"cured\"], color=\"g\")\n",
    "plt.title('Scatter plot: Confirmed cases vs cured')\n",
    "plt.show()"
   ]
  },
  {
   "cell_type": "code",
   "execution_count": 198,
   "metadata": {
    "tags": [
     "confirmed-deaths",
     "correlation",
     "scatter-plot",
     "scatter",
     "plot"
    ]
   },
   "outputs": [
    {
     "name": "stdout",
     "output_type": "stream",
     "text": [
      "Now lets take a look at an even stronger correlation: \n",
      "The correlation between Confirmed and Death cases: 0.8511584605156302\n",
      "\n",
      "As we can see in confirmed-deaths scatter plot, all the dots are more centered and demonstrate a strong linear regression\n"
     ]
    },
    {
     "data": {
      "image/png": "[encoded data removed]",
      "text/plain": [
       "<Figure size 360x360 with 1 Axes>"
      ]
     },
     "metadata": {
      "needs_background": "light"
     },
     "output_type": "display_data"
    }
   ],
   "source": [
    "print(f\"Now lets take a look at an even stronger correlation: \\n\"\n",
    "      f\"The correlation between Confirmed and Death cases: {pd['confirmed'].corr(pd['deaths'])}\\n\") \n",
    "\n",
    "print(\"As we can see in confirmed-deaths scatter plot, all the dots are more centered and demonstrate a strong linear regression\")\n",
    "plt.figure(figsize=(5,5))\n",
    "plt.scatter(pd[\"confirmed\"], pd[\"deaths\"], color=\"r\")\n",
    "plt.title('Scatter plot: Confirmed cases vs deaths')\n",
    "plt.show()"
   ]
  },
  {
   "cell_type": "code",
   "execution_count": 199,
   "metadata": {
    "tags": [
     "population-density",
     "X",
     "confirmed",
     "scatter"
    ]
   },
   "outputs": [
    {
     "name": "stdout",
     "output_type": "stream",
     "text": [
      "As we can see, the correlation between confirmed cases and the state's density of population does exist, yet relatively loose.\n",
      "Confirmed-density correlation: 0.2181782035715635\n",
      "and as a scatter plot:\n"
     ]
    },
    {
     "data": {
      "image/png": "[encoded data removed]",
      "text/plain": [
       "<Figure size 360x360 with 1 Axes>"
      ]
     },
     "metadata": {
      "needs_background": "light"
     },
     "output_type": "display_data"
    }
   ],
   "source": [
    "print(f\"As we can see, the correlation between confirmed cases and the state's density of population does exist, yet relatively loose.\\n\"\n",
    "      f\"Confirmed-density correlation: {pd['confirmed'].corr(pd['density'])}\\n\"\n",
    "     \"and as a scatter plot:\") \n",
    "\n",
    "plt.figure(figsize=(5,5))\n",
    "plt.scatter(pd[\"confirmed\"], pd[\"density\"], color=\"b\")\n",
    "plt.title('Scatter plot: Confirmed cases vs density')\n",
    "plt.show()"
   ]
  },
  {
   "cell_type": "code",
   "execution_count": 200,
   "metadata": {},
   "outputs": [
    {
     "name": "stdout",
     "output_type": "stream",
     "text": [
      "Let's draw all three correlations on the same scatter plot:\n",
      "Notice that the red 'confirmed+deaths' dots are so densed they are almost totaly covered by the others\n"
     ]
    },
    {
     "data": {
      "image/png": "[encoded data removed]",
      "text/plain": [
       "<Figure size 360x360 with 1 Axes>"
      ]
     },
     "metadata": {
      "needs_background": "light"
     },
     "output_type": "display_data"
    }
   ],
   "source": [
    "print(\"Let's draw all three correlations on the same scatter plot:\")\n",
    "print(\"Notice that the red 'confirmed+deaths' dots are so densed they are almost totaly covered by the others\")\n",
    "plt.figure(figsize=(5,5))\n",
    "plt.scatter(pd[\"confirmed\"], pd[\"density\"], label=\"Density\", color=\"b\")\n",
    "plt.scatter(pd[\"confirmed\"], pd[\"deaths\"], label=\"Deaths\", color=\"r\")\n",
    "plt.scatter(pd[\"confirmed\"], pd[\"cured\"], label=\"Cured\", color=\"g\")\n",
    "plt.legend()\n",
    "plt.title('Scatter plot: Confirmed cases vs density/deaths/cured')\n",
    "plt.show()"
   ]
  },
  {
   "cell_type": "code",
   "execution_count": 203,
   "metadata": {
    "tags": [
     "Confirmed",
     "vs",
     "cured",
     "density"
    ]
   },
   "outputs": [
    {
     "data": {
      "text/plain": [
       "<matplotlib.axes._subplots.AxesSubplot at 0x7f32146fa610>"
      ]
     },
     "execution_count": 203,
     "metadata": {},
     "output_type": "execute_result"
    },
    {
     "data": {
      "image/png": "[encoded data removed]",
      "text/plain": [
       "<Figure size 1152x432 with 1 Axes>"
      ]
     },
     "metadata": {
      "needs_background": "light"
     },
     "output_type": "display_data"
    }
   ],
   "source": [
    "plt.figure(figsize=(16, 6))\n",
    "sns.kdeplot(pd['confirmed'], shade=True)\n",
    "sns.kdeplot(pd['cured'], shade=True, color=\"g\")\n"
   ]
  },
  {
   "cell_type": "code",
   "execution_count": 226,
   "metadata": {
    "scrolled": false,
    "tags": [
     "confirmed",
     "vs",
     "cured",
     "deaths",
     "density"
    ]
   },
   "outputs": [
    {
     "data": {
      "text/plain": [
       "<matplotlib.axes._subplots.AxesSubplot at 0x7f321531b390>"
      ]
     },
     "execution_count": 226,
     "metadata": {},
     "output_type": "execute_result"
    },
    {
     "data": {
      "image/png": "[encoded data removed]",
      "text/plain": [
       "<Figure size 1152x432 with 1 Axes>"
      ]
     },
     "metadata": {
      "needs_background": "light"
     },
     "output_type": "display_data"
    }
   ],
   "source": [
    "plt.figure(figsize=(16, 6))\n",
    "sns.kdeplot(pd['deaths'], shade=True, color=\"r\")\n",
    "sns.kdeplot(pd['confirmed'], shade=True)"
   ]
  },
  {
   "cell_type": "code",
   "execution_count": 230,
   "metadata": {
    "scrolled": true
   },
   "outputs": [
    {
     "data": {
      "text/plain": [
       "<matplotlib.axes._subplots.AxesSubplot at 0x7f3213e00850>"
      ]
     },
     "execution_count": 230,
     "metadata": {},
     "output_type": "execute_result"
    },
    {
     "data": {
      "image/png": "[encoded data removed]",
      "text/plain": [
       "<Figure size 432x288 with 1 Axes>"
      ]
     },
     "metadata": {
      "needs_background": "light"
     },
     "output_type": "display_data"
    }
   ],
   "source": [
    "#@TODO - FIND SOME GOOD DATA TO DISPLAY IN BOX PLOT\n",
    "sns.boxplot(x=\"state\", y=\"confirmed\", data=pd)"
   ]
  },
  {
   "cell_type": "code",
   "execution_count": 322,
   "metadata": {
    "scrolled": false
   },
   "outputs": [
    {
     "name": "stdout",
     "output_type": "stream",
     "text": [
      "Let's take a look at the confirmed cases growth over time:\n",
      "Delhi state vs the state of Uttarakhand\n"
     ]
    },
    {
     "data": {
      "image/png": "[encoded data removed]",
      "text/plain": [
       "<Figure size 720x720 with 1 Axes>"
      ]
     },
     "metadata": {
      "needs_background": "light"
     },
     "output_type": "display_data"
    }
   ],
   "source": [
    "print(\"Let's take a look at the confirmed cases growth over time:\\n\"\n",
    "        \"Delhi state vs the state of Uttarakhand\")\n",
    "delhi_covid_overtime = covid_df.filter(covid_df.state=='Delhi').toPandas()\n",
    "uttarakhand_covid_overtime = covid_df.filter(covid_df.state=='Uttarakhand').toPandas()\n",
    "\n",
    "plt.figure(figsize=(10, 10))\n",
    "plt.gcf().autofmt_xdate()\n",
    "plt.xlabel('Date')\n",
    "plt.ylabel('Confirmed Cases')\n",
    "\n",
    "plt.plot(delhi_covid_overtime.datetime, delhi_covid_overtime.confirmed, label=\"Delhi\")\n",
    "plt.plot(uttarakhand_covid_overtime.datetime, uttarakhand_covid_overtime.confirmed, label=\"Uttarakhand\")\n",
    "plt.legend()\n",
    "plt.show()"
   ]
  },
  {
   "cell_type": "code",
   "execution_count": 383,
   "metadata": {},
   "outputs": [
    {
     "name": "stdout",
     "output_type": "stream",
     "text": [
      "One might claim that the un-equal growth is highly influenced by the huge difference in population sizes of both states\n",
      "A glance at this bar chart shows that the difference between Delhi and Uttarakhand is not that big\n"
     ]
    },
    {
     "data": {
      "text/plain": [
       "Text(0.5, 1.0, 'Delhi vs Utarakhand: Population in millions')"
      ]
     },
     "execution_count": 383,
     "metadata": {},
     "output_type": "execute_result"
    },
    {
     "data": {
      "image/png": "[encoded data removed]",
      "text/plain": [
       "<Figure size 432x288 with 1 Axes>"
      ]
     },
     "metadata": {
      "needs_background": "light"
     },
     "output_type": "display_data"
    }
   ],
   "source": [
    "print(\"One might claim that the un-equal growth is highly influenced by the huge difference in population sizes of both states\\n\"\n",
    "     \"A glance at this bar chart shows that the difference between Delhi and Uttarakhand is not that big\")\n",
    "\n",
    "mini_df = df.rdd.map(lambda row: (row.state, row.density, row.population)).filter(lambda tup: tup[0] in [\"Delhi\", \"Uttarakhand\"]).toDF([\"state\", \"density\", \"population\"]).toPandas()\n",
    "sns.barplot(x='state', y='population', data=mini_df).set_title(\"Delhi vs Utarakhand: Population in millions\")"
   ]
  },
  {
   "cell_type": "code",
   "execution_count": 385,
   "metadata": {},
   "outputs": [
    {
     "name": "stdout",
     "output_type": "stream",
     "text": [
      "However, the Density difference of the two is much larger, and might have a greater influence on the differential growth\n"
     ]
    },
    {
     "data": {
      "text/plain": [
       "Text(0.5, 1.0, 'Delhi vs Utarakhand: Population Density (people per sqr KM)')"
      ]
     },
     "execution_count": 385,
     "metadata": {},
     "output_type": "execute_result"
    },
    {
     "data": {
      "image/png": "[encoded data removed]",
      "text/plain": [
       "<Figure size 432x288 with 1 Axes>"
      ]
     },
     "metadata": {
      "needs_background": "light"
     },
     "output_type": "display_data"
    }
   ],
   "source": [
    "print(f\"However, the Density difference of the two is much larger, and might have a greater influence on the differential growth\")\n",
    "sns.barplot(x='state', y='density', data=mini_df).set_title(\"Delhi vs Utarakhand: Population Density (people per sqr KM)\")"
   ]
  },
  {
   "cell_type": "code",
   "execution_count": null,
   "metadata": {},
   "outputs": [],
   "source": [
    "#@TODO - 1. Linear regression model\n",
    "#@TODO - 2. box plot\n",
    "#@TODO - 3. google maps API\n",
    "\n",
    "\n",
    "from pyspark.ml.regression import LinearRegression\n",
    "lr = LinearRegression(featuresCol = 'features', labelCol='MV', maxIter=10, regParam=0.3, elasticNetParam=0.8)\n",
    "lr_model = lr.fit(train_df)\n",
    "\n",
    "print(\"Coefficients: \" + str(lr_model.coefficients))\n",
    "print(\"Intercept: \" + str(lr_model.intercept))"
   ]
  }
 ],
 "metadata": {
  "celltoolbar": "Tags",
  "kernelspec": {
   "display_name": "Python 3",
   "language": "python",
   "name": "python3"
  },
  "language_info": {
   "codemirror_mode": {
    "name": "ipython",
    "version": 3
   },
   "file_extension": ".py",
   "mimetype": "text/x-python",
   "name": "python",
   "nbconvert_exporter": "python",
   "pygments_lexer": "ipython3",
   "version": "3.7.6"
  }
 },
 "nbformat": 4,
 "nbformat_minor": 4
}
