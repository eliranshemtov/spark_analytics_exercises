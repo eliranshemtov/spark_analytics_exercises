{
 "cells": [
  {
   "cell_type": "code",
   "execution_count": 172,
   "metadata": {
    "tags": [
     "imports",
     "preparing",
     "setup"
    ]
   },
   "outputs": [],
   "source": [
    "import matplotlib.pyplot as plt\n",
    "import seaborn as sns\n",
    "import pyspark\n",
    "import pandas as pd\n",
    "import math\n",
    "from datetime import datetime\n",
    "from operator import add\n",
    "from pyspark.sql import *\n",
    "from pyspark.sql.functions import col, max as max_\n",
    "sc = pyspark.SparkContext.getOrCreate()\n",
    "sqlContext = pyspark.sql.SQLContext(sc)"
   ]
  },
  {
   "cell_type": "markdown",
   "metadata": {},
   "source": [
    "# Reading the 'population_india_census2011.csv' dataset to rdd\n",
    "### Sanitizing population_rdd...\n"
   ]
  },
  {
   "cell_type": "code",
   "execution_count": 173,
   "metadata": {
    "scrolled": true,
    "slideshow": {
     "slide_type": "notes"
    },
    "tags": [
     "population-df",
     "population-rdd",
     "population",
     "population_india_census2011"
    ]
   },
   "outputs": [
    {
     "name": "stdout",
     "output_type": "stream",
     "text": [
      "Population RDD mentions data about 36 states in India\n",
      "Total aggregated population in all of the states in population RDD: 1210568111\n"
     ]
    }
   ],
   "source": [
    "population_rdd = sc.textFile(\"/usr/data/kaggle/covid19-in-india/population_india_census2011.csv\")\n",
    "\n",
    "headers = population_rdd.first()\n",
    "population_rdd = population_rdd.filter(lambda line: line != headers)\n",
    "population_rdd = population_rdd.map(lambda line: line.split(\",\"))\n",
    "population_rdd = population_rdd.map(lambda line: (line[1], line[2], line[6]))\n",
    "population_rdd = population_rdd.map(lambda line: (line[0], int(line[1]), math.ceil(float(line[2].split('/')[0]))))\n",
    "\n",
    "print(f\"Population RDD mentions data about {population_rdd.count()} states in India\")\n",
    "\n",
    "total_population = population_rdd.map(lambda line: line[1]).reduce(add)\n",
    "print(f\"Total aggregated population in all of the states in population RDD: {total_population}\")"
   ]
  },
  {
   "cell_type": "markdown",
   "metadata": {},
   "source": [
    "### Converting population RDD to DataFrame and displaying..."
   ]
  },
  {
   "cell_type": "code",
   "execution_count": 174,
   "metadata": {},
   "outputs": [
    {
     "name": "stdout",
     "output_type": "stream",
     "text": [
      "+----------------+----------+-------+\n",
      "|           state|population|density|\n",
      "+----------------+----------+-------+\n",
      "|   Uttar Pradesh| 199812341|    828|\n",
      "|     Maharashtra| 112374333|    365|\n",
      "|           Bihar| 104099452|   1102|\n",
      "|     West Bengal|  91276115|   1029|\n",
      "|  Madhya Pradesh|  72626809|    236|\n",
      "|      Tamil Nadu|  72147030|    555|\n",
      "|       Rajasthan|  68548437|    201|\n",
      "|       Karnataka|  61095297|    319|\n",
      "|         Gujarat|  60439692|    308|\n",
      "|  Andhra Pradesh|  49577103|    303|\n",
      "|          Odisha|  41974218|    269|\n",
      "|       Telengana|  35003674|    312|\n",
      "|          Kerala|  33406061|    859|\n",
      "|       Jharkhand|  32988134|    414|\n",
      "|           Assam|  31205576|    397|\n",
      "|          Punjab|  27743338|    550|\n",
      "|    Chhattisgarh|  25545198|    189|\n",
      "|         Haryana|  25351462|    573|\n",
      "|     Uttarakhand|  10086292|    189|\n",
      "|Himachal Pradesh|   6864602|    123|\n",
      "+----------------+----------+-------+\n",
      "only showing top 20 rows\n",
      "\n"
     ]
    }
   ],
   "source": [
    "population_df = population_rdd.toDF([\"state\", \"population\", \"density\"])\n",
    "population_df.show()"
   ]
  },
  {
   "cell_type": "markdown",
   "metadata": {},
   "source": [
    "# Reading the 'covid_19_india.csv' dataset to rdd\n",
    "####  Sanitizing covid-19 data and preparing covid-19 data"
   ]
  },
  {
   "cell_type": "code",
   "execution_count": 175,
   "metadata": {
    "scrolled": true,
    "tags": [
     "covid_19_india",
     "main-covid-file",
     "covid",
     "covid-19",
     "join"
    ]
   },
   "outputs": [],
   "source": [
    "raw_covid_file = sc.textFile(\"/usr/data/kaggle/covid19-in-india/covid_19_india.csv\")\n",
    "headers = raw_covid_file.first()\n",
    "raw_data = raw_covid_file.filter(lambda line: line != headers)\n",
    "split_covid_data = raw_data.map(lambda line: line.split(\",\"))\n",
    "sanitized_covid_data = split_covid_data.map(lambda line: (line[3], datetime.strptime(line[1], '%d/%m/%y'), int(line[6]), int(line[7]), int(line[8])))"
   ]
  },
  {
   "cell_type": "markdown",
   "metadata": {},
   "source": [
    "### Converting sanitized covid data's RDD to DataFrame and displaying..."
   ]
  },
  {
   "cell_type": "code",
   "execution_count": 176,
   "metadata": {},
   "outputs": [
    {
     "name": "stdout",
     "output_type": "stream",
     "text": [
      "+------+-------------------+-----+------+---------+\n",
      "| state|           datetime|cured|deaths|confirmed|\n",
      "+------+-------------------+-----+------+---------+\n",
      "|Kerala|2020-01-30 00:00:00|    0|     0|        1|\n",
      "|Kerala|2020-01-31 00:00:00|    0|     0|        1|\n",
      "|Kerala|2020-02-01 00:00:00|    0|     0|        2|\n",
      "|Kerala|2020-02-02 00:00:00|    0|     0|        3|\n",
      "|Kerala|2020-02-03 00:00:00|    0|     0|        3|\n",
      "|Kerala|2020-02-04 00:00:00|    0|     0|        3|\n",
      "|Kerala|2020-02-05 00:00:00|    0|     0|        3|\n",
      "|Kerala|2020-02-06 00:00:00|    0|     0|        3|\n",
      "|Kerala|2020-02-07 00:00:00|    0|     0|        3|\n",
      "|Kerala|2020-02-08 00:00:00|    0|     0|        3|\n",
      "|Kerala|2020-02-09 00:00:00|    0|     0|        3|\n",
      "|Kerala|2020-02-10 00:00:00|    0|     0|        3|\n",
      "|Kerala|2020-02-11 00:00:00|    0|     0|        3|\n",
      "|Kerala|2020-02-12 00:00:00|    0|     0|        3|\n",
      "|Kerala|2020-02-13 00:00:00|    0|     0|        3|\n",
      "|Kerala|2020-02-14 00:00:00|    0|     0|        3|\n",
      "|Kerala|2020-02-15 00:00:00|    0|     0|        3|\n",
      "|Kerala|2020-02-16 00:00:00|    0|     0|        3|\n",
      "|Kerala|2020-02-17 00:00:00|    0|     0|        3|\n",
      "|Kerala|2020-02-18 00:00:00|    0|     0|        3|\n",
      "+------+-------------------+-----+------+---------+\n",
      "only showing top 20 rows\n",
      "\n"
     ]
    }
   ],
   "source": [
    "covid_df = sanitized_covid_data.toDF([\"state\", \"datetime\", \"cured\", \"deaths\", \"confirmed\"])\n",
    "covid_df.show()"
   ]
  },
  {
   "cell_type": "markdown",
   "metadata": {},
   "source": [
    "#### Grouping data by 'state' getting the latest (max) date for each state...\n"
   ]
  },
  {
   "cell_type": "code",
   "execution_count": 177,
   "metadata": {},
   "outputs": [
    {
     "name": "stdout",
     "output_type": "stream",
     "text": [
      "+-----------------+-------------------+\n",
      "|            state|      max(datetime)|\n",
      "+-----------------+-------------------+\n",
      "|        Nagaland#|2020-04-15 00:00:00|\n",
      "|         Nagaland|2020-04-14 00:00:00|\n",
      "|        Karnataka|2020-04-15 00:00:00|\n",
      "|           Odisha|2020-04-15 00:00:00|\n",
      "|           Kerala|2020-04-15 00:00:00|\n",
      "|           Ladakh|2020-04-15 00:00:00|\n",
      "|       Tamil Nadu|2020-04-15 00:00:00|\n",
      "|        Telengana|2020-04-15 00:00:00|\n",
      "|     Chhattisgarh|2020-04-15 00:00:00|\n",
      "|   Andhra Pradesh|2020-04-15 00:00:00|\n",
      "|   Madhya Pradesh|2020-04-15 00:00:00|\n",
      "|           Punjab|2020-04-15 00:00:00|\n",
      "|          Manipur|2020-04-15 00:00:00|\n",
      "|              Goa|2020-04-15 00:00:00|\n",
      "|          Mizoram|2020-04-15 00:00:00|\n",
      "| Himachal Pradesh|2020-04-15 00:00:00|\n",
      "|       Puducherry|2020-04-15 00:00:00|\n",
      "|       Unassigned|2020-04-03 00:00:00|\n",
      "|          Haryana|2020-04-15 00:00:00|\n",
      "|Jammu and Kashmir|2020-04-15 00:00:00|\n",
      "+-----------------+-------------------+\n",
      "only showing top 20 rows\n",
      "\n"
     ]
    }
   ],
   "source": [
    "most_recent_date_by_state = covid_df.withColumn(\"datetime\",  col(\"datetime\")).\\\n",
    "                                    groupBy(\"state\")\\\n",
    "                                    .agg(max_(\"datetime\"))\n",
    "most_recent_date_by_state.show()"
   ]
  },
  {
   "cell_type": "markdown",
   "metadata": {},
   "source": [
    "#### Join the covid_df (full table) with the partial table of most recent dates by state.\n",
    "And then display that joined table in a nice Pandas format..."
   ]
  },
  {
   "cell_type": "code",
   "execution_count": 178,
   "metadata": {
    "scrolled": true
   },
   "outputs": [
    {
     "data": {
      "text/html": [
       "<div>\n",
       "<style scoped>\n",
       "    .dataframe tbody tr th:only-of-type {\n",
       "        vertical-align: middle;\n",
       "    }\n",
       "\n",
       "    .dataframe tbody tr th {\n",
       "        vertical-align: top;\n",
       "    }\n",
       "\n",
       "    .dataframe thead th {\n",
       "        text-align: right;\n",
       "    }\n",
       "</style>\n",
       "<table border=\"1\" class=\"dataframe\">\n",
       "  <thead>\n",
       "    <tr style=\"text-align: right;\">\n",
       "      <th></th>\n",
       "      <th>state</th>\n",
       "      <th>datetime</th>\n",
       "      <th>cured</th>\n",
       "      <th>deaths</th>\n",
       "      <th>confirmed</th>\n",
       "    </tr>\n",
       "  </thead>\n",
       "  <tbody>\n",
       "    <tr>\n",
       "      <th>0</th>\n",
       "      <td>Manipur</td>\n",
       "      <td>2020-04-15</td>\n",
       "      <td>1</td>\n",
       "      <td>0</td>\n",
       "      <td>2</td>\n",
       "    </tr>\n",
       "    <tr>\n",
       "      <th>1</th>\n",
       "      <td>Telengana</td>\n",
       "      <td>2020-04-15</td>\n",
       "      <td>120</td>\n",
       "      <td>18</td>\n",
       "      <td>647</td>\n",
       "    </tr>\n",
       "    <tr>\n",
       "      <th>2</th>\n",
       "      <td>Tripura</td>\n",
       "      <td>2020-04-15</td>\n",
       "      <td>0</td>\n",
       "      <td>0</td>\n",
       "      <td>2</td>\n",
       "    </tr>\n",
       "    <tr>\n",
       "      <th>3</th>\n",
       "      <td>West Bengal</td>\n",
       "      <td>2020-04-15</td>\n",
       "      <td>37</td>\n",
       "      <td>7</td>\n",
       "      <td>213</td>\n",
       "    </tr>\n",
       "    <tr>\n",
       "      <th>4</th>\n",
       "      <td>Rajasthan</td>\n",
       "      <td>2020-04-15</td>\n",
       "      <td>147</td>\n",
       "      <td>3</td>\n",
       "      <td>1005</td>\n",
       "    </tr>\n",
       "    <tr>\n",
       "      <th>5</th>\n",
       "      <td>Nagaland#</td>\n",
       "      <td>2020-04-15</td>\n",
       "      <td>0</td>\n",
       "      <td>0</td>\n",
       "      <td>0</td>\n",
       "    </tr>\n",
       "    <tr>\n",
       "      <th>6</th>\n",
       "      <td>Mizoram</td>\n",
       "      <td>2020-04-15</td>\n",
       "      <td>0</td>\n",
       "      <td>0</td>\n",
       "      <td>1</td>\n",
       "    </tr>\n",
       "    <tr>\n",
       "      <th>7</th>\n",
       "      <td>Assam</td>\n",
       "      <td>2020-04-15</td>\n",
       "      <td>0</td>\n",
       "      <td>1</td>\n",
       "      <td>33</td>\n",
       "    </tr>\n",
       "    <tr>\n",
       "      <th>8</th>\n",
       "      <td>Jammu and Kashmir</td>\n",
       "      <td>2020-04-15</td>\n",
       "      <td>30</td>\n",
       "      <td>4</td>\n",
       "      <td>278</td>\n",
       "    </tr>\n",
       "    <tr>\n",
       "      <th>9</th>\n",
       "      <td>Madhya Pradesh</td>\n",
       "      <td>2020-04-15</td>\n",
       "      <td>64</td>\n",
       "      <td>53</td>\n",
       "      <td>987</td>\n",
       "    </tr>\n",
       "    <tr>\n",
       "      <th>10</th>\n",
       "      <td>Chandigarh</td>\n",
       "      <td>2020-04-15</td>\n",
       "      <td>7</td>\n",
       "      <td>0</td>\n",
       "      <td>21</td>\n",
       "    </tr>\n",
       "    <tr>\n",
       "      <th>11</th>\n",
       "      <td>Maharashtra</td>\n",
       "      <td>2020-04-15</td>\n",
       "      <td>259</td>\n",
       "      <td>178</td>\n",
       "      <td>2687</td>\n",
       "    </tr>\n",
       "    <tr>\n",
       "      <th>12</th>\n",
       "      <td>Haryana</td>\n",
       "      <td>2020-04-15</td>\n",
       "      <td>34</td>\n",
       "      <td>3</td>\n",
       "      <td>199</td>\n",
       "    </tr>\n",
       "    <tr>\n",
       "      <th>13</th>\n",
       "      <td>Chhattisgarh</td>\n",
       "      <td>2020-04-15</td>\n",
       "      <td>13</td>\n",
       "      <td>0</td>\n",
       "      <td>33</td>\n",
       "    </tr>\n",
       "    <tr>\n",
       "      <th>14</th>\n",
       "      <td>Uttar Pradesh</td>\n",
       "      <td>2020-04-15</td>\n",
       "      <td>51</td>\n",
       "      <td>11</td>\n",
       "      <td>735</td>\n",
       "    </tr>\n",
       "    <tr>\n",
       "      <th>15</th>\n",
       "      <td>Uttarakhand</td>\n",
       "      <td>2020-04-15</td>\n",
       "      <td>9</td>\n",
       "      <td>0</td>\n",
       "      <td>37</td>\n",
       "    </tr>\n",
       "    <tr>\n",
       "      <th>16</th>\n",
       "      <td>Gujarat</td>\n",
       "      <td>2020-04-15</td>\n",
       "      <td>59</td>\n",
       "      <td>30</td>\n",
       "      <td>695</td>\n",
       "    </tr>\n",
       "    <tr>\n",
       "      <th>17</th>\n",
       "      <td>Goa</td>\n",
       "      <td>2020-04-15</td>\n",
       "      <td>5</td>\n",
       "      <td>0</td>\n",
       "      <td>7</td>\n",
       "    </tr>\n",
       "    <tr>\n",
       "      <th>18</th>\n",
       "      <td>Karnataka</td>\n",
       "      <td>2020-04-15</td>\n",
       "      <td>75</td>\n",
       "      <td>11</td>\n",
       "      <td>277</td>\n",
       "    </tr>\n",
       "    <tr>\n",
       "      <th>19</th>\n",
       "      <td>Arunachal Pradesh</td>\n",
       "      <td>2020-04-15</td>\n",
       "      <td>0</td>\n",
       "      <td>0</td>\n",
       "      <td>1</td>\n",
       "    </tr>\n",
       "    <tr>\n",
       "      <th>20</th>\n",
       "      <td>Odisha</td>\n",
       "      <td>2020-04-15</td>\n",
       "      <td>18</td>\n",
       "      <td>1</td>\n",
       "      <td>60</td>\n",
       "    </tr>\n",
       "    <tr>\n",
       "      <th>21</th>\n",
       "      <td>Jharkhand</td>\n",
       "      <td>2020-04-15</td>\n",
       "      <td>0</td>\n",
       "      <td>2</td>\n",
       "      <td>27</td>\n",
       "    </tr>\n",
       "    <tr>\n",
       "      <th>22</th>\n",
       "      <td>Puducherry</td>\n",
       "      <td>2020-04-15</td>\n",
       "      <td>1</td>\n",
       "      <td>0</td>\n",
       "      <td>7</td>\n",
       "    </tr>\n",
       "    <tr>\n",
       "      <th>23</th>\n",
       "      <td>Andaman and Nicobar Islands</td>\n",
       "      <td>2020-04-15</td>\n",
       "      <td>10</td>\n",
       "      <td>0</td>\n",
       "      <td>11</td>\n",
       "    </tr>\n",
       "    <tr>\n",
       "      <th>24</th>\n",
       "      <td>Andhra Pradesh</td>\n",
       "      <td>2020-04-15</td>\n",
       "      <td>16</td>\n",
       "      <td>9</td>\n",
       "      <td>503</td>\n",
       "    </tr>\n",
       "    <tr>\n",
       "      <th>25</th>\n",
       "      <td>Punjab</td>\n",
       "      <td>2020-04-15</td>\n",
       "      <td>14</td>\n",
       "      <td>13</td>\n",
       "      <td>186</td>\n",
       "    </tr>\n",
       "    <tr>\n",
       "      <th>26</th>\n",
       "      <td>Delhi</td>\n",
       "      <td>2020-04-15</td>\n",
       "      <td>30</td>\n",
       "      <td>30</td>\n",
       "      <td>1561</td>\n",
       "    </tr>\n",
       "    <tr>\n",
       "      <th>27</th>\n",
       "      <td>Nagaland</td>\n",
       "      <td>2020-04-14</td>\n",
       "      <td>0</td>\n",
       "      <td>0</td>\n",
       "      <td>1</td>\n",
       "    </tr>\n",
       "    <tr>\n",
       "      <th>28</th>\n",
       "      <td>Meghalaya</td>\n",
       "      <td>2020-04-15</td>\n",
       "      <td>0</td>\n",
       "      <td>1</td>\n",
       "      <td>7</td>\n",
       "    </tr>\n",
       "    <tr>\n",
       "      <th>29</th>\n",
       "      <td>Unassigned</td>\n",
       "      <td>2020-04-03</td>\n",
       "      <td>0</td>\n",
       "      <td>0</td>\n",
       "      <td>77</td>\n",
       "    </tr>\n",
       "    <tr>\n",
       "      <th>30</th>\n",
       "      <td>Ladakh</td>\n",
       "      <td>2020-04-15</td>\n",
       "      <td>10</td>\n",
       "      <td>0</td>\n",
       "      <td>17</td>\n",
       "    </tr>\n",
       "    <tr>\n",
       "      <th>31</th>\n",
       "      <td>Kerala</td>\n",
       "      <td>2020-04-15</td>\n",
       "      <td>211</td>\n",
       "      <td>3</td>\n",
       "      <td>387</td>\n",
       "    </tr>\n",
       "    <tr>\n",
       "      <th>32</th>\n",
       "      <td>Bihar</td>\n",
       "      <td>2020-04-15</td>\n",
       "      <td>29</td>\n",
       "      <td>1</td>\n",
       "      <td>70</td>\n",
       "    </tr>\n",
       "    <tr>\n",
       "      <th>33</th>\n",
       "      <td>Himachal Pradesh</td>\n",
       "      <td>2020-04-15</td>\n",
       "      <td>13</td>\n",
       "      <td>1</td>\n",
       "      <td>33</td>\n",
       "    </tr>\n",
       "    <tr>\n",
       "      <th>34</th>\n",
       "      <td>Tamil Nadu</td>\n",
       "      <td>2020-04-15</td>\n",
       "      <td>81</td>\n",
       "      <td>12</td>\n",
       "      <td>1204</td>\n",
       "    </tr>\n",
       "  </tbody>\n",
       "</table>\n",
       "</div>"
      ],
      "text/plain": [
       "                          state   datetime  cured  deaths  confirmed\n",
       "0                       Manipur 2020-04-15      1       0          2\n",
       "1                     Telengana 2020-04-15    120      18        647\n",
       "2                       Tripura 2020-04-15      0       0          2\n",
       "3                   West Bengal 2020-04-15     37       7        213\n",
       "4                     Rajasthan 2020-04-15    147       3       1005\n",
       "5                     Nagaland# 2020-04-15      0       0          0\n",
       "6                       Mizoram 2020-04-15      0       0          1\n",
       "7                         Assam 2020-04-15      0       1         33\n",
       "8             Jammu and Kashmir 2020-04-15     30       4        278\n",
       "9                Madhya Pradesh 2020-04-15     64      53        987\n",
       "10                   Chandigarh 2020-04-15      7       0         21\n",
       "11                  Maharashtra 2020-04-15    259     178       2687\n",
       "12                      Haryana 2020-04-15     34       3        199\n",
       "13                 Chhattisgarh 2020-04-15     13       0         33\n",
       "14                Uttar Pradesh 2020-04-15     51      11        735\n",
       "15                  Uttarakhand 2020-04-15      9       0         37\n",
       "16                      Gujarat 2020-04-15     59      30        695\n",
       "17                          Goa 2020-04-15      5       0          7\n",
       "18                    Karnataka 2020-04-15     75      11        277\n",
       "19            Arunachal Pradesh 2020-04-15      0       0          1\n",
       "20                       Odisha 2020-04-15     18       1         60\n",
       "21                    Jharkhand 2020-04-15      0       2         27\n",
       "22                   Puducherry 2020-04-15      1       0          7\n",
       "23  Andaman and Nicobar Islands 2020-04-15     10       0         11\n",
       "24               Andhra Pradesh 2020-04-15     16       9        503\n",
       "25                       Punjab 2020-04-15     14      13        186\n",
       "26                        Delhi 2020-04-15     30      30       1561\n",
       "27                     Nagaland 2020-04-14      0       0          1\n",
       "28                    Meghalaya 2020-04-15      0       1          7\n",
       "29                   Unassigned 2020-04-03      0       0         77\n",
       "30                       Ladakh 2020-04-15     10       0         17\n",
       "31                       Kerala 2020-04-15    211       3        387\n",
       "32                        Bihar 2020-04-15     29       1         70\n",
       "33             Himachal Pradesh 2020-04-15     13       1         33\n",
       "34                   Tamil Nadu 2020-04-15     81      12       1204"
      ]
     },
     "execution_count": 178,
     "metadata": {},
     "output_type": "execute_result"
    }
   ],
   "source": [
    "covid_df_latest_records = covid_df.join(most_recent_date_by_state, [(covid_df.state == most_recent_date_by_state.state) & (covid_df[\"datetime\"]==most_recent_date_by_state[\"max(datetime)\"])])\\\n",
    ".select(covid_df.state, \"datetime\", \"cured\", \"deaths\", \"confirmed\")\n",
    "covid_df_latest_records.toPandas()"
   ]
  },
  {
   "cell_type": "markdown",
   "metadata": {},
   "source": [
    "#### Joining the population data and the covid_df_latest_records and converting to Pandas object for easy plotting..."
   ]
  },
  {
   "cell_type": "code",
   "execution_count": 179,
   "metadata": {
    "scrolled": true,
    "tags": [
     "joined-table",
     "population-joined-with-covid"
    ]
   },
   "outputs": [
    {
     "data": {
      "text/html": [
       "<div>\n",
       "<style scoped>\n",
       "    .dataframe tbody tr th:only-of-type {\n",
       "        vertical-align: middle;\n",
       "    }\n",
       "\n",
       "    .dataframe tbody tr th {\n",
       "        vertical-align: top;\n",
       "    }\n",
       "\n",
       "    .dataframe thead th {\n",
       "        text-align: right;\n",
       "    }\n",
       "</style>\n",
       "<table border=\"1\" class=\"dataframe\">\n",
       "  <thead>\n",
       "    <tr style=\"text-align: right;\">\n",
       "      <th></th>\n",
       "      <th>state</th>\n",
       "      <th>datetime</th>\n",
       "      <th>cured</th>\n",
       "      <th>deaths</th>\n",
       "      <th>confirmed</th>\n",
       "      <th>population</th>\n",
       "      <th>density</th>\n",
       "    </tr>\n",
       "  </thead>\n",
       "  <tbody>\n",
       "    <tr>\n",
       "      <th>0</th>\n",
       "      <td>Nagaland</td>\n",
       "      <td>2020-04-14</td>\n",
       "      <td>0</td>\n",
       "      <td>0</td>\n",
       "      <td>1</td>\n",
       "      <td>1978502</td>\n",
       "      <td>119</td>\n",
       "    </tr>\n",
       "    <tr>\n",
       "      <th>1</th>\n",
       "      <td>Karnataka</td>\n",
       "      <td>2020-04-15</td>\n",
       "      <td>75</td>\n",
       "      <td>11</td>\n",
       "      <td>277</td>\n",
       "      <td>61095297</td>\n",
       "      <td>319</td>\n",
       "    </tr>\n",
       "    <tr>\n",
       "      <th>2</th>\n",
       "      <td>Odisha</td>\n",
       "      <td>2020-04-15</td>\n",
       "      <td>18</td>\n",
       "      <td>1</td>\n",
       "      <td>60</td>\n",
       "      <td>41974218</td>\n",
       "      <td>269</td>\n",
       "    </tr>\n",
       "    <tr>\n",
       "      <th>3</th>\n",
       "      <td>Kerala</td>\n",
       "      <td>2020-04-15</td>\n",
       "      <td>211</td>\n",
       "      <td>3</td>\n",
       "      <td>387</td>\n",
       "      <td>33406061</td>\n",
       "      <td>859</td>\n",
       "    </tr>\n",
       "    <tr>\n",
       "      <th>4</th>\n",
       "      <td>Ladakh</td>\n",
       "      <td>2020-04-15</td>\n",
       "      <td>10</td>\n",
       "      <td>0</td>\n",
       "      <td>17</td>\n",
       "      <td>274000</td>\n",
       "      <td>3</td>\n",
       "    </tr>\n",
       "    <tr>\n",
       "      <th>5</th>\n",
       "      <td>Tamil Nadu</td>\n",
       "      <td>2020-04-15</td>\n",
       "      <td>81</td>\n",
       "      <td>12</td>\n",
       "      <td>1204</td>\n",
       "      <td>72147030</td>\n",
       "      <td>555</td>\n",
       "    </tr>\n",
       "    <tr>\n",
       "      <th>6</th>\n",
       "      <td>Telengana</td>\n",
       "      <td>2020-04-15</td>\n",
       "      <td>120</td>\n",
       "      <td>18</td>\n",
       "      <td>647</td>\n",
       "      <td>35003674</td>\n",
       "      <td>312</td>\n",
       "    </tr>\n",
       "    <tr>\n",
       "      <th>7</th>\n",
       "      <td>Chhattisgarh</td>\n",
       "      <td>2020-04-15</td>\n",
       "      <td>13</td>\n",
       "      <td>0</td>\n",
       "      <td>33</td>\n",
       "      <td>25545198</td>\n",
       "      <td>189</td>\n",
       "    </tr>\n",
       "    <tr>\n",
       "      <th>8</th>\n",
       "      <td>Andhra Pradesh</td>\n",
       "      <td>2020-04-15</td>\n",
       "      <td>16</td>\n",
       "      <td>9</td>\n",
       "      <td>503</td>\n",
       "      <td>49577103</td>\n",
       "      <td>303</td>\n",
       "    </tr>\n",
       "    <tr>\n",
       "      <th>9</th>\n",
       "      <td>Madhya Pradesh</td>\n",
       "      <td>2020-04-15</td>\n",
       "      <td>64</td>\n",
       "      <td>53</td>\n",
       "      <td>987</td>\n",
       "      <td>72626809</td>\n",
       "      <td>236</td>\n",
       "    </tr>\n",
       "    <tr>\n",
       "      <th>10</th>\n",
       "      <td>Punjab</td>\n",
       "      <td>2020-04-15</td>\n",
       "      <td>14</td>\n",
       "      <td>13</td>\n",
       "      <td>186</td>\n",
       "      <td>27743338</td>\n",
       "      <td>550</td>\n",
       "    </tr>\n",
       "    <tr>\n",
       "      <th>11</th>\n",
       "      <td>Manipur</td>\n",
       "      <td>2020-04-15</td>\n",
       "      <td>1</td>\n",
       "      <td>0</td>\n",
       "      <td>2</td>\n",
       "      <td>2570390</td>\n",
       "      <td>122</td>\n",
       "    </tr>\n",
       "    <tr>\n",
       "      <th>12</th>\n",
       "      <td>Goa</td>\n",
       "      <td>2020-04-15</td>\n",
       "      <td>5</td>\n",
       "      <td>0</td>\n",
       "      <td>7</td>\n",
       "      <td>1458545</td>\n",
       "      <td>394</td>\n",
       "    </tr>\n",
       "    <tr>\n",
       "      <th>13</th>\n",
       "      <td>Mizoram</td>\n",
       "      <td>2020-04-15</td>\n",
       "      <td>0</td>\n",
       "      <td>0</td>\n",
       "      <td>1</td>\n",
       "      <td>1097206</td>\n",
       "      <td>52</td>\n",
       "    </tr>\n",
       "    <tr>\n",
       "      <th>14</th>\n",
       "      <td>Himachal Pradesh</td>\n",
       "      <td>2020-04-15</td>\n",
       "      <td>13</td>\n",
       "      <td>1</td>\n",
       "      <td>33</td>\n",
       "      <td>6864602</td>\n",
       "      <td>123</td>\n",
       "    </tr>\n",
       "    <tr>\n",
       "      <th>15</th>\n",
       "      <td>Puducherry</td>\n",
       "      <td>2020-04-15</td>\n",
       "      <td>1</td>\n",
       "      <td>0</td>\n",
       "      <td>7</td>\n",
       "      <td>1247953</td>\n",
       "      <td>2598</td>\n",
       "    </tr>\n",
       "    <tr>\n",
       "      <th>16</th>\n",
       "      <td>Haryana</td>\n",
       "      <td>2020-04-15</td>\n",
       "      <td>34</td>\n",
       "      <td>3</td>\n",
       "      <td>199</td>\n",
       "      <td>25351462</td>\n",
       "      <td>573</td>\n",
       "    </tr>\n",
       "    <tr>\n",
       "      <th>17</th>\n",
       "      <td>Jammu and Kashmir</td>\n",
       "      <td>2020-04-15</td>\n",
       "      <td>30</td>\n",
       "      <td>4</td>\n",
       "      <td>278</td>\n",
       "      <td>12267032</td>\n",
       "      <td>98</td>\n",
       "    </tr>\n",
       "    <tr>\n",
       "      <th>18</th>\n",
       "      <td>Jharkhand</td>\n",
       "      <td>2020-04-15</td>\n",
       "      <td>0</td>\n",
       "      <td>2</td>\n",
       "      <td>27</td>\n",
       "      <td>32988134</td>\n",
       "      <td>414</td>\n",
       "    </tr>\n",
       "    <tr>\n",
       "      <th>19</th>\n",
       "      <td>Arunachal Pradesh</td>\n",
       "      <td>2020-04-15</td>\n",
       "      <td>0</td>\n",
       "      <td>0</td>\n",
       "      <td>1</td>\n",
       "      <td>1383727</td>\n",
       "      <td>17</td>\n",
       "    </tr>\n",
       "    <tr>\n",
       "      <th>20</th>\n",
       "      <td>Gujarat</td>\n",
       "      <td>2020-04-15</td>\n",
       "      <td>59</td>\n",
       "      <td>30</td>\n",
       "      <td>695</td>\n",
       "      <td>60439692</td>\n",
       "      <td>308</td>\n",
       "    </tr>\n",
       "    <tr>\n",
       "      <th>21</th>\n",
       "      <td>Delhi</td>\n",
       "      <td>2020-04-15</td>\n",
       "      <td>30</td>\n",
       "      <td>30</td>\n",
       "      <td>1561</td>\n",
       "      <td>16787941</td>\n",
       "      <td>11297</td>\n",
       "    </tr>\n",
       "    <tr>\n",
       "      <th>22</th>\n",
       "      <td>Chandigarh</td>\n",
       "      <td>2020-04-15</td>\n",
       "      <td>7</td>\n",
       "      <td>0</td>\n",
       "      <td>21</td>\n",
       "      <td>1055450</td>\n",
       "      <td>9252</td>\n",
       "    </tr>\n",
       "    <tr>\n",
       "      <th>23</th>\n",
       "      <td>Andaman and Nicobar Islands</td>\n",
       "      <td>2020-04-15</td>\n",
       "      <td>10</td>\n",
       "      <td>0</td>\n",
       "      <td>11</td>\n",
       "      <td>380581</td>\n",
       "      <td>46</td>\n",
       "    </tr>\n",
       "    <tr>\n",
       "      <th>24</th>\n",
       "      <td>Rajasthan</td>\n",
       "      <td>2020-04-15</td>\n",
       "      <td>147</td>\n",
       "      <td>3</td>\n",
       "      <td>1005</td>\n",
       "      <td>68548437</td>\n",
       "      <td>201</td>\n",
       "    </tr>\n",
       "    <tr>\n",
       "      <th>25</th>\n",
       "      <td>Assam</td>\n",
       "      <td>2020-04-15</td>\n",
       "      <td>0</td>\n",
       "      <td>1</td>\n",
       "      <td>33</td>\n",
       "      <td>31205576</td>\n",
       "      <td>397</td>\n",
       "    </tr>\n",
       "    <tr>\n",
       "      <th>26</th>\n",
       "      <td>Meghalaya</td>\n",
       "      <td>2020-04-15</td>\n",
       "      <td>0</td>\n",
       "      <td>1</td>\n",
       "      <td>7</td>\n",
       "      <td>2966889</td>\n",
       "      <td>132</td>\n",
       "    </tr>\n",
       "    <tr>\n",
       "      <th>27</th>\n",
       "      <td>Maharashtra</td>\n",
       "      <td>2020-04-15</td>\n",
       "      <td>259</td>\n",
       "      <td>178</td>\n",
       "      <td>2687</td>\n",
       "      <td>112374333</td>\n",
       "      <td>365</td>\n",
       "    </tr>\n",
       "    <tr>\n",
       "      <th>28</th>\n",
       "      <td>West Bengal</td>\n",
       "      <td>2020-04-15</td>\n",
       "      <td>37</td>\n",
       "      <td>7</td>\n",
       "      <td>213</td>\n",
       "      <td>91276115</td>\n",
       "      <td>1029</td>\n",
       "    </tr>\n",
       "    <tr>\n",
       "      <th>29</th>\n",
       "      <td>Bihar</td>\n",
       "      <td>2020-04-15</td>\n",
       "      <td>29</td>\n",
       "      <td>1</td>\n",
       "      <td>70</td>\n",
       "      <td>104099452</td>\n",
       "      <td>1102</td>\n",
       "    </tr>\n",
       "    <tr>\n",
       "      <th>30</th>\n",
       "      <td>Tripura</td>\n",
       "      <td>2020-04-15</td>\n",
       "      <td>0</td>\n",
       "      <td>0</td>\n",
       "      <td>2</td>\n",
       "      <td>3673917</td>\n",
       "      <td>350</td>\n",
       "    </tr>\n",
       "    <tr>\n",
       "      <th>31</th>\n",
       "      <td>Uttar Pradesh</td>\n",
       "      <td>2020-04-15</td>\n",
       "      <td>51</td>\n",
       "      <td>11</td>\n",
       "      <td>735</td>\n",
       "      <td>199812341</td>\n",
       "      <td>828</td>\n",
       "    </tr>\n",
       "    <tr>\n",
       "      <th>32</th>\n",
       "      <td>Uttarakhand</td>\n",
       "      <td>2020-04-15</td>\n",
       "      <td>9</td>\n",
       "      <td>0</td>\n",
       "      <td>37</td>\n",
       "      <td>10086292</td>\n",
       "      <td>189</td>\n",
       "    </tr>\n",
       "  </tbody>\n",
       "</table>\n",
       "</div>"
      ],
      "text/plain": [
       "                          state   datetime  cured  deaths  confirmed  \\\n",
       "0                      Nagaland 2020-04-14      0       0          1   \n",
       "1                     Karnataka 2020-04-15     75      11        277   \n",
       "2                        Odisha 2020-04-15     18       1         60   \n",
       "3                        Kerala 2020-04-15    211       3        387   \n",
       "4                        Ladakh 2020-04-15     10       0         17   \n",
       "5                    Tamil Nadu 2020-04-15     81      12       1204   \n",
       "6                     Telengana 2020-04-15    120      18        647   \n",
       "7                  Chhattisgarh 2020-04-15     13       0         33   \n",
       "8                Andhra Pradesh 2020-04-15     16       9        503   \n",
       "9                Madhya Pradesh 2020-04-15     64      53        987   \n",
       "10                       Punjab 2020-04-15     14      13        186   \n",
       "11                      Manipur 2020-04-15      1       0          2   \n",
       "12                          Goa 2020-04-15      5       0          7   \n",
       "13                      Mizoram 2020-04-15      0       0          1   \n",
       "14             Himachal Pradesh 2020-04-15     13       1         33   \n",
       "15                   Puducherry 2020-04-15      1       0          7   \n",
       "16                      Haryana 2020-04-15     34       3        199   \n",
       "17            Jammu and Kashmir 2020-04-15     30       4        278   \n",
       "18                    Jharkhand 2020-04-15      0       2         27   \n",
       "19            Arunachal Pradesh 2020-04-15      0       0          1   \n",
       "20                      Gujarat 2020-04-15     59      30        695   \n",
       "21                        Delhi 2020-04-15     30      30       1561   \n",
       "22                   Chandigarh 2020-04-15      7       0         21   \n",
       "23  Andaman and Nicobar Islands 2020-04-15     10       0         11   \n",
       "24                    Rajasthan 2020-04-15    147       3       1005   \n",
       "25                        Assam 2020-04-15      0       1         33   \n",
       "26                    Meghalaya 2020-04-15      0       1          7   \n",
       "27                  Maharashtra 2020-04-15    259     178       2687   \n",
       "28                  West Bengal 2020-04-15     37       7        213   \n",
       "29                        Bihar 2020-04-15     29       1         70   \n",
       "30                      Tripura 2020-04-15      0       0          2   \n",
       "31                Uttar Pradesh 2020-04-15     51      11        735   \n",
       "32                  Uttarakhand 2020-04-15      9       0         37   \n",
       "\n",
       "    population  density  \n",
       "0      1978502      119  \n",
       "1     61095297      319  \n",
       "2     41974218      269  \n",
       "3     33406061      859  \n",
       "4       274000        3  \n",
       "5     72147030      555  \n",
       "6     35003674      312  \n",
       "7     25545198      189  \n",
       "8     49577103      303  \n",
       "9     72626809      236  \n",
       "10    27743338      550  \n",
       "11     2570390      122  \n",
       "12     1458545      394  \n",
       "13     1097206       52  \n",
       "14     6864602      123  \n",
       "15     1247953     2598  \n",
       "16    25351462      573  \n",
       "17    12267032       98  \n",
       "18    32988134      414  \n",
       "19     1383727       17  \n",
       "20    60439692      308  \n",
       "21    16787941    11297  \n",
       "22     1055450     9252  \n",
       "23      380581       46  \n",
       "24    68548437      201  \n",
       "25    31205576      397  \n",
       "26     2966889      132  \n",
       "27   112374333      365  \n",
       "28    91276115     1029  \n",
       "29   104099452     1102  \n",
       "30     3673917      350  \n",
       "31   199812341      828  \n",
       "32    10086292      189  "
      ]
     },
     "execution_count": 179,
     "metadata": {},
     "output_type": "execute_result"
    }
   ],
   "source": [
    "df = covid_df_latest_records.join(population_df, [\"state\"])\n",
    "pd = df.toPandas()\n",
    "pd"
   ]
  },
  {
   "cell_type": "markdown",
   "metadata": {},
   "source": [
    "# Data insights\n",
    "## Correlation\n",
    "Correlation is measured between -1 and 1. As the value gets closer to 0, it's getting \"loose\"\n",
    "\n",
    "#### Confirmed - Cured cases"
   ]
  },
  {
   "cell_type": "code",
   "execution_count": 71,
   "metadata": {
    "tags": [
     "confirmed-cured",
     "correlation",
     "scatter-plot",
     "scatter",
     "plot"
    ]
   },
   "outputs": [
    {
     "name": "stdout",
     "output_type": "stream",
     "text": [
      "confirmed and cured cases correlation: 0.7477287499967894\n",
      "As we can see, 0.747 is fairly high and even though this 'insight' is trivial it clearly demonstrate high correlation.\n"
     ]
    }
   ],
   "source": [
    "print(f\"confirmed and cured cases correlation: {pd['confirmed'].corr(pd['cured'])}\\n\"\n",
    "      \"As we can see, 0.747 is fairly high and even though this 'insight' is trivial it clearly demonstrate high correlation.\")"
   ]
  },
  {
   "cell_type": "markdown",
   "metadata": {},
   "source": [
    "### Scatter plot\n",
    "#### Confirmed - Cured cases\n",
    "We can see the strong connection between the two parameters in each state and notice that in the general case: \n",
    "as high as we go in the x axis, the higher y value the point gets"
   ]
  },
  {
   "cell_type": "code",
   "execution_count": 72,
   "metadata": {},
   "outputs": [
    {
     "data": {
      "image/png": "[encoded data removed]",
      "text/plain": [
       "<Figure size 360x360 with 1 Axes>"
      ]
     },
     "metadata": {
      "needs_background": "light"
     },
     "output_type": "display_data"
    }
   ],
   "source": [
    "plt.figure(figsize=(5,5))\n",
    "plt.scatter(pd[\"confirmed\"], pd[\"cured\"], color=\"g\")\n",
    "plt.title('Scatter plot: Confirmed cases vs cured')\n",
    "plt.show()"
   ]
  },
  {
   "cell_type": "markdown",
   "metadata": {},
   "source": [
    "### Correlation and scatter plot - confirmed and death cases\n",
    "Now lets take a look at an even stronger correlation: Confirmed and Death cases"
   ]
  },
  {
   "cell_type": "code",
   "execution_count": 73,
   "metadata": {
    "tags": [
     "confirmed-deaths",
     "correlation",
     "scatter-plot",
     "scatter",
     "plot"
    ]
   },
   "outputs": [
    {
     "name": "stdout",
     "output_type": "stream",
     "text": [
      "The correlation between Confirmed and Death cases: 0.8511584605156302\n",
      "\n",
      "As we can see in confirmed-deaths scatter plot, all the dots are more centered and demonstrate a strong linear regression\n"
     ]
    },
    {
     "data": {
      "image/png": "[encoded data removed]",
      "text/plain": [
       "<Figure size 360x360 with 1 Axes>"
      ]
     },
     "metadata": {
      "needs_background": "light"
     },
     "output_type": "display_data"
    }
   ],
   "source": [
    "print(f\"The correlation between Confirmed and Death cases: {pd['confirmed'].corr(pd['deaths'])}\\n\") \n",
    "print(\"As we can see in confirmed-deaths scatter plot, all the dots are more centered and demonstrate a strong linear regression\")\n",
    "plt.figure(figsize=(5,5))\n",
    "plt.scatter(pd[\"confirmed\"], pd[\"deaths\"], color=\"r\")\n",
    "plt.title('Scatter plot: Confirmed cases vs deaths')\n",
    "plt.show()"
   ]
  },
  {
   "cell_type": "markdown",
   "metadata": {},
   "source": [
    "### A bit looser correlation\n",
    "#### Confirmed VS population density"
   ]
  },
  {
   "cell_type": "code",
   "execution_count": 74,
   "metadata": {
    "tags": [
     "population-density",
     "X",
     "confirmed",
     "scatter"
    ]
   },
   "outputs": [
    {
     "name": "stdout",
     "output_type": "stream",
     "text": [
      "Confirmed-density correlation: 0.2181782035715635\n"
     ]
    },
    {
     "data": {
      "image/png": "[encoded data removed]",
      "text/plain": [
       "<Figure size 360x360 with 1 Axes>"
      ]
     },
     "metadata": {
      "needs_background": "light"
     },
     "output_type": "display_data"
    }
   ],
   "source": [
    "print(f\"Confirmed-density correlation: {pd['confirmed'].corr(pd['density'])}\") \n",
    "plt.figure(figsize=(5,5))\n",
    "plt.scatter(pd[\"confirmed\"], pd[\"density\"], color=\"b\")\n",
    "plt.title('Scatter plot: Confirmed cases vs density')\n",
    "plt.show()"
   ]
  },
  {
   "cell_type": "markdown",
   "metadata": {},
   "source": [
    "## Combined Scatter plot:\n",
    "#### confirmed VS density/deaths/cured\n",
    "Notice that the red 'confirmed+deaths' dots are so densed they are almost totaly covered by the others"
   ]
  },
  {
   "cell_type": "code",
   "execution_count": 116,
   "metadata": {
    "scrolled": true
   },
   "outputs": [
    {
     "data": {
      "image/png": "[encoded data removed]",
      "text/plain": [
       "<Figure size 360x360 with 1 Axes>"
      ]
     },
     "metadata": {
      "needs_background": "light"
     },
     "output_type": "display_data"
    }
   ],
   "source": [
    "plt.figure(figsize=(5,5))\n",
    "plt.scatter(pd[\"confirmed\"], pd[\"density\"], label=\"Density\", color=\"b\")\n",
    "plt.scatter(pd[\"confirmed\"], pd[\"deaths\"], label=\"Deaths\", color=\"r\")\n",
    "plt.scatter(pd[\"confirmed\"], pd[\"cured\"], label=\"Cured\", color=\"g\")\n",
    "plt.legend()\n",
    "plt.title('Scatter plot: Confirmed cases vs density/deaths/cured')\n",
    "plt.show()"
   ]
  },
  {
   "cell_type": "markdown",
   "metadata": {},
   "source": [
    "# Density Plots\n",
    "### Confirmed VS Cured\n",
    "As we can see, the vast majority of cured cases is densed around the zero. <br>\n",
    "The average amount of confirmed cases is a bit higher than 0, with only some records (some states) of 2500."
   ]
  },
  {
   "cell_type": "code",
   "execution_count": 78,
   "metadata": {
    "scrolled": false
   },
   "outputs": [
    {
     "data": {
      "text/plain": [
       "<matplotlib.axes._subplots.AxesSubplot at 0x7f107c8b0f10>"
      ]
     },
     "execution_count": 78,
     "metadata": {},
     "output_type": "execute_result"
    },
    {
     "data": {
      "image/png": "[encoded data removed]",
      "text/plain": [
       "<Figure size 1152x432 with 1 Axes>"
      ]
     },
     "metadata": {
      "needs_background": "light"
     },
     "output_type": "display_data"
    }
   ],
   "source": [
    "plt.figure(figsize=(16, 6))\n",
    "sns.kdeplot(pd['confirmed'], shade=True)\n",
    "sns.kdeplot(pd['cured'], shade=True, color=\"g\")"
   ]
  },
  {
   "cell_type": "markdown",
   "metadata": {},
   "source": [
    "### Confirmed Vs Deaths density plot\n",
    "This plot shows even higher density around the value zero, as most of the states in india hasn't suffered a lot of casualties  yet"
   ]
  },
  {
   "cell_type": "code",
   "execution_count": 80,
   "metadata": {
    "scrolled": false
   },
   "outputs": [
    {
     "data": {
      "text/plain": [
       "<matplotlib.axes._subplots.AxesSubplot at 0x7f107c757310>"
      ]
     },
     "execution_count": 80,
     "metadata": {},
     "output_type": "execute_result"
    },
    {
     "data": {
      "image/png": "[encoded data removed]",
      "text/plain": [
       "<Figure size 1152x432 with 1 Axes>"
      ]
     },
     "metadata": {
      "needs_background": "light"
     },
     "output_type": "display_data"
    }
   ],
   "source": [
    "plt.figure(figsize=(16, 6))\n",
    "sns.kdeplot(pd['deaths'], shade=True, color=\"r\")\n",
    "sns.kdeplot(pd['confirmed'], shade=True)"
   ]
  },
  {
   "cell_type": "markdown",
   "metadata": {},
   "source": [
    "# Box plot\n",
    "### Cured and Deaths cases\n",
    "\n",
    "The following box plot describes the deviation of the cured and deaths records.\n",
    "\n",
    "#### Cured:\n",
    "Q1 (25%) of the states has 0 cured cases. <br>\n",
    "The median value is somewhere around the 20 (green line) - half of the states in india has less than 20~ cured cases. <br>\n",
    "The 75 percentile is at 51 and the maximum value is at 125~. <br>\n",
    "This box shows 3 outliers.\n",
    "\n",
    "#### Deaths:\n",
    "Q1 (25%) of the states has 0 death cases. <br>\n",
    "Median is at 1 (Go india!) <br>\n",
    "The 75 percentile is at 11 and the \"maximum\" (excluding outliers) is around 15."
   ]
  },
  {
   "cell_type": "code",
   "execution_count": 103,
   "metadata": {},
   "outputs": [
    {
     "data": {
      "text/plain": [
       "<matplotlib.axes._subplots.AxesSubplot at 0x7f107380bed0>"
      ]
     },
     "execution_count": 103,
     "metadata": {},
     "output_type": "execute_result"
    },
    {
     "data": {
      "image/png": "[encoded data removed]",
      "text/plain": [
       "<Figure size 720x432 with 1 Axes>"
      ]
     },
     "metadata": {
      "needs_background": "light"
     },
     "output_type": "display_data"
    }
   ],
   "source": [
    "plt.figure(figsize=(10, 6))\n",
    "pd[[\"cured\", \"deaths\"]].boxplot()"
   ]
  },
  {
   "cell_type": "markdown",
   "metadata": {},
   "source": [
    "# Data over time\n",
    "## Confirmed cases in Delhi Vs the state of Uttarakhand\n",
    "A quick look at this plot shows a hugh leap in the amount of confirmed cases in Delhi, <br>\n",
    "Where Uttrakhand enjoys almost zero cases."
   ]
  },
  {
   "cell_type": "code",
   "execution_count": 105,
   "metadata": {
    "scrolled": false
   },
   "outputs": [
    {
     "data": {
      "image/png": "[encoded data removed]",
      "text/plain": [
       "<Figure size 720x720 with 1 Axes>"
      ]
     },
     "metadata": {
      "needs_background": "light"
     },
     "output_type": "display_data"
    }
   ],
   "source": [
    "delhi_covid_overtime = covid_df.filter(covid_df.state=='Delhi').toPandas()\n",
    "uttarakhand_covid_overtime = covid_df.filter(covid_df.state=='Uttarakhand').toPandas()\n",
    "\n",
    "plt.figure(figsize=(10, 10))\n",
    "plt.gcf().autofmt_xdate()\n",
    "plt.xlabel('Date')\n",
    "plt.ylabel('Confirmed Cases')\n",
    "\n",
    "plt.plot(delhi_covid_overtime.datetime, delhi_covid_overtime.confirmed, label=\"Delhi\")\n",
    "plt.plot(uttarakhand_covid_overtime.datetime, uttarakhand_covid_overtime.confirmed, label=\"Uttarakhand\")\n",
    "plt.legend()\n",
    "plt.show()"
   ]
  },
  {
   "cell_type": "markdown",
   "metadata": {},
   "source": [
    "### Assumption:\n",
    "#### Its the population..? Spoiler - probably not...\n",
    "One might claim that the un-equal growth is highly influenced by the huge difference in population sizes of both states <br>\n",
    "A glance at this bar chart shows that the difference between Delhi and Uttarakhand is not that big"
   ]
  },
  {
   "cell_type": "code",
   "execution_count": 106,
   "metadata": {},
   "outputs": [
    {
     "data": {
      "text/plain": [
       "Text(0.5, 1.0, 'Delhi vs Utarakhand: Population in millions')"
      ]
     },
     "execution_count": 106,
     "metadata": {},
     "output_type": "execute_result"
    },
    {
     "data": {
      "image/png": "[encoded data removed]",
      "text/plain": [
       "<Figure size 432x288 with 1 Axes>"
      ]
     },
     "metadata": {
      "needs_background": "light"
     },
     "output_type": "display_data"
    }
   ],
   "source": [
    "population_by_state = df.rdd.filter(lambda row: row.state in [\"Delhi\", \"Uttarakhand\"]).map(lambda row: (row.state, row.population)).toDF([\"state\", \"population\"]).toPandas()\n",
    "sns.barplot(x='state', y='population', data=population_by_state).set_title(\"Delhi vs Utarakhand: Population in millions\")"
   ]
  },
  {
   "cell_type": "markdown",
   "metadata": {},
   "source": [
    "## Assumption 2\n",
    "#### much more likely - Population Density\n",
    "The Density difference of the two is much larger, and might have a greater influence on the differential growth"
   ]
  },
  {
   "cell_type": "code",
   "execution_count": 107,
   "metadata": {},
   "outputs": [
    {
     "data": {
      "text/plain": [
       "Text(0.5, 1.0, 'Delhi vs Utarakhand: Population Density (people per sqr KM)')"
      ]
     },
     "execution_count": 107,
     "metadata": {},
     "output_type": "execute_result"
    },
    {
     "data": {
      "image/png": "[encoded data removed]",
      "text/plain": [
       "<Figure size 432x288 with 1 Axes>"
      ]
     },
     "metadata": {
      "needs_background": "light"
     },
     "output_type": "display_data"
    }
   ],
   "source": [
    "density_by_state = df.rdd.filter(lambda row: row.state in [\"Delhi\", \"Uttarakhand\"]).map(lambda row: (row.state, row.density)).toDF([\"state\", \"density\"]).toPandas()\n",
    "sns.barplot(x='state', y='density', data=density_by_state).set_title(\"Delhi vs Utarakhand: Population Density (people per sqr KM)\")"
   ]
  },
  {
   "cell_type": "markdown",
   "metadata": {},
   "source": [
    "# Adding some data to spice up things\n",
    "#### introducing: air quality in india!\n",
    "I wanted to add some more interest to the data so I added a data set of air quality measurements in india\n",
    "1. Reading the 'air-quality-in-india.csv' dataset to rdd\n",
    "2. Sanitizing air_quality_rdd\n",
    "3. Get the list of states from our old Dataframe, as list of strings\n",
    "4. filter only records of states we previously investigated and converting to DF\n",
    "5. Group by state and aggregate average values"
   ]
  },
  {
   "cell_type": "code",
   "execution_count": 108,
   "metadata": {
    "scrolled": false
   },
   "outputs": [
    {
     "name": "stdout",
     "output_type": "stream",
     "text": [
      "+--------------+------------------+------------------+------------------+------------------+\n",
      "|         state|          avg(SO2)|          avg(NO2)|         avg(RSPM)|          avg(SPM)|\n",
      "+--------------+------------------+------------------+------------------+------------------+\n",
      "|Andhra Pradesh|  8.82857142857143|30.902857142857144| 93.54857142857144|172.86857142857144|\n",
      "|         Bihar|11.839506172839506|25.209876543209877| 78.32098765432099|156.33333333333334|\n",
      "|    Chandigarh|3.2133333333333334|             23.18|             97.46|178.36666666666667|\n",
      "|         Delhi|               9.5|35.891304347826086|120.02173913043478| 286.4782608695652|\n",
      "|           Goa| 7.517857142857143|13.553571428571429| 96.64285714285714| 36.82142857142857|\n",
      "|       Gujarat|12.862302483069977|19.124153498871333| 88.20767494356659| 49.63431151241535|\n",
      "|       Haryana|               6.0|              21.0|             129.0|             209.0|\n",
      "|     Karnataka| 8.944444444444445| 33.94444444444444| 66.52777777777777|122.70833333333333|\n",
      "|        Kerala|3.6323529411764706|18.147058823529413| 50.03921568627451| 66.34313725490196|\n",
      "|Madhya Pradesh| 8.442508710801393|13.268292682926829| 54.26829268292683|110.24738675958189|\n",
      "|   Maharashtra|19.299479166666668| 33.58246527777778|111.09114583333333|192.47829861111111|\n",
      "|       Mizoram|               2.0|               6.0|              47.0|              93.0|\n",
      "|      Nagaland|               2.0| 7.409090909090909|            75.375|137.35227272727272|\n",
      "|        Odisha|             2.125|             16.75|           74.4375|          137.5625|\n",
      "|    Puducherry|21.231884057971016| 15.63768115942029|43.289855072463766|51.492753623188406|\n",
      "|        Punjab|12.555555555555555|37.422222222222224|253.17777777777778|               0.0|\n",
      "|     Rajasthan| 6.138888888888889|29.636363636363637|115.37373737373737| 294.1489898989899|\n",
      "|    Tamil Nadu|               6.6|              40.4|              47.6|             110.2|\n",
      "| Uttar Pradesh|11.916666666666666|20.895833333333332|         149.40625| 305.5989583333333|\n",
      "|   Uttarakhand| 18.11111111111111| 21.88888888888889|149.22222222222223| 304.8888888888889|\n",
      "+--------------+------------------+------------------+------------------+------------------+\n",
      "only showing top 20 rows\n",
      "\n"
     ]
    }
   ],
   "source": [
    "from pyspark.sql.functions import col, to_date, coalesce, avg\n",
    "from pyspark.sql.functions import unix_timestamp, from_unixtime\n",
    "air_quality_rdd = sc.textFile(\"/usr/data/kaggle/air-quality-in-india.csv\")\n",
    "\n",
    "headers = air_quality_rdd.first()\n",
    "air_quality_rdd = air_quality_rdd.filter(lambda line: line != headers)\n",
    "air_quality_rdd = air_quality_rdd.map(lambda line: line.split(\",\")).filter(lambda line: line[7].isnumeric() and line[8].isnumeric() and line[9].isnumeric() and line[10].isnumeric())\n",
    "air_quality_rdd = air_quality_rdd.map(lambda line: [line[1], line[2], float(line[7]), float(line[8]), float(line[9]), float(line[10])])\n",
    "\n",
    "# Get the list of states from our old Dataframe, as list of strings\n",
    "states = list(map(lambda x: x.state, df.select(\"state\").collect()))\n",
    "\n",
    "# Dealing with dates here is just for fun. there's no actual need for it since we're going to aggregate average (!)\n",
    "# filter only records of states we previously investigated and converting to DF\n",
    "air_quality_df = air_quality_rdd.filter(lambda x: x[1] in states).toDF([\"date\", \"state\", \"SO2\", \"NO2\", \"RSPM\", \"SPM\"])\n",
    "\n",
    "# Converting date strings in a different method than before... (just for fun, there's no need for it here)\n",
    "air_quality_df = air_quality_df.select(\"state\", \"SO2\", \"NO2\", \"RSPM\", \"SPM\", to_date('date', 'MM/dd/yyy').alias('date1'), to_date('date', 'MM-dd-yyy').alias('date2')).where((col(\"date1\").isNotNull()) | (col(\"date2\").isNotNull()))\n",
    "air_quality_df = air_quality_df.select(coalesce(\"date1\", \"date2\").alias(\"date\"), \"state\", \"SO2\", \"NO2\", \"RSPM\", \"SPM\")\n",
    "\n",
    "air_quality_by_state = air_quality_df.groupBy(\"state\").agg(avg(\"SO2\"), avg(\"NO2\"), avg(\"RSPM\"), avg(\"SPM\"))\n",
    "air_quality_by_state.sort(\"state\").show()"
   ]
  },
  {
   "cell_type": "markdown",
   "metadata": {},
   "source": [
    "### Join all the data we have together"
   ]
  },
  {
   "cell_type": "code",
   "execution_count": 111,
   "metadata": {
    "scrolled": false
   },
   "outputs": [
    {
     "data": {
      "text/html": [
       "<div>\n",
       "<style scoped>\n",
       "    .dataframe tbody tr th:only-of-type {\n",
       "        vertical-align: middle;\n",
       "    }\n",
       "\n",
       "    .dataframe tbody tr th {\n",
       "        vertical-align: top;\n",
       "    }\n",
       "\n",
       "    .dataframe thead th {\n",
       "        text-align: right;\n",
       "    }\n",
       "</style>\n",
       "<table border=\"1\" class=\"dataframe\">\n",
       "  <thead>\n",
       "    <tr style=\"text-align: right;\">\n",
       "      <th></th>\n",
       "      <th>state</th>\n",
       "      <th>datetime</th>\n",
       "      <th>cured</th>\n",
       "      <th>deaths</th>\n",
       "      <th>confirmed</th>\n",
       "      <th>population</th>\n",
       "      <th>density</th>\n",
       "      <th>avg(SO2)</th>\n",
       "      <th>avg(NO2)</th>\n",
       "      <th>avg(RSPM)</th>\n",
       "      <th>avg(SPM)</th>\n",
       "    </tr>\n",
       "  </thead>\n",
       "  <tbody>\n",
       "    <tr>\n",
       "      <th>0</th>\n",
       "      <td>Andhra Pradesh</td>\n",
       "      <td>2020-04-15</td>\n",
       "      <td>16</td>\n",
       "      <td>9</td>\n",
       "      <td>503</td>\n",
       "      <td>49577103</td>\n",
       "      <td>303</td>\n",
       "      <td>8.828571</td>\n",
       "      <td>30.902857</td>\n",
       "      <td>93.548571</td>\n",
       "      <td>172.868571</td>\n",
       "    </tr>\n",
       "    <tr>\n",
       "      <th>1</th>\n",
       "      <td>Bihar</td>\n",
       "      <td>2020-04-15</td>\n",
       "      <td>29</td>\n",
       "      <td>1</td>\n",
       "      <td>70</td>\n",
       "      <td>104099452</td>\n",
       "      <td>1102</td>\n",
       "      <td>11.839506</td>\n",
       "      <td>25.209877</td>\n",
       "      <td>78.320988</td>\n",
       "      <td>156.333333</td>\n",
       "    </tr>\n",
       "    <tr>\n",
       "      <th>2</th>\n",
       "      <td>Chandigarh</td>\n",
       "      <td>2020-04-15</td>\n",
       "      <td>7</td>\n",
       "      <td>0</td>\n",
       "      <td>21</td>\n",
       "      <td>1055450</td>\n",
       "      <td>9252</td>\n",
       "      <td>3.213333</td>\n",
       "      <td>23.180000</td>\n",
       "      <td>97.460000</td>\n",
       "      <td>178.366667</td>\n",
       "    </tr>\n",
       "    <tr>\n",
       "      <th>3</th>\n",
       "      <td>Delhi</td>\n",
       "      <td>2020-04-15</td>\n",
       "      <td>30</td>\n",
       "      <td>30</td>\n",
       "      <td>1561</td>\n",
       "      <td>16787941</td>\n",
       "      <td>11297</td>\n",
       "      <td>9.500000</td>\n",
       "      <td>35.891304</td>\n",
       "      <td>120.021739</td>\n",
       "      <td>286.478261</td>\n",
       "    </tr>\n",
       "    <tr>\n",
       "      <th>4</th>\n",
       "      <td>Goa</td>\n",
       "      <td>2020-04-15</td>\n",
       "      <td>5</td>\n",
       "      <td>0</td>\n",
       "      <td>7</td>\n",
       "      <td>1458545</td>\n",
       "      <td>394</td>\n",
       "      <td>7.517857</td>\n",
       "      <td>13.553571</td>\n",
       "      <td>96.642857</td>\n",
       "      <td>36.821429</td>\n",
       "    </tr>\n",
       "    <tr>\n",
       "      <th>5</th>\n",
       "      <td>Gujarat</td>\n",
       "      <td>2020-04-15</td>\n",
       "      <td>59</td>\n",
       "      <td>30</td>\n",
       "      <td>695</td>\n",
       "      <td>60439692</td>\n",
       "      <td>308</td>\n",
       "      <td>12.862302</td>\n",
       "      <td>19.124153</td>\n",
       "      <td>88.207675</td>\n",
       "      <td>49.634312</td>\n",
       "    </tr>\n",
       "    <tr>\n",
       "      <th>6</th>\n",
       "      <td>Haryana</td>\n",
       "      <td>2020-04-15</td>\n",
       "      <td>34</td>\n",
       "      <td>3</td>\n",
       "      <td>199</td>\n",
       "      <td>25351462</td>\n",
       "      <td>573</td>\n",
       "      <td>6.000000</td>\n",
       "      <td>21.000000</td>\n",
       "      <td>129.000000</td>\n",
       "      <td>209.000000</td>\n",
       "    </tr>\n",
       "    <tr>\n",
       "      <th>7</th>\n",
       "      <td>Karnataka</td>\n",
       "      <td>2020-04-15</td>\n",
       "      <td>75</td>\n",
       "      <td>11</td>\n",
       "      <td>277</td>\n",
       "      <td>61095297</td>\n",
       "      <td>319</td>\n",
       "      <td>8.944444</td>\n",
       "      <td>33.944444</td>\n",
       "      <td>66.527778</td>\n",
       "      <td>122.708333</td>\n",
       "    </tr>\n",
       "    <tr>\n",
       "      <th>8</th>\n",
       "      <td>Kerala</td>\n",
       "      <td>2020-04-15</td>\n",
       "      <td>211</td>\n",
       "      <td>3</td>\n",
       "      <td>387</td>\n",
       "      <td>33406061</td>\n",
       "      <td>859</td>\n",
       "      <td>3.632353</td>\n",
       "      <td>18.147059</td>\n",
       "      <td>50.039216</td>\n",
       "      <td>66.343137</td>\n",
       "    </tr>\n",
       "    <tr>\n",
       "      <th>9</th>\n",
       "      <td>Madhya Pradesh</td>\n",
       "      <td>2020-04-15</td>\n",
       "      <td>64</td>\n",
       "      <td>53</td>\n",
       "      <td>987</td>\n",
       "      <td>72626809</td>\n",
       "      <td>236</td>\n",
       "      <td>8.442509</td>\n",
       "      <td>13.268293</td>\n",
       "      <td>54.268293</td>\n",
       "      <td>110.247387</td>\n",
       "    </tr>\n",
       "    <tr>\n",
       "      <th>10</th>\n",
       "      <td>Maharashtra</td>\n",
       "      <td>2020-04-15</td>\n",
       "      <td>259</td>\n",
       "      <td>178</td>\n",
       "      <td>2687</td>\n",
       "      <td>112374333</td>\n",
       "      <td>365</td>\n",
       "      <td>19.299479</td>\n",
       "      <td>33.582465</td>\n",
       "      <td>111.091146</td>\n",
       "      <td>192.478299</td>\n",
       "    </tr>\n",
       "    <tr>\n",
       "      <th>11</th>\n",
       "      <td>Mizoram</td>\n",
       "      <td>2020-04-15</td>\n",
       "      <td>0</td>\n",
       "      <td>0</td>\n",
       "      <td>1</td>\n",
       "      <td>1097206</td>\n",
       "      <td>52</td>\n",
       "      <td>2.000000</td>\n",
       "      <td>6.000000</td>\n",
       "      <td>47.000000</td>\n",
       "      <td>93.000000</td>\n",
       "    </tr>\n",
       "    <tr>\n",
       "      <th>12</th>\n",
       "      <td>Nagaland</td>\n",
       "      <td>2020-04-14</td>\n",
       "      <td>0</td>\n",
       "      <td>0</td>\n",
       "      <td>1</td>\n",
       "      <td>1978502</td>\n",
       "      <td>119</td>\n",
       "      <td>2.000000</td>\n",
       "      <td>7.409091</td>\n",
       "      <td>75.375000</td>\n",
       "      <td>137.352273</td>\n",
       "    </tr>\n",
       "    <tr>\n",
       "      <th>13</th>\n",
       "      <td>Odisha</td>\n",
       "      <td>2020-04-15</td>\n",
       "      <td>18</td>\n",
       "      <td>1</td>\n",
       "      <td>60</td>\n",
       "      <td>41974218</td>\n",
       "      <td>269</td>\n",
       "      <td>2.125000</td>\n",
       "      <td>16.750000</td>\n",
       "      <td>74.437500</td>\n",
       "      <td>137.562500</td>\n",
       "    </tr>\n",
       "    <tr>\n",
       "      <th>14</th>\n",
       "      <td>Puducherry</td>\n",
       "      <td>2020-04-15</td>\n",
       "      <td>1</td>\n",
       "      <td>0</td>\n",
       "      <td>7</td>\n",
       "      <td>1247953</td>\n",
       "      <td>2598</td>\n",
       "      <td>21.231884</td>\n",
       "      <td>15.637681</td>\n",
       "      <td>43.289855</td>\n",
       "      <td>51.492754</td>\n",
       "    </tr>\n",
       "    <tr>\n",
       "      <th>15</th>\n",
       "      <td>Punjab</td>\n",
       "      <td>2020-04-15</td>\n",
       "      <td>14</td>\n",
       "      <td>13</td>\n",
       "      <td>186</td>\n",
       "      <td>27743338</td>\n",
       "      <td>550</td>\n",
       "      <td>12.555556</td>\n",
       "      <td>37.422222</td>\n",
       "      <td>253.177778</td>\n",
       "      <td>0.000000</td>\n",
       "    </tr>\n",
       "    <tr>\n",
       "      <th>16</th>\n",
       "      <td>Rajasthan</td>\n",
       "      <td>2020-04-15</td>\n",
       "      <td>147</td>\n",
       "      <td>3</td>\n",
       "      <td>1005</td>\n",
       "      <td>68548437</td>\n",
       "      <td>201</td>\n",
       "      <td>6.138889</td>\n",
       "      <td>29.636364</td>\n",
       "      <td>115.373737</td>\n",
       "      <td>294.148990</td>\n",
       "    </tr>\n",
       "    <tr>\n",
       "      <th>17</th>\n",
       "      <td>Tamil Nadu</td>\n",
       "      <td>2020-04-15</td>\n",
       "      <td>81</td>\n",
       "      <td>12</td>\n",
       "      <td>1204</td>\n",
       "      <td>72147030</td>\n",
       "      <td>555</td>\n",
       "      <td>6.600000</td>\n",
       "      <td>40.400000</td>\n",
       "      <td>47.600000</td>\n",
       "      <td>110.200000</td>\n",
       "    </tr>\n",
       "    <tr>\n",
       "      <th>18</th>\n",
       "      <td>Uttar Pradesh</td>\n",
       "      <td>2020-04-15</td>\n",
       "      <td>51</td>\n",
       "      <td>11</td>\n",
       "      <td>735</td>\n",
       "      <td>199812341</td>\n",
       "      <td>828</td>\n",
       "      <td>11.916667</td>\n",
       "      <td>20.895833</td>\n",
       "      <td>149.406250</td>\n",
       "      <td>305.598958</td>\n",
       "    </tr>\n",
       "    <tr>\n",
       "      <th>19</th>\n",
       "      <td>Uttarakhand</td>\n",
       "      <td>2020-04-15</td>\n",
       "      <td>9</td>\n",
       "      <td>0</td>\n",
       "      <td>37</td>\n",
       "      <td>10086292</td>\n",
       "      <td>189</td>\n",
       "      <td>18.111111</td>\n",
       "      <td>21.888889</td>\n",
       "      <td>149.222222</td>\n",
       "      <td>304.888889</td>\n",
       "    </tr>\n",
       "    <tr>\n",
       "      <th>20</th>\n",
       "      <td>West Bengal</td>\n",
       "      <td>2020-04-15</td>\n",
       "      <td>37</td>\n",
       "      <td>7</td>\n",
       "      <td>213</td>\n",
       "      <td>91276115</td>\n",
       "      <td>1029</td>\n",
       "      <td>10.166667</td>\n",
       "      <td>72.833333</td>\n",
       "      <td>172.333333</td>\n",
       "      <td>163.000000</td>\n",
       "    </tr>\n",
       "  </tbody>\n",
       "</table>\n",
       "</div>"
      ],
      "text/plain": [
       "             state   datetime  cured  deaths  confirmed  population  density  \\\n",
       "0   Andhra Pradesh 2020-04-15     16       9        503    49577103      303   \n",
       "1            Bihar 2020-04-15     29       1         70   104099452     1102   \n",
       "2       Chandigarh 2020-04-15      7       0         21     1055450     9252   \n",
       "3            Delhi 2020-04-15     30      30       1561    16787941    11297   \n",
       "4              Goa 2020-04-15      5       0          7     1458545      394   \n",
       "5          Gujarat 2020-04-15     59      30        695    60439692      308   \n",
       "6          Haryana 2020-04-15     34       3        199    25351462      573   \n",
       "7        Karnataka 2020-04-15     75      11        277    61095297      319   \n",
       "8           Kerala 2020-04-15    211       3        387    33406061      859   \n",
       "9   Madhya Pradesh 2020-04-15     64      53        987    72626809      236   \n",
       "10     Maharashtra 2020-04-15    259     178       2687   112374333      365   \n",
       "11         Mizoram 2020-04-15      0       0          1     1097206       52   \n",
       "12        Nagaland 2020-04-14      0       0          1     1978502      119   \n",
       "13          Odisha 2020-04-15     18       1         60    41974218      269   \n",
       "14      Puducherry 2020-04-15      1       0          7     1247953     2598   \n",
       "15          Punjab 2020-04-15     14      13        186    27743338      550   \n",
       "16       Rajasthan 2020-04-15    147       3       1005    68548437      201   \n",
       "17      Tamil Nadu 2020-04-15     81      12       1204    72147030      555   \n",
       "18   Uttar Pradesh 2020-04-15     51      11        735   199812341      828   \n",
       "19     Uttarakhand 2020-04-15      9       0         37    10086292      189   \n",
       "20     West Bengal 2020-04-15     37       7        213    91276115     1029   \n",
       "\n",
       "     avg(SO2)   avg(NO2)   avg(RSPM)    avg(SPM)  \n",
       "0    8.828571  30.902857   93.548571  172.868571  \n",
       "1   11.839506  25.209877   78.320988  156.333333  \n",
       "2    3.213333  23.180000   97.460000  178.366667  \n",
       "3    9.500000  35.891304  120.021739  286.478261  \n",
       "4    7.517857  13.553571   96.642857   36.821429  \n",
       "5   12.862302  19.124153   88.207675   49.634312  \n",
       "6    6.000000  21.000000  129.000000  209.000000  \n",
       "7    8.944444  33.944444   66.527778  122.708333  \n",
       "8    3.632353  18.147059   50.039216   66.343137  \n",
       "9    8.442509  13.268293   54.268293  110.247387  \n",
       "10  19.299479  33.582465  111.091146  192.478299  \n",
       "11   2.000000   6.000000   47.000000   93.000000  \n",
       "12   2.000000   7.409091   75.375000  137.352273  \n",
       "13   2.125000  16.750000   74.437500  137.562500  \n",
       "14  21.231884  15.637681   43.289855   51.492754  \n",
       "15  12.555556  37.422222  253.177778    0.000000  \n",
       "16   6.138889  29.636364  115.373737  294.148990  \n",
       "17   6.600000  40.400000   47.600000  110.200000  \n",
       "18  11.916667  20.895833  149.406250  305.598958  \n",
       "19  18.111111  21.888889  149.222222  304.888889  \n",
       "20  10.166667  72.833333  172.333333  163.000000  "
      ]
     },
     "execution_count": 111,
     "metadata": {},
     "output_type": "execute_result"
    }
   ],
   "source": [
    "joined_df_all_data = df.join(air_quality_by_state, [\"state\"]).sort(\"state\")\n",
    "joined_df_all_data.toPandas()"
   ]
  },
  {
   "cell_type": "code",
   "execution_count": 112,
   "metadata": {
    "scrolled": true
   },
   "outputs": [
    {
     "name": "stdout",
     "output_type": "stream",
     "text": [
      "My guess was that there is a strong correlation between population density and air pollution\n",
      "However, I guessed wrong and the correlation is not that strong, its just: 0.1283119589220432\n"
     ]
    },
    {
     "data": {
      "image/png": "[encoded data removed]",
      "text/plain": [
       "<Figure size 360x360 with 1 Axes>"
      ]
     },
     "metadata": {
      "needs_background": "light"
     },
     "output_type": "display_data"
    }
   ],
   "source": [
    "print(\"My guess was that there is a strong correlation between population density and air pollution\")\n",
    "pd_with_air = joined_df_all_data.toPandas()\n",
    "print(f\"However, I guessed wrong and the correlation is not that strong, its just: {pd_with_air['density'].corr(pd_with_air['avg(NO2)'])}\")\n",
    "\n",
    "\n",
    "plt.figure(figsize=(5,5))\n",
    "plt.scatter(pd_with_air[\"density\"], pd_with_air[\"avg(NO2)\"], color=\"y\")\n",
    "plt.title('Scatter plot: population density vs NO2 in the air')\n",
    "plt.show()"
   ]
  },
  {
   "cell_type": "code",
   "execution_count": 33,
   "metadata": {},
   "outputs": [
    {
     "name": "stdout",
     "output_type": "stream",
     "text": [
      "Same for confirmed cases and 'Sulphur dioxde'... loose correlation: 0.3084289405048287\n"
     ]
    },
    {
     "data": {
      "image/png": "[encoded data removed]",
      "text/plain": [
       "<Figure size 360x360 with 1 Axes>"
      ]
     },
     "metadata": {
      "needs_background": "light"
     },
     "output_type": "display_data"
    }
   ],
   "source": [
    "print(f\"Same for confirmed cases and 'Sulphur dioxde'... loose correlation: {pd_with_air['confirmed'].corr(pd_with_air['avg(SO2)'])}\")\n",
    "\n",
    "plt.figure(figsize=(5,5))\n",
    "plt.scatter(pd_with_air[\"confirmed\"], pd_with_air[\"avg(SO2)\"], color=\"c\")\n",
    "plt.title('Scatter plot: population density vs SO2 in the air')\n",
    "plt.show()\n"
   ]
  },
  {
   "cell_type": "code",
   "execution_count": 34,
   "metadata": {
    "scrolled": false
   },
   "outputs": [
    {
     "data": {
      "text/plain": [
       "array([[<matplotlib.axes._subplots.AxesSubplot object at 0x7f1084455a50>,\n",
       "        <matplotlib.axes._subplots.AxesSubplot object at 0x7f1084372d90>,\n",
       "        <matplotlib.axes._subplots.AxesSubplot object at 0x7f1084326a10>,\n",
       "        <matplotlib.axes._subplots.AxesSubplot object at 0x7f10842e4d90>,\n",
       "        <matplotlib.axes._subplots.AxesSubplot object at 0x7f1084299a50>,\n",
       "        <matplotlib.axes._subplots.AxesSubplot object at 0x7f1084259dd0>,\n",
       "        <matplotlib.axes._subplots.AxesSubplot object at 0x7f108420da90>,\n",
       "        <matplotlib.axes._subplots.AxesSubplot object at 0x7f10841cd2d0>,\n",
       "        <matplotlib.axes._subplots.AxesSubplot object at 0x7f10841cde10>],\n",
       "       [<matplotlib.axes._subplots.AxesSubplot object at 0x7f108418e7d0>,\n",
       "        <matplotlib.axes._subplots.AxesSubplot object at 0x7f10840fab10>,\n",
       "        <matplotlib.axes._subplots.AxesSubplot object at 0x7f1084138e90>,\n",
       "        <matplotlib.axes._subplots.AxesSubplot object at 0x7f10840f0b50>,\n",
       "        <matplotlib.axes._subplots.AxesSubplot object at 0x7f10840aeed0>,\n",
       "        <matplotlib.axes._subplots.AxesSubplot object at 0x7f1084063b90>,\n",
       "        <matplotlib.axes._subplots.AxesSubplot object at 0x7f107dfe8f10>,\n",
       "        <matplotlib.axes._subplots.AxesSubplot object at 0x7f107dfa0bd0>,\n",
       "        <matplotlib.axes._subplots.AxesSubplot object at 0x7f107df5ff50>],\n",
       "       [<matplotlib.axes._subplots.AxesSubplot object at 0x7f107df14c10>,\n",
       "        <matplotlib.axes._subplots.AxesSubplot object at 0x7f107ded4f90>,\n",
       "        <matplotlib.axes._subplots.AxesSubplot object at 0x7f107de88c50>,\n",
       "        <matplotlib.axes._subplots.AxesSubplot object at 0x7f107de4afd0>,\n",
       "        <matplotlib.axes._subplots.AxesSubplot object at 0x7f107de7dc90>,\n",
       "        <matplotlib.axes._subplots.AxesSubplot object at 0x7f107de3f4d0>,\n",
       "        <matplotlib.axes._subplots.AxesSubplot object at 0x7f107ddf3cd0>,\n",
       "        <matplotlib.axes._subplots.AxesSubplot object at 0x7f107ddb5510>,\n",
       "        <matplotlib.axes._subplots.AxesSubplot object at 0x7f107dd6ad10>],\n",
       "       [<matplotlib.axes._subplots.AxesSubplot object at 0x7f10843ad550>,\n",
       "        <matplotlib.axes._subplots.AxesSubplot object at 0x7f1084418610>,\n",
       "        <matplotlib.axes._subplots.AxesSubplot object at 0x7f10843fe890>,\n",
       "        <matplotlib.axes._subplots.AxesSubplot object at 0x7f1084af5dd0>,\n",
       "        <matplotlib.axes._subplots.AxesSubplot object at 0x7f108470c8d0>,\n",
       "        <matplotlib.axes._subplots.AxesSubplot object at 0x7f108492b990>,\n",
       "        <matplotlib.axes._subplots.AxesSubplot object at 0x7f107dd25ad0>,\n",
       "        <matplotlib.axes._subplots.AxesSubplot object at 0x7f107dce5e50>,\n",
       "        <matplotlib.axes._subplots.AxesSubplot object at 0x7f107dc9bb10>],\n",
       "       [<matplotlib.axes._subplots.AxesSubplot object at 0x7f107dc5ae90>,\n",
       "        <matplotlib.axes._subplots.AxesSubplot object at 0x7f107dc10b50>,\n",
       "        <matplotlib.axes._subplots.AxesSubplot object at 0x7f107dbd0ed0>,\n",
       "        <matplotlib.axes._subplots.AxesSubplot object at 0x7f107db86b90>,\n",
       "        <matplotlib.axes._subplots.AxesSubplot object at 0x7f107db44f10>,\n",
       "        <matplotlib.axes._subplots.AxesSubplot object at 0x7f107db7abd0>,\n",
       "        <matplotlib.axes._subplots.AxesSubplot object at 0x7f107db39f50>,\n",
       "        <matplotlib.axes._subplots.AxesSubplot object at 0x7f107daefc10>,\n",
       "        <matplotlib.axes._subplots.AxesSubplot object at 0x7f107daaff90>],\n",
       "       [<matplotlib.axes._subplots.AxesSubplot object at 0x7f107da64c50>,\n",
       "        <matplotlib.axes._subplots.AxesSubplot object at 0x7f107da24fd0>,\n",
       "        <matplotlib.axes._subplots.AxesSubplot object at 0x7f107d9dac90>,\n",
       "        <matplotlib.axes._subplots.AxesSubplot object at 0x7f107d99b4d0>,\n",
       "        <matplotlib.axes._subplots.AxesSubplot object at 0x7f107d94fcd0>,\n",
       "        <matplotlib.axes._subplots.AxesSubplot object at 0x7f107d911510>,\n",
       "        <matplotlib.axes._subplots.AxesSubplot object at 0x7f107d8c7d10>,\n",
       "        <matplotlib.axes._subplots.AxesSubplot object at 0x7f107d886550>,\n",
       "        <matplotlib.axes._subplots.AxesSubplot object at 0x7f107d8bbd50>],\n",
       "       [<matplotlib.axes._subplots.AxesSubplot object at 0x7f107d87b590>,\n",
       "        <matplotlib.axes._subplots.AxesSubplot object at 0x7f107d82fd90>,\n",
       "        <matplotlib.axes._subplots.AxesSubplot object at 0x7f107d7ee5d0>,\n",
       "        <matplotlib.axes._subplots.AxesSubplot object at 0x7f107d7a3dd0>,\n",
       "        <matplotlib.axes._subplots.AxesSubplot object at 0x7f107d765610>,\n",
       "        <matplotlib.axes._subplots.AxesSubplot object at 0x7f107d719e10>,\n",
       "        <matplotlib.axes._subplots.AxesSubplot object at 0x7f107d6db650>,\n",
       "        <matplotlib.axes._subplots.AxesSubplot object at 0x7f107d691e50>,\n",
       "        <matplotlib.axes._subplots.AxesSubplot object at 0x7f107d650690>],\n",
       "       [<matplotlib.axes._subplots.AxesSubplot object at 0x7f107d606e90>,\n",
       "        <matplotlib.axes._subplots.AxesSubplot object at 0x7f107d5c76d0>,\n",
       "        <matplotlib.axes._subplots.AxesSubplot object at 0x7f107d5f9ed0>,\n",
       "        <matplotlib.axes._subplots.AxesSubplot object at 0x7f107d5bb710>,\n",
       "        <matplotlib.axes._subplots.AxesSubplot object at 0x7f107d570f10>,\n",
       "        <matplotlib.axes._subplots.AxesSubplot object at 0x7f107d532750>,\n",
       "        <matplotlib.axes._subplots.AxesSubplot object at 0x7f107d4e3f50>,\n",
       "        <matplotlib.axes._subplots.AxesSubplot object at 0x7f107d4a7790>,\n",
       "        <matplotlib.axes._subplots.AxesSubplot object at 0x7f107d45af90>],\n",
       "       [<matplotlib.axes._subplots.AxesSubplot object at 0x7f107d41c7d0>,\n",
       "        <matplotlib.axes._subplots.AxesSubplot object at 0x7f107d3cffd0>,\n",
       "        <matplotlib.axes._subplots.AxesSubplot object at 0x7f107d391810>,\n",
       "        <matplotlib.axes._subplots.AxesSubplot object at 0x7f107d345f90>,\n",
       "        <matplotlib.axes._subplots.AxesSubplot object at 0x7f107d308850>,\n",
       "        <matplotlib.axes._subplots.AxesSubplot object at 0x7f107d2c5bd0>,\n",
       "        <matplotlib.axes._subplots.AxesSubplot object at 0x7f107d2fe890>,\n",
       "        <matplotlib.axes._subplots.AxesSubplot object at 0x7f107d2bac10>,\n",
       "        <matplotlib.axes._subplots.AxesSubplot object at 0x7f107d2718d0>]],\n",
       "      dtype=object)"
      ]
     },
     "execution_count": 34,
     "metadata": {},
     "output_type": "execute_result"
    },
    {
     "data": {
      "image/png": "[encoded data removed]",
      "text/plain": [
       "<Figure size 1152x1152 with 81 Axes>"
      ]
     },
     "metadata": {
      "needs_background": "light"
     },
     "output_type": "display_data"
    }
   ],
   "source": [
    "from pandas.plotting import scatter_matrix\n",
    "scatter_matrix(pd_with_air[[\"cured\", \"deaths\", \"confirmed\", \"population\", \"density\", \"avg(NO2)\", \"avg(SO2)\", \"avg(RSPM)\", \"avg(SPM)\"]], alpha=1, figsize=(16,16))"
   ]
  },
  {
   "cell_type": "markdown",
   "metadata": {},
   "source": [
    "# Linear regression model\n",
    "### Define our initial data\n",
    "Let's take the joined table, and use it's equivalent RDD to iterate and create Labeled Points <br>\n",
    "Notice that **cured and deaths** columns are sort of a \"cheat\", but since its an educational excercise lets add them to demonstrate stronger correlation"
   ]
  },
  {
   "cell_type": "code",
   "execution_count": 171,
   "metadata": {},
   "outputs": [],
   "source": [
    "from pyspark.mllib.regression import LabeledPoint\n",
    "from pyspark.mllib.linalg import Vectors\n",
    "joined_rdd = joined_df_all_data.select(\"population\", \"density\", \"cured\", \"deaths\", \"avg(SO2)\", \"avg(NO2)\", \"avg(RSPM)\", \"avg(SPM)\", \"confirmed\").rdd"
   ]
  },
  {
   "cell_type": "markdown",
   "metadata": {},
   "source": [
    "### Generate Labeled points structure: Label + densed vectore"
   ]
  },
  {
   "cell_type": "code",
   "execution_count": 161,
   "metadata": {
    "scrolled": true
   },
   "outputs": [
    {
     "data": {
      "text/plain": [
       "[LabeledPoint(503.0, [49577103.0,303.0,16.0,9.0,8.82857142857143,30.902857142857144,93.54857142857144,172.86857142857144]),\n",
       " LabeledPoint(70.0, [104099452.0,1102.0,29.0,1.0,11.839506172839506,25.209876543209877,78.32098765432099,156.33333333333334]),\n",
       " LabeledPoint(21.0, [1055450.0,9252.0,7.0,0.0,3.2133333333333334,23.18,97.46,178.36666666666667]),\n",
       " LabeledPoint(1561.0, [16787941.0,11297.0,30.0,30.0,9.5,35.891304347826086,120.02173913043478,286.4782608695652]),\n",
       " LabeledPoint(7.0, [1458545.0,394.0,5.0,0.0,7.517857142857143,13.553571428571429,96.64285714285714,36.82142857142857])]"
      ]
     },
     "execution_count": 161,
     "metadata": {},
     "output_type": "execute_result"
    }
   ],
   "source": [
    "labeled_points = joined_rdd.map(lambda row: LabeledPoint(row[-1], Vectors.dense(row[0:-1])))\n",
    "labeled_points.take(5)"
   ]
  },
  {
   "cell_type": "markdown",
   "metadata": {},
   "source": [
    "### split our labeled data into training and test sets\n",
    "Training set with 17 records and test set with 4 records.\n",
    "* Notice - This amount of data is insufficient for good predictions"
   ]
  },
  {
   "cell_type": "code",
   "execution_count": 162,
   "metadata": {},
   "outputs": [],
   "source": [
    "sets = labeled_points.randomSplit([0.8, 0.2])\n",
    "training_data = sets[0]\n",
    "test_data = sets[1]"
   ]
  },
  {
   "cell_type": "markdown",
   "metadata": {},
   "source": [
    "#### Preparing standardScaler object\n",
    "configuredwithStd - for Scaling the data to unit standard deviation withMean - to center the data with mean before scaling"
   ]
  },
  {
   "cell_type": "code",
   "execution_count": 163,
   "metadata": {},
   "outputs": [],
   "source": [
    "from pyspark.mllib.feature import StandardScaler\n",
    "scaler_model = StandardScaler(withStd=True, withMean=True)"
   ]
  },
  {
   "cell_type": "markdown",
   "metadata": {},
   "source": [
    "#### Model fitting\n",
    "Compute summary statistics by fitting the scaler model we just created, using the training set. <br>\n",
    "By Apache's official docs: _\"Computes the mean and variance and stores as a model to be used for later scaling.\"_"
   ]
  },
  {
   "cell_type": "code",
   "execution_count": 164,
   "metadata": {
    "scrolled": true
   },
   "outputs": [],
   "source": [
    "scaler_model = scaler_model.fit(training_data.map(lambda rec: rec.features))"
   ]
  },
  {
   "cell_type": "markdown",
   "metadata": {},
   "source": [
    "#### Label and features extraction\n",
    "Extracting labels and features from our LabeledPoints list, by set type (training and test)."
   ]
  },
  {
   "cell_type": "code",
   "execution_count": 165,
   "metadata": {},
   "outputs": [],
   "source": [
    "training_labels = training_data.map(lambda rec: rec.label)\n",
    "training_features = training_data.map(lambda rec: rec.features)\n",
    "test_labels = test_data.map(lambda rec: rec.label)\n",
    "test_features = test_data.map(lambda rec: rec.features)"
   ]
  },
  {
   "cell_type": "markdown",
   "metadata": {},
   "source": [
    "### Data normalization\n",
    "Apply Scaler model's transform method on both set's features,\n",
    "In other words: normalize each feature to have unit standard deviation\n",
    "\n",
    "The outcome would be a list of dense vectors with normalized data. Here are the first two records"
   ]
  },
  {
   "cell_type": "code",
   "execution_count": 166,
   "metadata": {
    "scrolled": false
   },
   "outputs": [
    {
     "data": {
      "text/plain": [
       "[DenseVector([-0.1922, -0.4428, -0.5947, -0.2873, -0.1284, 0.1953, -0.1655, 0.2079]),\n",
       " DenseVector([0.8912, -0.1991, -0.3925, -0.4743, 0.4393, -0.1852, -0.4497, 0.0167])]"
      ]
     },
     "execution_count": 166,
     "metadata": {},
     "output_type": "execute_result"
    }
   ],
   "source": [
    "normalized_features_vectors = scaler_model.transform(training_features)\n",
    "normalized_test_features_vectors = scaler_model.transform(test_features)\n",
    "normalized_features_vectors.take(2)"
   ]
  },
  {
   "cell_type": "markdown",
   "metadata": {},
   "source": [
    "#### Creating labeled points\n",
    "Zip labels with normalized features as Labeled points lists"
   ]
  },
  {
   "cell_type": "code",
   "execution_count": 167,
   "metadata": {
    "scrolled": true
   },
   "outputs": [
    {
     "data": {
      "text/plain": [
       "[LabeledPoint(503.0, [-0.19221016784709394,-0.442770273713946,-0.5946875617463372,-0.28734335552996026,-0.12842490277072063,0.1952689141531105,-0.16549324366439955,0.2079344644627058]),\n",
       " LabeledPoint(70.0, [0.8911760874114966,-0.19914438746844132,-0.3924937907525825,-0.47432276391309236,0.4392830226935328,-0.1852093193085276,-0.449700238543503,0.016700416649829984])]"
      ]
     },
     "execution_count": 167,
     "metadata": {},
     "output_type": "execute_result"
    }
   ],
   "source": [
    "training_scaled = training_labels.zip(normalized_features_vectors).map(lambda x: LabeledPoint(x[0], x[1]))\n",
    "test_scaled = test_labels.zip(normalized_test_features_vectors).map(lambda x: LabeledPoint(x[0], x[1]))\n",
    "training_scaled.take(2)"
   ]
  },
  {
   "cell_type": "markdown",
   "metadata": {},
   "source": [
    "### Applying a linear regression model\n",
    "1. Choosing an algorithm (\"LinearRegressionWithSGD\") - linear regression model that uses stochastic gradient decent (where the steps are randomly determined)\n",
    "2. cahce the data due to multiple expected iterations\n",
    "3. model training"
   ]
  },
  {
   "cell_type": "code",
   "execution_count": 168,
   "metadata": {},
   "outputs": [],
   "source": [
    "from pyspark.mllib.regression import LinearRegressionWithSGD\n",
    "alg = LinearRegressionWithSGD()\n",
    "training_scaled.cache()\n",
    "test_scaled.cache()\n",
    "model = alg.train(training_scaled, iterations=200, intercept=True)"
   ]
  },
  {
   "cell_type": "code",
   "execution_count": 169,
   "metadata": {},
   "outputs": [
    {
     "data": {
      "text/plain": [
       "[(-47.13018268053486, 7.0),\n",
       " (1029.9478970992736, 387.0),\n",
       " (25.517691004986773, 1.0),\n",
       " (238.0864043154478, 37.0)]"
      ]
     },
     "execution_count": 169,
     "metadata": {},
     "output_type": "execute_result"
    }
   ],
   "source": [
    "test_set_predications = test_scaled.map(lambda x: (float(model.predict(x.features)), x.label))\n",
    "test_set_predications.collect()"
   ]
  },
  {
   "cell_type": "markdown",
   "metadata": {},
   "source": [
    "# Model quality measurement\n",
    "\n",
    "### RMSE \n",
    "(Root Mean Square Error) is the standard deviation of the predictions errors.\n",
    "It tells us the \"average expected error\" of our model's predictions.\n",
    "\n",
    "The \"errors\" are measured by their distance from the regression line, as illustrated:\n",
    "\n",
    "\n",
    "<img src=\"https://images.squarespace-cdn.com/content/v1/58c95854c534a56689231265/1531151917631-MP881P65V9DJT0D4G0X9/ke17ZwdGBToddI8pDm48kPmLlvCIXgndBxNq9fzeZb1Zw-zPPgdn4jUwVcJE1ZvWQUxwkmyExglNqGp0IvTJZamWLI2zvYWH8K3-s_4yszcp2ryTI0HqTOaaUohrI8PIFMLRh9LbupWL4Bv1SDYZc4lRApws2Snwk0j_RSxbNHMKMshLAGzx4R3EDFOm1kBS/Figura0.jpg?format=500w\">"
   ]
  },
  {
   "cell_type": "code",
   "execution_count": 170,
   "metadata": {},
   "outputs": [
    {
     "name": "stdout",
     "output_type": "stream",
     "text": [
      "338.1378913380376\n"
     ]
    }
   ],
   "source": [
    "import math\n",
    "RMSE = math.sqrt(test_set_predications.map(lambda p: pow(p[0]-p[1],2)).mean())\n",
    "print(RMSE)"
   ]
  },
  {
   "cell_type": "markdown",
   "metadata": {},
   "source": [
    "## Results Summary\n",
    "As we can see the RMSE is high (~200 - ~470, depends on the random split of test and train sets) and could not be trusted for actual real-life predictions. <br>\n",
    "\n",
    "#### Why its so high?\n",
    "1. Insufficient records of data\n",
    "2. very high variance in the label column\n",
    "3. weak correlations\n",
    "\n",
    "In real life, correlation of 0.2-0.3 is fairly high, but with much bigger training set. <br>\n",
    "By keeping all the records in the original dataset, we could have get a  much bigger training set, but it was sort of \"cheat\" since its just the same data repeating itself."
   ]
  },
  {
   "cell_type": "markdown",
   "metadata": {},
   "source": [
    "# Showing data on Google Maps\n",
    "### First step: Gather states geo location\n",
    "We'll use gmaps library for Google maps API consumption <br>\n",
    "Let's get the data using the geojson_geometries module and extract only the \"interesting\" data by applying a user defined function called get_geo_by_state."
   ]
  },
  {
   "cell_type": "code",
   "execution_count": 166,
   "metadata": {
    "scrolled": false
   },
   "outputs": [
    {
     "data": {
      "text/plain": [
       "ParallelCollectionRDD[122] at parallelize at PythonRDD.scala:195"
      ]
     },
     "execution_count": 166,
     "metadata": {},
     "output_type": "execute_result"
    }
   ],
   "source": [
    "import gmaps.geojson_geometries\n",
    "countries_geojson = sc.parallelize(gmaps.geojson_geometries.load_geometry('india-states').get(\"features\"))\n",
    "countries_geojson"
   ]
  },
  {
   "cell_type": "code",
   "execution_count": 203,
   "metadata": {},
   "outputs": [],
   "source": [
    "def get_geo_by_state(feature):\n",
    "    if len(feature.get(\"geometry\", {}).get(\"coordinates\")[0][0]) == 2:\n",
    "        return feature.get(\"properties\", {}).get(\"NAME_1\"), tuple(feature.get(\"geometry\", {}).get(\"coordinates\")[0][0])\n",
    "    else:\n",
    "        return feature.get(\"properties\", {}).get(\"NAME_1\"), tuple(feature.get(\"geometry\", {}).get(\"coordinates\")[0][0][0])"
   ]
  },
  {
   "cell_type": "code",
   "execution_count": 204,
   "metadata": {
    "scrolled": true
   },
   "outputs": [
    {
     "data": {
      "text/plain": [
       "[('Andaman and Nicobar', (93.84805297851591, 7.240280151367472)),\n",
       " ('Andhra Pradesh', (80.14902496337896, 13.618473052978516)),\n",
       " ('Arunachal Pradesh', (95.23763275146501, 26.686290740966797)),\n",
       " ('Assam', (89.87145233154291, 25.53729820251459)),\n",
       " ('Bihar', (88.10614776611357, 26.535623550415096))]"
      ]
     },
     "execution_count": 204,
     "metadata": {},
     "output_type": "execute_result"
    }
   ],
   "source": [
    "states_geo = countries_geojson.map(get_geo_by_state)\n",
    "states_geo.take(5)"
   ]
  },
  {
   "cell_type": "markdown",
   "metadata": {},
   "source": [
    "## Let's bring to life our old covid_df_latest_records\n",
    "but this time as a simplified RDD, containing only the states and confirmed cases"
   ]
  },
  {
   "cell_type": "code",
   "execution_count": 205,
   "metadata": {
    "scrolled": true
   },
   "outputs": [
    {
     "data": {
      "text/plain": [
       "[Row(state='Manipur', confirmed=2),\n",
       " Row(state='Telengana', confirmed=647),\n",
       " Row(state='Tripura', confirmed=2),\n",
       " Row(state='West Bengal', confirmed=213),\n",
       " Row(state='Rajasthan', confirmed=1005)]"
      ]
     },
     "execution_count": 205,
     "metadata": {},
     "output_type": "execute_result"
    }
   ],
   "source": [
    "covid_rdd = covid_df_latest_records.select(\"state\", \"confirmed\").rdd\n",
    "covid_rdd.take(5)"
   ]
  },
  {
   "cell_type": "markdown",
   "metadata": {},
   "source": [
    "# Join the GeoLocation and the simplified Covid data\n",
    "We are collecting as map for convenience <br>\n",
    "It is fine in this case because we're performing an action that should'nt utilize spark's distributed capabilities: <br>\n",
    "Generally, when ploting (or displaying a map), the data is anyway gathered on the **driver**."
   ]
  },
  {
   "cell_type": "code",
   "execution_count": 213,
   "metadata": {},
   "outputs": [
    {
     "data": {
      "text/plain": [
       "{'Assam': (33, (89.87145233154291, 25.53729820251459)),\n",
       " 'Punjab': (186, (76.76985931396513, 30.906391143798942)),\n",
       " 'Rajasthan': (1005, (74.51906585693376, 29.943349838256893)),\n",
       " 'Chandigarh': (21, (76.81050872802734, 30.684951782226562)),\n",
       " 'Chhattisgarh': (33, (84.00250244140653, 22.520860671997184)),\n",
       " 'Bihar': (70, (88.10614776611357, 26.535623550415096)),\n",
       " 'Tripura': (2, (92.23099517822294, 24.50409126281761)),\n",
       " 'Haryana': (199, (77.5748901367188, 30.384519577026424)),\n",
       " 'Tamil Nadu': (1204, (79.31236267089838, 9.328472137451172)),\n",
       " 'Kerala': (387, (76.46736145019526, 9.540970802307243)),\n",
       " 'Jharkhand': (27, (87.787582397461, 25.22048950195324)),\n",
       " 'Puducherry': (7, (79.76051330566412, 10.98058128356945)),\n",
       " 'Gujarat': (695, (70.87040710449247, 20.718719482422102)),\n",
       " 'Uttar Pradesh': (735, (79.7619705200197, 28.88969039916998)),\n",
       " 'Himachal Pradesh': (33, (78.41075897216791, 32.51174163818371)),\n",
       " 'Madhya Pradesh': (987, (82.8077774047851, 23.963058471679688)),\n",
       " 'Arunachal Pradesh': (1, (95.23763275146501, 26.686290740966797)),\n",
       " 'Karnataka': (277, (74.3651428222658, 14.55263996124279)),\n",
       " 'Delhi': (1561, (77.19444274902338, 28.8022918701173)),\n",
       " 'Maharashtra': (2687, (72.93902587890625, 18.972360610961914)),\n",
       " 'West Bengal': (213, (88.49771118164068, 21.599754333496378)),\n",
       " 'Meghalaya': (7, (92.42590332031261, 25.031820297241325)),\n",
       " 'Mizoram': (1, (93.0004959106447, 24.40327072143566)),\n",
       " 'Andhra Pradesh': (503, (80.14902496337896, 13.618473052978516)),\n",
       " 'Goa': (7, (74.12602996826178, 15.650289535522518)),\n",
       " 'Jammu and Kashmir': (278, (78.41075897216791, 32.51174163818371)),\n",
       " 'Manipur': (2, (94.68242645263678, 25.45973014831543)),\n",
       " 'Nagaland': (1, (95.23763275146501, 26.686290740966797))}"
      ]
     },
     "execution_count": 213,
     "metadata": {},
     "output_type": "execute_result"
    }
   ],
   "source": [
    "data_for_gmap = covid_rdd.join(states_geo).collectAsMap()\n",
    "data_for_gmap"
   ]
  },
  {
   "cell_type": "markdown",
   "metadata": {},
   "source": [
    "## Displaying on the map\n",
    "Here I chose to create a custom marker in order to display the confirmed cases count for each state, right on the marker."
   ]
  },
  {
   "cell_type": "code",
   "execution_count": 216,
   "metadata": {},
   "outputs": [
    {
     "data": {
      "application/vnd.jupyter.widget-view+json": {
       "model_id": "2c397bbf6d174c11ab3780ced1db4d45",
       "version_major": 2,
       "version_minor": 0
      },
      "text/plain": [
       "Figure(layout=FigureLayout(height='420px'))"
      ]
     },
     "metadata": {},
     "output_type": "display_data"
    }
   ],
   "source": [
    "import gmaps\n",
    "gmaps.configure(api_key='API_KEY')\n",
    "\n",
    "locations = [(state[1][1], state[1][0]) for state in data_for_gmap.values()]\n",
    "info_box_template = \"\"\"\n",
    "<dl>\n",
    "<dt>State</dt><dd>{state}</dd>\n",
    "<dt>Confirmed Cases</dt><dd>{confirmed}</dd>\n",
    "</dl>\n",
    "\"\"\"\n",
    "state_info = [info_box_template.format(state=k, confirmed=v[0]) for k,v in data_for_gmap.items()]\n",
    "\n",
    "marker_layer = gmaps.marker_layer(locations, info_box_content=state_info)\n",
    "fig = gmaps.figure()\n",
    "fig.add_layer(marker_layer)\n",
    "fig"
   ]
  },
  {
   "cell_type": "markdown",
   "metadata": {},
   "source": [
    "# Since the map wont display when viewing in github,\n",
    "I added a raw image of it.\n",
    "\n",
    "<img src=\"https://github.com/eliranshemtov/spark_analytics_exercises/blob/master/Exercise%201/notebook/products/map.png?raw=true\">\n",
    "\n"
   ]
  },
  {
   "cell_type": "code",
   "execution_count": null,
   "metadata": {},
   "outputs": [],
   "source": []
  }
 ],
 "metadata": {
  "kernelspec": {
   "display_name": "Python 3",
   "language": "python",
   "name": "python3"
  },
  "language_info": {
   "codemirror_mode": {
    "name": "ipython",
    "version": 3
   },
   "file_extension": ".py",
   "mimetype": "text/x-python",
   "name": "python",
   "nbconvert_exporter": "python",
   "pygments_lexer": "ipython3",
   "version": "3.7.6"
  }
 },
 "nbformat": 4,
 "nbformat_minor": 4
}
