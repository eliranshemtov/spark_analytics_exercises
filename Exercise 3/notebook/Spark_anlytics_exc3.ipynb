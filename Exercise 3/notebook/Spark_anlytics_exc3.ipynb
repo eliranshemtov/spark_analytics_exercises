{
 "cells": [
  {
   "cell_type": "code",
   "execution_count": 145,
   "metadata": {},
   "outputs": [],
   "source": [
    "import pyspark\n",
    "import math\n",
    "import itertools\n",
    "import os\n",
    "from decimal import Decimal\n",
    "from operator import add\n",
    "sc = pyspark.SparkContext.getOrCreate()\n",
    "sqlContext = pyspark.sql.SQLContext(sc)"
   ]
  },
  {
   "cell_type": "markdown",
   "metadata": {},
   "source": [
    "# File Reading into DataFrame"
   ]
  },
  {
   "cell_type": "code",
   "execution_count": 158,
   "metadata": {},
   "outputs": [],
   "source": [
    "scripts_directory = '/usr/data/movie_scripts/'\n",
    "files_list = os.listdir(scripts_directory)\n",
    "files_list_rdd = sc.parallelize(files_list)"
   ]
  },
  {
   "cell_type": "code",
   "execution_count": 165,
   "metadata": {},
   "outputs": [
    {
     "name": "stdout",
     "output_type": "stream",
     "text": [
      "+------------+--------------------+--------------------+\n",
      "|       actor|          movie_name|              script|\n",
      "+------------+--------------------+--------------------+\n",
      "|Adam Sandler|      50 First Dates|So tell me. How w...|\n",
      "|Adam Sandler|            Airheads|Oh, yeah! That wa...|\n",
      "|Adam Sandler|    Anger Management|<font color=orang...|\n",
      "|Adam Sandler|     Bedtime Stories|[man] I'm going t...|\n",
      "|Adam Sandler|           Big Daddy|- Hello? - Sonny,...|\n",
      "|Adam Sandler|       Billy Madison|~ Suntan lotion i...|\n",
      "|Adam Sandler|             Blended|Yes. Uh-huh. I'm ...|\n",
      "|Adam Sandler|         Bulletproof|I believe in Amer...|\n",
      "|Adam Sandler|               Click|Advertise your pr...|\n",
      "|Adam Sandler|           Coneheads|Do you copy? - Ro...|\n",
      "|Adam Sandler|          Dirty Work|Hand over the mil...|\n",
      "|Adam Sandler|  Eight Crazy Nights|Well, all right. ...|\n",
      "|Adam Sandler|        Funny People|Hello, ladies. So...|\n",
      "|Adam Sandler|         Grown Ups 2|<font color=\"#D90...|\n",
      "|Adam Sandler|           Grown Ups|Double dribble. W...|\n",
      "|Adam Sandler|       Happy Gilmore|HAPPY GILMORE My ...|\n",
      "|Adam Sandler|Hotel Transylvania 2|Welcome! Welcome!...|\n",
      "|Adam Sandler|  Hotel Transylvania|Peek-a-boo! No, n...|\n",
      "|Adam Sandler|I Now Pronounce Y...|So? Yo. You gonna...|\n",
      "|Adam Sandler|       Jack and Jill|BOTH: And we were...|\n",
      "+------------+--------------------+--------------------+\n",
      "only showing top 20 rows\n",
      "\n"
     ]
    }
   ],
   "source": [
    "def map_script_to_meta(filename):\n",
    "    if \"txt\" not in filename:\n",
    "        return []\n",
    "    script = open(scripts_directory + filename, 'r', encoding='utf8').read()\n",
    "    actor, movie = filename[:-4].split(\"_\")\n",
    "    return [Row(actor=actor, movie_name=movie, script=script)]\n",
    "\n",
    "scripts_df = rdd.flatMap(map_script_to_meta).toDF()\n",
    "scripts_df.show()"
   ]
  },
  {
   "cell_type": "markdown",
   "metadata": {},
   "source": [
    "# Characters Sanitation and Tokenization"
   ]
  },
  {
   "cell_type": "code",
   "execution_count": 182,
   "metadata": {
    "scrolled": true
   },
   "outputs": [
    {
     "name": "stdout",
     "output_type": "stream",
     "text": [
      "+------------+--------------------+--------------------+--------------------+------------+\n",
      "|       actor|          movie_name|              script|    tokenized_script|tokens_count|\n",
      "+------------+--------------------+--------------------+--------------------+------------+\n",
      "|Adam Sandler|      50 First Dates|So tell me. How w...|[so, tell, me, ho...|        9853|\n",
      "|Adam Sandler|            Airheads|Oh, yeah! That wa...|[oh, yeah, that, ...|       10230|\n",
      "|Adam Sandler|    Anger Management|<font color=orang...|[font, color, ora...|       12020|\n",
      "|Adam Sandler|     Bedtime Stories|[man] I'm going t...|[man, i, m, going...|       12265|\n",
      "|Adam Sandler|           Big Daddy|- Hello? - Sonny,...|[hello, sonny, it...|       10934|\n",
      "|Adam Sandler|       Billy Madison|~ Suntan lotion i...|[suntan, lotion, ...|        8081|\n",
      "|Adam Sandler|             Blended|Yes. Uh-huh. I'm ...|[yes, uh, huh, i,...|       12809|\n",
      "|Adam Sandler|         Bulletproof|I believe in Amer...|[i, believe, in, ...|        7295|\n",
      "|Adam Sandler|               Click|Advertise your pr...|[advertise, your,...|       11405|\n",
      "|Adam Sandler|           Coneheads|Do you copy? - Ro...|[do, you, copy, r...|        7257|\n",
      "|Adam Sandler|          Dirty Work|Hand over the mil...|[hand, over, the,...|        9042|\n",
      "|Adam Sandler|  Eight Crazy Nights|Well, all right. ...|[well, all, right...|        8118|\n",
      "|Adam Sandler|        Funny People|Hello, ladies. So...|[hello, ladies, s...|       11870|\n",
      "|Adam Sandler|         Grown Ups 2|<font color=\"#D90...|[font, color, d90...|       14039|\n",
      "|Adam Sandler|           Grown Ups|Double dribble. W...|[double, dribble,...|       12878|\n",
      "|Adam Sandler|       Happy Gilmore|HAPPY GILMORE My ...|[happy, gilmore, ...|        8045|\n",
      "|Adam Sandler|Hotel Transylvania 2|Welcome! Welcome!...|[welcome, welcome...|        8260|\n",
      "|Adam Sandler|  Hotel Transylvania|Peek-a-boo! No, n...|[peek, a, boo, no...|        8997|\n",
      "|Adam Sandler|I Now Pronounce Y...|So? Yo. You gonna...|[so, yo, you, gon...|        7102|\n",
      "|Adam Sandler|       Jack and Jill|BOTH: And we were...|[both, and, we, w...|       14490|\n",
      "+------------+--------------------+--------------------+--------------------+------------+\n",
      "only showing top 20 rows\n",
      "\n"
     ]
    }
   ],
   "source": [
    "from pyspark.ml.feature import Tokenizer\n",
    "from pyspark.sql.functions import col, udf\n",
    "from pyspark.sql.types import IntegerType\n",
    "\n",
    "tokenizer = Tokenizer(inputCol=\"script\", outputCol=\"tokenized_script\")\n",
    "count_tokens = udf(lambda words: len(words), IntegerType())\n",
    "tokenized = tokenizer.transform(scripts_df)\n",
    "tokenized = tokenized.select(\"actor\", \"movie_name\", \"script\", \"tokenized_script\")\n",
    "regexTokenized = regexTokenizer.transform(scripts_df)\n",
    "tokenized = regexTokenized.select(\"actor\", \"movie_name\", \"script\", \"tokenized_script\").withColumn(\"tokens_count\", count_tokens(col(\"tokenized_script\")))\n",
    "tokenized.show()"
   ]
  },
  {
   "cell_type": "markdown",
   "metadata": {},
   "source": [
    "# Stop-Word Sanitation"
   ]
  },
  {
   "cell_type": "code",
   "execution_count": 183,
   "metadata": {},
   "outputs": [
    {
     "name": "stdout",
     "output_type": "stream",
     "text": [
      "+------------+--------------------+--------------------+--------------------+------------+--------------------+---------------+\n",
      "|       actor|          movie_name|              script|    tokenized_script|tokens_count|    sanitized_script|sanitized_count|\n",
      "+------------+--------------------+--------------------+--------------------+------------+--------------------+---------------+\n",
      "|Adam Sandler|      50 First Dates|So tell me. How w...|[so, tell, me, ho...|        9853|[tell, hawaii, un...|           4650|\n",
      "|Adam Sandler|            Airheads|Oh, yeah! That wa...|[oh, yeah, that, ...|       10230|[oh, yeah, pinhea...|           5013|\n",
      "|Adam Sandler|    Anger Management|<font color=orang...|[font, color, ora...|       12020|[font, color, ora...|           5941|\n",
      "|Adam Sandler|     Bedtime Stories|[man] I'm going t...|[man, i, m, going...|       12265|[man, m, going, t...|           6368|\n",
      "|Adam Sandler|           Big Daddy|- Hello? - Sonny,...|[hello, sonny, it...|       10934|[hello, sonny, da...|           5083|\n",
      "|Adam Sandler|       Billy Madison|~ Suntan lotion i...|[suntan, lotion, ...|        8081|[suntan, lotion, ...|           4162|\n",
      "|Adam Sandler|             Blended|Yes. Uh-huh. I'm ...|[yes, uh, huh, i,...|       12809|[yes, uh, huh, m,...|           6180|\n",
      "|Adam Sandler|         Bulletproof|I believe in Amer...|[i, believe, in, ...|        7295|[believe, america...|           3288|\n",
      "|Adam Sandler|               Click|Advertise your pr...|[advertise, your,...|       11405|[advertise, produ...|           5575|\n",
      "|Adam Sandler|           Coneheads|Do you copy? - Ro...|[do, you, copy, r...|        7257|[copy, roger, cap...|           3748|\n",
      "|Adam Sandler|          Dirty Work|Hand over the mil...|[hand, over, the,...|        9042|[hand, milk, mone...|           4376|\n",
      "|Adam Sandler|  Eight Crazy Nights|Well, all right. ...|[well, all, right...|        8118|[well, right, loo...|           3949|\n",
      "|Adam Sandler|        Funny People|Hello, ladies. So...|[hello, ladies, s...|       11870|[hello, ladies, l...|           5553|\n",
      "|Adam Sandler|         Grown Ups 2|<font color=\"#D90...|[font, color, d90...|       14039|[font, color, d90...|           7548|\n",
      "|Adam Sandler|           Grown Ups|Double dribble. W...|[double, dribble,...|       12878|[double, dribble,...|           6763|\n",
      "|Adam Sandler|       Happy Gilmore|HAPPY GILMORE My ...|[happy, gilmore, ...|        8045|[happy, gilmore, ...|           3935|\n",
      "|Adam Sandler|Hotel Transylvania 2|Welcome! Welcome!...|[welcome, welcome...|        8260|[welcome, welcome...|           4033|\n",
      "|Adam Sandler|  Hotel Transylvania|Peek-a-boo! No, n...|[peek, a, boo, no...|        8997|[peek, boo, didn,...|           4272|\n",
      "|Adam Sandler|I Now Pronounce Y...|So? Yo. You gonna...|[so, yo, you, gon...|        7102|[yo, gonna, show,...|           3419|\n",
      "|Adam Sandler|       Jack and Jill|BOTH: And we were...|[both, and, we, w...|       14490|[born, september,...|           6884|\n",
      "+------------+--------------------+--------------------+--------------------+------------+--------------------+---------------+\n",
      "only showing top 20 rows\n",
      "\n"
     ]
    }
   ],
   "source": [
    "from pyspark.ml.feature import StopWordsRemover\n",
    "\n",
    "stop_word_remover = StopWordsRemover(inputCol=\"tokenized_script\", outputCol=\"sanitized_script\")\n",
    "sanitized = stop_word_remover.transform(tokenized)\n",
    "sanitized = sanitized.select(\"actor\", \"movie_name\", \"script\", \"tokenized_script\", \"tokens_count\", \"sanitized_script\").withColumn(\"sanitized_count\", count_tokens(col(\"sanitized_script\")))\n",
    "sanitized.show()"
   ]
  },
  {
   "cell_type": "markdown",
   "metadata": {},
   "source": [
    "# Selecting Only What Really Matters"
   ]
  },
  {
   "cell_type": "code",
   "execution_count": 184,
   "metadata": {},
   "outputs": [
    {
     "name": "stdout",
     "output_type": "stream",
     "text": [
      "+------------+--------------------+--------------------+\n",
      "|       actor|          movie_name|    sanitized_script|\n",
      "+------------+--------------------+--------------------+\n",
      "|Adam Sandler|      50 First Dates|[tell, hawaii, un...|\n",
      "|Adam Sandler|            Airheads|[oh, yeah, pinhea...|\n",
      "|Adam Sandler|    Anger Management|[font, color, ora...|\n",
      "|Adam Sandler|     Bedtime Stories|[man, m, going, t...|\n",
      "|Adam Sandler|           Big Daddy|[hello, sonny, da...|\n",
      "|Adam Sandler|       Billy Madison|[suntan, lotion, ...|\n",
      "|Adam Sandler|             Blended|[yes, uh, huh, m,...|\n",
      "|Adam Sandler|         Bulletproof|[believe, america...|\n",
      "|Adam Sandler|               Click|[advertise, produ...|\n",
      "|Adam Sandler|           Coneheads|[copy, roger, cap...|\n",
      "|Adam Sandler|          Dirty Work|[hand, milk, mone...|\n",
      "|Adam Sandler|  Eight Crazy Nights|[well, right, loo...|\n",
      "|Adam Sandler|        Funny People|[hello, ladies, l...|\n",
      "|Adam Sandler|         Grown Ups 2|[font, color, d90...|\n",
      "|Adam Sandler|           Grown Ups|[double, dribble,...|\n",
      "|Adam Sandler|       Happy Gilmore|[happy, gilmore, ...|\n",
      "|Adam Sandler|Hotel Transylvania 2|[welcome, welcome...|\n",
      "|Adam Sandler|  Hotel Transylvania|[peek, boo, didn,...|\n",
      "|Adam Sandler|I Now Pronounce Y...|[yo, gonna, show,...|\n",
      "|Adam Sandler|       Jack and Jill|[born, september,...|\n",
      "+------------+--------------------+--------------------+\n",
      "only showing top 20 rows\n",
      "\n"
     ]
    }
   ],
   "source": [
    "sanitized = sanitized.select(\"actor\", \"movie_name\", \"sanitized_script\")\n",
    "sanitized.show()"
   ]
  },
  {
   "cell_type": "code",
   "execution_count": null,
   "metadata": {},
   "outputs": [],
   "source": []
  },
  {
   "cell_type": "code",
   "execution_count": null,
   "metadata": {},
   "outputs": [],
   "source": []
  },
  {
   "cell_type": "code",
   "execution_count": null,
   "metadata": {},
   "outputs": [],
   "source": []
  },
  {
   "cell_type": "code",
   "execution_count": null,
   "metadata": {},
   "outputs": [],
   "source": []
  },
  {
   "cell_type": "code",
   "execution_count": null,
   "metadata": {},
   "outputs": [],
   "source": []
  }
 ],
 "metadata": {
  "kernelspec": {
   "display_name": "Python 3",
   "language": "python",
   "name": "python3"
  },
  "language_info": {
   "codemirror_mode": {
    "name": "ipython",
    "version": 3
   },
   "file_extension": ".py",
   "mimetype": "text/x-python",
   "name": "python",
   "nbconvert_exporter": "python",
   "pygments_lexer": "ipython3",
   "version": "3.8.3"
  }
 },
 "nbformat": 4,
 "nbformat_minor": 4
}
