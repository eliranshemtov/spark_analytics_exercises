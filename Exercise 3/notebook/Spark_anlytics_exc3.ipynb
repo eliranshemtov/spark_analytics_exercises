{
 "cells": [
  {
   "cell_type": "code",
   "execution_count": 268,
   "metadata": {},
   "outputs": [],
   "source": [
    "import pyspark\n",
    "import math\n",
    "import itertools\n",
    "import os\n",
    "from decimal import Decimal\n",
    "from operator import add\n",
    "sc = pyspark.SparkContext.getOrCreate()\n",
    "sqlContext = pyspark.sql.SQLContext(sc)"
   ]
  },
  {
   "cell_type": "markdown",
   "metadata": {},
   "source": [
    "# File Reading into DataFrame"
   ]
  },
  {
   "cell_type": "code",
   "execution_count": 269,
   "metadata": {},
   "outputs": [],
   "source": [
    "scripts_directory = '/usr/data/movie_scripts/'\n",
    "files_list = os.listdir(scripts_directory)\n",
    "files_list_rdd = sc.parallelize(files_list)"
   ]
  },
  {
   "cell_type": "code",
   "execution_count": 270,
   "metadata": {},
   "outputs": [
    {
     "name": "stdout",
     "output_type": "stream",
     "text": [
      "+------------+--------------------+--------------------+\n",
      "|       actor|          movie_name|              script|\n",
      "+------------+--------------------+--------------------+\n",
      "|Adam Sandler|      50 First Dates|So tell me. How w...|\n",
      "|Adam Sandler|            Airheads|Oh, yeah! That wa...|\n",
      "|Adam Sandler|    Anger Management|<font color=orang...|\n",
      "|Adam Sandler|     Bedtime Stories|[man] I'm going t...|\n",
      "|Adam Sandler|           Big Daddy|- Hello? - Sonny,...|\n",
      "|Adam Sandler|       Billy Madison|~ Suntan lotion i...|\n",
      "|Adam Sandler|             Blended|Yes. Uh-huh. I'm ...|\n",
      "|Adam Sandler|         Bulletproof|I believe in Amer...|\n",
      "|Adam Sandler|               Click|Advertise your pr...|\n",
      "|Adam Sandler|           Coneheads|Do you copy? - Ro...|\n",
      "|Adam Sandler|          Dirty Work|Hand over the mil...|\n",
      "|Adam Sandler|  Eight Crazy Nights|Well, all right. ...|\n",
      "|Adam Sandler|        Funny People|Hello, ladies. So...|\n",
      "|Adam Sandler|         Grown Ups 2|<font color=\"#D90...|\n",
      "|Adam Sandler|           Grown Ups|Double dribble. W...|\n",
      "|Adam Sandler|       Happy Gilmore|HAPPY GILMORE My ...|\n",
      "|Adam Sandler|Hotel Transylvania 2|Welcome! Welcome!...|\n",
      "|Adam Sandler|  Hotel Transylvania|Peek-a-boo! No, n...|\n",
      "|Adam Sandler|I Now Pronounce Y...|So? Yo. You gonna...|\n",
      "|Adam Sandler|       Jack and Jill|BOTH: And we were...|\n",
      "+------------+--------------------+--------------------+\n",
      "only showing top 20 rows\n",
      "\n"
     ]
    }
   ],
   "source": [
    "def map_script_to_meta(filename):\n",
    "    if \"txt\" not in filename:\n",
    "        return []\n",
    "    script = open(scripts_directory + filename, 'r', encoding='utf8').read()\n",
    "    actor, movie = filename[:-4].split(\"_\")\n",
    "    return [Row(actor=actor, movie_name=movie, script=script)]\n",
    "\n",
    "scripts_df = rdd.flatMap(map_script_to_meta).toDF()\n",
    "scripts_df.show()"
   ]
  },
  {
   "cell_type": "markdown",
   "metadata": {},
   "source": [
    "# Characters Sanitation and Tokenization"
   ]
  },
  {
   "cell_type": "code",
   "execution_count": 271,
   "metadata": {
    "scrolled": true
   },
   "outputs": [
    {
     "name": "stdout",
     "output_type": "stream",
     "text": [
      "+------------+--------------------+--------------------+--------------------+------------+\n",
      "|       actor|          movie_name|              script|    tokenized_script|tokens_count|\n",
      "+------------+--------------------+--------------------+--------------------+------------+\n",
      "|Adam Sandler|      50 First Dates|So tell me. How w...|[so, tell, me, ho...|        9853|\n",
      "|Adam Sandler|            Airheads|Oh, yeah! That wa...|[oh, yeah, that, ...|       10230|\n",
      "|Adam Sandler|    Anger Management|<font color=orang...|[font, color, ora...|       12020|\n",
      "|Adam Sandler|     Bedtime Stories|[man] I'm going t...|[man, i, m, going...|       12265|\n",
      "|Adam Sandler|           Big Daddy|- Hello? - Sonny,...|[hello, sonny, it...|       10934|\n",
      "|Adam Sandler|       Billy Madison|~ Suntan lotion i...|[suntan, lotion, ...|        8081|\n",
      "|Adam Sandler|             Blended|Yes. Uh-huh. I'm ...|[yes, uh, huh, i,...|       12809|\n",
      "|Adam Sandler|         Bulletproof|I believe in Amer...|[i, believe, in, ...|        7295|\n",
      "|Adam Sandler|               Click|Advertise your pr...|[advertise, your,...|       11405|\n",
      "|Adam Sandler|           Coneheads|Do you copy? - Ro...|[do, you, copy, r...|        7257|\n",
      "|Adam Sandler|          Dirty Work|Hand over the mil...|[hand, over, the,...|        9042|\n",
      "|Adam Sandler|  Eight Crazy Nights|Well, all right. ...|[well, all, right...|        8118|\n",
      "|Adam Sandler|        Funny People|Hello, ladies. So...|[hello, ladies, s...|       11870|\n",
      "|Adam Sandler|         Grown Ups 2|<font color=\"#D90...|[font, color, d90...|       14039|\n",
      "|Adam Sandler|           Grown Ups|Double dribble. W...|[double, dribble,...|       12878|\n",
      "|Adam Sandler|       Happy Gilmore|HAPPY GILMORE My ...|[happy, gilmore, ...|        8045|\n",
      "|Adam Sandler|Hotel Transylvania 2|Welcome! Welcome!...|[welcome, welcome...|        8260|\n",
      "|Adam Sandler|  Hotel Transylvania|Peek-a-boo! No, n...|[peek, a, boo, no...|        8997|\n",
      "|Adam Sandler|I Now Pronounce Y...|So? Yo. You gonna...|[so, yo, you, gon...|        7102|\n",
      "|Adam Sandler|       Jack and Jill|BOTH: And we were...|[both, and, we, w...|       14490|\n",
      "+------------+--------------------+--------------------+--------------------+------------+\n",
      "only showing top 20 rows\n",
      "\n"
     ]
    }
   ],
   "source": [
    "from pyspark.ml.feature import Tokenizer,  RegexTokenizer\n",
    "from pyspark.sql.functions import col, udf\n",
    "from pyspark.sql.types import IntegerType\n",
    "\n",
    "tokenizer = Tokenizer(inputCol=\"script\", outputCol=\"tokenized_script\")\n",
    "count_tokens = udf(lambda words: len(words), IntegerType())\n",
    "tokenized = tokenizer.transform(scripts_df)\n",
    "regexTokenized = regexTokenizer.transform(scripts_df)\n",
    "tokenized = regexTokenized.select(\"actor\", \"movie_name\", \"script\", \"tokenized_script\").withColumn(\"tokens_count\", count_tokens(col(\"tokenized_script\")))\n",
    "tokenized.show()"
   ]
  },
  {
   "cell_type": "markdown",
   "metadata": {},
   "source": [
    "# Stop-Word Sanitation"
   ]
  },
  {
   "cell_type": "code",
   "execution_count": 272,
   "metadata": {},
   "outputs": [
    {
     "name": "stdout",
     "output_type": "stream",
     "text": [
      "+------------+--------------------+--------------------+--------------------+------------+--------------------+---------------+\n",
      "|       actor|          movie_name|              script|    tokenized_script|tokens_count|    sanitized_script|sanitized_count|\n",
      "+------------+--------------------+--------------------+--------------------+------------+--------------------+---------------+\n",
      "|Adam Sandler|      50 First Dates|So tell me. How w...|[so, tell, me, ho...|        9853|[tell, hawaii, un...|           4650|\n",
      "|Adam Sandler|            Airheads|Oh, yeah! That wa...|[oh, yeah, that, ...|       10230|[oh, yeah, pinhea...|           5013|\n",
      "|Adam Sandler|    Anger Management|<font color=orang...|[font, color, ora...|       12020|[font, color, ora...|           5941|\n",
      "|Adam Sandler|     Bedtime Stories|[man] I'm going t...|[man, i, m, going...|       12265|[man, m, going, t...|           6368|\n",
      "|Adam Sandler|           Big Daddy|- Hello? - Sonny,...|[hello, sonny, it...|       10934|[hello, sonny, da...|           5083|\n",
      "|Adam Sandler|       Billy Madison|~ Suntan lotion i...|[suntan, lotion, ...|        8081|[suntan, lotion, ...|           4162|\n",
      "|Adam Sandler|             Blended|Yes. Uh-huh. I'm ...|[yes, uh, huh, i,...|       12809|[yes, uh, huh, m,...|           6180|\n",
      "|Adam Sandler|         Bulletproof|I believe in Amer...|[i, believe, in, ...|        7295|[believe, america...|           3288|\n",
      "|Adam Sandler|               Click|Advertise your pr...|[advertise, your,...|       11405|[advertise, produ...|           5575|\n",
      "|Adam Sandler|           Coneheads|Do you copy? - Ro...|[do, you, copy, r...|        7257|[copy, roger, cap...|           3748|\n",
      "|Adam Sandler|          Dirty Work|Hand over the mil...|[hand, over, the,...|        9042|[hand, milk, mone...|           4376|\n",
      "|Adam Sandler|  Eight Crazy Nights|Well, all right. ...|[well, all, right...|        8118|[well, right, loo...|           3949|\n",
      "|Adam Sandler|        Funny People|Hello, ladies. So...|[hello, ladies, s...|       11870|[hello, ladies, l...|           5553|\n",
      "|Adam Sandler|         Grown Ups 2|<font color=\"#D90...|[font, color, d90...|       14039|[font, color, d90...|           7548|\n",
      "|Adam Sandler|           Grown Ups|Double dribble. W...|[double, dribble,...|       12878|[double, dribble,...|           6763|\n",
      "|Adam Sandler|       Happy Gilmore|HAPPY GILMORE My ...|[happy, gilmore, ...|        8045|[happy, gilmore, ...|           3935|\n",
      "|Adam Sandler|Hotel Transylvania 2|Welcome! Welcome!...|[welcome, welcome...|        8260|[welcome, welcome...|           4033|\n",
      "|Adam Sandler|  Hotel Transylvania|Peek-a-boo! No, n...|[peek, a, boo, no...|        8997|[peek, boo, didn,...|           4272|\n",
      "|Adam Sandler|I Now Pronounce Y...|So? Yo. You gonna...|[so, yo, you, gon...|        7102|[yo, gonna, show,...|           3419|\n",
      "|Adam Sandler|       Jack and Jill|BOTH: And we were...|[both, and, we, w...|       14490|[born, september,...|           6884|\n",
      "+------------+--------------------+--------------------+--------------------+------------+--------------------+---------------+\n",
      "only showing top 20 rows\n",
      "\n"
     ]
    }
   ],
   "source": [
    "from pyspark.ml.feature import StopWordsRemover\n",
    "\n",
    "stop_word_remover = StopWordsRemover(inputCol=\"tokenized_script\", outputCol=\"sanitized_script\")\n",
    "sanitized = stop_word_remover.transform(tokenized)\n",
    "sanitized = sanitized.select(\"actor\", \"movie_name\", \"script\", \"tokenized_script\", \"tokens_count\", \"sanitized_script\").withColumn(\"sanitized_count\", count_tokens(col(\"sanitized_script\")))\n",
    "sanitized.show()"
   ]
  },
  {
   "cell_type": "markdown",
   "metadata": {},
   "source": [
    "# Selecting Only What Really Matters\n",
    "And adding an ID column"
   ]
  },
  {
   "cell_type": "code",
   "execution_count": 290,
   "metadata": {
    "scrolled": true
   },
   "outputs": [
    {
     "name": "stdout",
     "output_type": "stream",
     "text": [
      "+---+------------+--------------------+--------------------+\n",
      "| id|       actor|          movie_name|    sanitized_script|\n",
      "+---+------------+--------------------+--------------------+\n",
      "|  0|Adam Sandler|      50 First Dates|[tell, hawaii, un...|\n",
      "|  1|Adam Sandler|            Airheads|[oh, yeah, pinhea...|\n",
      "|  2|Adam Sandler|    Anger Management|[font, color, ora...|\n",
      "|  3|Adam Sandler|     Bedtime Stories|[man, m, going, t...|\n",
      "|  4|Adam Sandler|           Big Daddy|[hello, sonny, da...|\n",
      "|  5|Adam Sandler|       Billy Madison|[suntan, lotion, ...|\n",
      "|  6|Adam Sandler|             Blended|[yes, uh, huh, m,...|\n",
      "|  7|Adam Sandler|         Bulletproof|[believe, america...|\n",
      "|  8|Adam Sandler|               Click|[advertise, produ...|\n",
      "|  9|Adam Sandler|           Coneheads|[copy, roger, cap...|\n",
      "| 10|Adam Sandler|          Dirty Work|[hand, milk, mone...|\n",
      "| 11|Adam Sandler|  Eight Crazy Nights|[well, right, loo...|\n",
      "| 12|Adam Sandler|        Funny People|[hello, ladies, l...|\n",
      "| 13|Adam Sandler|         Grown Ups 2|[font, color, d90...|\n",
      "| 14|Adam Sandler|           Grown Ups|[double, dribble,...|\n",
      "| 15|Adam Sandler|       Happy Gilmore|[happy, gilmore, ...|\n",
      "| 16|Adam Sandler|Hotel Transylvania 2|[welcome, welcome...|\n",
      "| 17|Adam Sandler|  Hotel Transylvania|[peek, boo, didn,...|\n",
      "| 18|Adam Sandler|I Now Pronounce Y...|[yo, gonna, show,...|\n",
      "| 19|Adam Sandler|       Jack and Jill|[born, september,...|\n",
      "+---+------------+--------------------+--------------------+\n",
      "only showing top 20 rows\n",
      "\n"
     ]
    }
   ],
   "source": [
    "from pyspark.sql.functions import monotonically_increasing_id\n",
    "\n",
    "sanitized = sanitized.select(monotonically_increasing_id().alias('id'), \"actor\", \"movie_name\", \"sanitized_script\")\n",
    "sanitized.show()"
   ]
  },
  {
   "cell_type": "markdown",
   "metadata": {},
   "source": [
    "# Creating An Inverted Index"
   ]
  },
  {
   "cell_type": "code",
   "execution_count": 313,
   "metadata": {
    "scrolled": true
   },
   "outputs": [
    {
     "name": "stdout",
     "output_type": "stream",
     "text": [
      "outputs a list of dicts, of the following form: \n",
      " [{'tell': [0],'hawaii': [0],'unbelievable': [0],'oh': [0],'yeah': [0],'well': [0]},'happened': [1],'met': [1],'guy': [1],'best': [1],'week': [1],'life': [1],\n"
     ]
    }
   ],
   "source": [
    "def create_index (row):\n",
    "    index = {}\n",
    "    for token in row[3]:\n",
    "        if row[0] not in index.get(token, []):\n",
    "            if index.get(token):\n",
    "                index[token].append(row[0])\n",
    "            else:\n",
    "                index[token] = [row[0]]\n",
    "    return index\n",
    "\n",
    "indexes_per_doc = sanitized.rdd.map(create_index)\n",
    "print(f\"outputs a list of dicts, of the following form: \\n \"\n",
    "          \"[{'tell': [0],\"\n",
    "              \"'hawaii': [0],\"\n",
    "              \"'unbelievable': [0],\"\n",
    "              \"'oh': [0],\"\n",
    "              \"'yeah': [0],\"\n",
    "              \"'well': [0]},\"\n",
    "              \"'happened': [1],\"\n",
    "              \"'met': [1],\"\n",
    "              \"'guy': [1],\"\n",
    "              \"'best': [1],\"\n",
    "              \"'week': [1],\"\n",
    "              \"'life': [1],\")"
   ]
  },
  {
   "cell_type": "code",
   "execution_count": 306,
   "metadata": {
    "scrolled": false
   },
   "outputs": [
    {
     "data": {
      "text/plain": [
       "[('tell', [0]),\n",
       " ('hawaii', [0]),\n",
       " ('unbelievable', [0]),\n",
       " ('oh', [0]),\n",
       " ('yeah', [0]),\n",
       " ('well', [0]),\n",
       " ('happened', [0]),\n",
       " ('met', [0]),\n",
       " ('guy', [0]),\n",
       " ('best', [0])]"
      ]
     },
     "execution_count": 306,
     "metadata": {},
     "output_type": "execute_result"
    }
   ],
   "source": [
    "flattened = indexes_per_doc.flatMap(lambda doc: (doc.items()))\n",
    "flattened.take(10)"
   ]
  },
  {
   "cell_type": "code",
   "execution_count": 308,
   "metadata": {},
   "outputs": [
    {
     "name": "stdout",
     "output_type": "stream",
     "text": [
      "+----------+--------------------+\n",
      "|     token|                docs|\n",
      "+----------+--------------------+\n",
      "|      tell|[0, 1, 2, 3, 4, 5...|\n",
      "|  happened|[0, 1, 2, 3, 4, 5...|\n",
      "|      best|[0, 1, 2, 3, 4, 5...|\n",
      "|snorkeling|                 [0]|\n",
      "|       got|[0, 1, 2, 3, 4, 5...|\n",
      "|    danced|[0, 11, 40, 17179...|\n",
      "|      rain|[0, 1, 3, 4, 6, 1...|\n",
      "|      wasn|[0, 2, 3, 4, 5, 6...|\n",
      "|   pounded|    [0, 25769803824]|\n",
      "|      like|[0, 1, 2, 3, 4, 5...|\n",
      "|   mallard|                 [0]|\n",
      "|      duck|[0, 3, 5, 8, 10, ...|\n",
      "|   married|[0, 1, 4, 6, 7, 8...|\n",
      "|   believe|[0, 1, 2, 3, 4, 5...|\n",
      "|    phones|[0, 1, 3, 13, 14,...|\n",
      "|      away|[0, 1, 2, 3, 4, 5...|\n",
      "|     fling|[0, 17, 20, 31, 5...|\n",
      "|     agent|[0, 14, 19, 22, 2...|\n",
      "|    couldn|[0, 1, 2, 3, 4, 5...|\n",
      "|  sleeping|[0, 2, 3, 4, 6, 7...|\n",
      "+----------+--------------------+\n",
      "only showing top 20 rows\n",
      "\n"
     ]
    }
   ],
   "source": [
    "inverted_index = flattened.reduceByKey(lambda a, b: a+b)\n",
    "inverted_index.toDF([\"token\", \"docs\"]).show()"
   ]
  },
  {
   "cell_type": "markdown",
   "metadata": {},
   "source": [
    "# TF\n",
    "### Term Frequency"
   ]
  },
  {
   "cell_type": "code",
   "execution_count": 192,
   "metadata": {},
   "outputs": [],
   "source": [
    "def invert_doc(tokens_list):\n",
    "    inverted_index = {}\n",
    "    for token in tokens_list:\n",
    "        inverted_index[token] = inverted_index.get(token, 0) + 1\n",
    "    return inverted_index"
   ]
  },
  {
   "cell_type": "code",
   "execution_count": 314,
   "metadata": {},
   "outputs": [],
   "source": [
    "# sanitized.rdd.map(lambda row: row[2]).map(invert_doc).take(2)"
   ]
  }
 ],
 "metadata": {
  "kernelspec": {
   "display_name": "Python 3",
   "language": "python",
   "name": "python3"
  },
  "language_info": {
   "codemirror_mode": {
    "name": "ipython",
    "version": 3
   },
   "file_extension": ".py",
   "mimetype": "text/x-python",
   "name": "python",
   "nbconvert_exporter": "python",
   "pygments_lexer": "ipython3",
   "version": "3.8.3"
  }
 },
 "nbformat": 4,
 "nbformat_minor": 4
}
